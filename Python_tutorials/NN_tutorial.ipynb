{
  "nbformat": 4,
  "nbformat_minor": 0,
  "metadata": {
    "colab": {
      "name": "NN_tutorial.ipynb",
      "provenance": [],
      "collapsed_sections": [
        "1BHMvLELQPEP",
        "2Ke3a2YSLwW3"
      ],
      "authorship_tag": "ABX9TyMrM/r+ISGMpl8lhQko4BMB",
      "include_colab_link": true
    },
    "kernelspec": {
      "name": "python3",
      "display_name": "Python 3"
    },
    "accelerator": "GPU",
    "widgets": {
      "application/vnd.jupyter.widget-state+json": {
        "32ab16c999c64bb6b3e814ac103d1600": {
          "model_module": "@jupyter-widgets/controls",
          "model_name": "HBoxModel",
          "state": {
            "_view_name": "HBoxView",
            "_dom_classes": [],
            "_model_name": "HBoxModel",
            "_view_module": "@jupyter-widgets/controls",
            "_model_module_version": "1.5.0",
            "_view_count": null,
            "_view_module_version": "1.5.0",
            "box_style": "",
            "layout": "IPY_MODEL_08c5c7a9fed346e3a6073449da357fca",
            "_model_module": "@jupyter-widgets/controls",
            "children": [
              "IPY_MODEL_db297fccdee84c6297863ba837235339",
              "IPY_MODEL_f18d65ad36a14d72964ab8fdaa8fbdbb"
            ]
          }
        },
        "08c5c7a9fed346e3a6073449da357fca": {
          "model_module": "@jupyter-widgets/base",
          "model_name": "LayoutModel",
          "state": {
            "_view_name": "LayoutView",
            "grid_template_rows": null,
            "right": null,
            "justify_content": null,
            "_view_module": "@jupyter-widgets/base",
            "overflow": null,
            "_model_module_version": "1.2.0",
            "_view_count": null,
            "flex_flow": null,
            "width": null,
            "min_width": null,
            "border": null,
            "align_items": null,
            "bottom": null,
            "_model_module": "@jupyter-widgets/base",
            "top": null,
            "grid_column": null,
            "overflow_y": null,
            "overflow_x": null,
            "grid_auto_flow": null,
            "grid_area": null,
            "grid_template_columns": null,
            "flex": null,
            "_model_name": "LayoutModel",
            "justify_items": null,
            "grid_row": null,
            "max_height": null,
            "align_content": null,
            "visibility": null,
            "align_self": null,
            "height": null,
            "min_height": null,
            "padding": null,
            "grid_auto_rows": null,
            "grid_gap": null,
            "max_width": null,
            "order": null,
            "_view_module_version": "1.2.0",
            "grid_template_areas": null,
            "object_position": null,
            "object_fit": null,
            "grid_auto_columns": null,
            "margin": null,
            "display": null,
            "left": null
          }
        },
        "db297fccdee84c6297863ba837235339": {
          "model_module": "@jupyter-widgets/controls",
          "model_name": "FloatProgressModel",
          "state": {
            "_view_name": "ProgressView",
            "style": "IPY_MODEL_a0a8861b398742df9c9a12777d224f2b",
            "_dom_classes": [],
            "description": "Epochs: 100%",
            "_model_name": "FloatProgressModel",
            "bar_style": "success",
            "max": 200,
            "_view_module": "@jupyter-widgets/controls",
            "_model_module_version": "1.5.0",
            "value": 200,
            "_view_count": null,
            "_view_module_version": "1.5.0",
            "orientation": "horizontal",
            "min": 0,
            "description_tooltip": null,
            "_model_module": "@jupyter-widgets/controls",
            "layout": "IPY_MODEL_17f5a10a1453488b993753ffa6954903"
          }
        },
        "f18d65ad36a14d72964ab8fdaa8fbdbb": {
          "model_module": "@jupyter-widgets/controls",
          "model_name": "HTMLModel",
          "state": {
            "_view_name": "HTMLView",
            "style": "IPY_MODEL_456df49d980349e7af022648e7d93183",
            "_dom_classes": [],
            "description": "",
            "_model_name": "HTMLModel",
            "placeholder": "​",
            "_view_module": "@jupyter-widgets/controls",
            "_model_module_version": "1.5.0",
            "value": " 200/200 [2:15:40&lt;00:00, 40.70s/it, acc=1, loss=0.0223, val_acc=0.2, val_loss=9.53]",
            "_view_count": null,
            "_view_module_version": "1.5.0",
            "description_tooltip": null,
            "_model_module": "@jupyter-widgets/controls",
            "layout": "IPY_MODEL_4c723ca5dda04b8b899987561c1ccde1"
          }
        },
        "a0a8861b398742df9c9a12777d224f2b": {
          "model_module": "@jupyter-widgets/controls",
          "model_name": "ProgressStyleModel",
          "state": {
            "_view_name": "StyleView",
            "_model_name": "ProgressStyleModel",
            "description_width": "initial",
            "_view_module": "@jupyter-widgets/base",
            "_model_module_version": "1.5.0",
            "_view_count": null,
            "_view_module_version": "1.2.0",
            "bar_color": null,
            "_model_module": "@jupyter-widgets/controls"
          }
        },
        "17f5a10a1453488b993753ffa6954903": {
          "model_module": "@jupyter-widgets/base",
          "model_name": "LayoutModel",
          "state": {
            "_view_name": "LayoutView",
            "grid_template_rows": null,
            "right": null,
            "justify_content": null,
            "_view_module": "@jupyter-widgets/base",
            "overflow": null,
            "_model_module_version": "1.2.0",
            "_view_count": null,
            "flex_flow": null,
            "width": null,
            "min_width": null,
            "border": null,
            "align_items": null,
            "bottom": null,
            "_model_module": "@jupyter-widgets/base",
            "top": null,
            "grid_column": null,
            "overflow_y": null,
            "overflow_x": null,
            "grid_auto_flow": null,
            "grid_area": null,
            "grid_template_columns": null,
            "flex": null,
            "_model_name": "LayoutModel",
            "justify_items": null,
            "grid_row": null,
            "max_height": null,
            "align_content": null,
            "visibility": null,
            "align_self": null,
            "height": null,
            "min_height": null,
            "padding": null,
            "grid_auto_rows": null,
            "grid_gap": null,
            "max_width": null,
            "order": null,
            "_view_module_version": "1.2.0",
            "grid_template_areas": null,
            "object_position": null,
            "object_fit": null,
            "grid_auto_columns": null,
            "margin": null,
            "display": null,
            "left": null
          }
        },
        "456df49d980349e7af022648e7d93183": {
          "model_module": "@jupyter-widgets/controls",
          "model_name": "DescriptionStyleModel",
          "state": {
            "_view_name": "StyleView",
            "_model_name": "DescriptionStyleModel",
            "description_width": "",
            "_view_module": "@jupyter-widgets/base",
            "_model_module_version": "1.5.0",
            "_view_count": null,
            "_view_module_version": "1.2.0",
            "_model_module": "@jupyter-widgets/controls"
          }
        },
        "4c723ca5dda04b8b899987561c1ccde1": {
          "model_module": "@jupyter-widgets/base",
          "model_name": "LayoutModel",
          "state": {
            "_view_name": "LayoutView",
            "grid_template_rows": null,
            "right": null,
            "justify_content": null,
            "_view_module": "@jupyter-widgets/base",
            "overflow": null,
            "_model_module_version": "1.2.0",
            "_view_count": null,
            "flex_flow": null,
            "width": null,
            "min_width": null,
            "border": null,
            "align_items": null,
            "bottom": null,
            "_model_module": "@jupyter-widgets/base",
            "top": null,
            "grid_column": null,
            "overflow_y": null,
            "overflow_x": null,
            "grid_auto_flow": null,
            "grid_area": null,
            "grid_template_columns": null,
            "flex": null,
            "_model_name": "LayoutModel",
            "justify_items": null,
            "grid_row": null,
            "max_height": null,
            "align_content": null,
            "visibility": null,
            "align_self": null,
            "height": null,
            "min_height": null,
            "padding": null,
            "grid_auto_rows": null,
            "grid_gap": null,
            "max_width": null,
            "order": null,
            "_view_module_version": "1.2.0",
            "grid_template_areas": null,
            "object_position": null,
            "object_fit": null,
            "grid_auto_columns": null,
            "margin": null,
            "display": null,
            "left": null
          }
        },
        "5db3d621b09f43e5b455c5a1cef5bf25": {
          "model_module": "@jupyter-widgets/controls",
          "model_name": "HBoxModel",
          "state": {
            "_view_name": "HBoxView",
            "_dom_classes": [],
            "_model_name": "HBoxModel",
            "_view_module": "@jupyter-widgets/controls",
            "_model_module_version": "1.5.0",
            "_view_count": null,
            "_view_module_version": "1.5.0",
            "box_style": "",
            "layout": "IPY_MODEL_e1e9b3c9414242a6b6509dd472711ba1",
            "_model_module": "@jupyter-widgets/controls",
            "children": [
              "IPY_MODEL_08e3bc67e65c43f0bce86c1506f27c47",
              "IPY_MODEL_f679370a50914dc79b7ad44189664ae8"
            ]
          }
        },
        "e1e9b3c9414242a6b6509dd472711ba1": {
          "model_module": "@jupyter-widgets/base",
          "model_name": "LayoutModel",
          "state": {
            "_view_name": "LayoutView",
            "grid_template_rows": null,
            "right": null,
            "justify_content": null,
            "_view_module": "@jupyter-widgets/base",
            "overflow": null,
            "_model_module_version": "1.2.0",
            "_view_count": null,
            "flex_flow": null,
            "width": null,
            "min_width": null,
            "border": null,
            "align_items": null,
            "bottom": null,
            "_model_module": "@jupyter-widgets/base",
            "top": null,
            "grid_column": null,
            "overflow_y": null,
            "overflow_x": null,
            "grid_auto_flow": null,
            "grid_area": null,
            "grid_template_columns": null,
            "flex": null,
            "_model_name": "LayoutModel",
            "justify_items": null,
            "grid_row": null,
            "max_height": null,
            "align_content": null,
            "visibility": null,
            "align_self": null,
            "height": null,
            "min_height": null,
            "padding": null,
            "grid_auto_rows": null,
            "grid_gap": null,
            "max_width": null,
            "order": null,
            "_view_module_version": "1.2.0",
            "grid_template_areas": null,
            "object_position": null,
            "object_fit": null,
            "grid_auto_columns": null,
            "margin": null,
            "display": null,
            "left": null
          }
        },
        "08e3bc67e65c43f0bce86c1506f27c47": {
          "model_module": "@jupyter-widgets/controls",
          "model_name": "FloatProgressModel",
          "state": {
            "_view_name": "ProgressView",
            "style": "IPY_MODEL_a611d7b3d1b74acfb0f00c14184bdfad",
            "_dom_classes": [],
            "description": "Batch: 100%",
            "_model_name": "FloatProgressModel",
            "bar_style": "success",
            "max": 1,
            "_view_module": "@jupyter-widgets/controls",
            "_model_module_version": "1.5.0",
            "value": 1,
            "_view_count": null,
            "_view_module_version": "1.5.0",
            "orientation": "horizontal",
            "min": 0,
            "description_tooltip": null,
            "_model_module": "@jupyter-widgets/controls",
            "layout": "IPY_MODEL_f1e21ec61b76482db62d92d94f475a6c"
          }
        },
        "f679370a50914dc79b7ad44189664ae8": {
          "model_module": "@jupyter-widgets/controls",
          "model_name": "HTMLModel",
          "state": {
            "_view_name": "HTMLView",
            "style": "IPY_MODEL_c9c481ea30674b648ebf4efbd7429957",
            "_dom_classes": [],
            "description": "",
            "_model_name": "HTMLModel",
            "placeholder": "​",
            "_view_module": "@jupyter-widgets/controls",
            "_model_module_version": "1.5.0",
            "value": " 1/1 [00:12&lt;00:00, 12.93s/it]",
            "_view_count": null,
            "_view_module_version": "1.5.0",
            "description_tooltip": null,
            "_model_module": "@jupyter-widgets/controls",
            "layout": "IPY_MODEL_9766230b646a4a7fb0cd796f468a478d"
          }
        },
        "a611d7b3d1b74acfb0f00c14184bdfad": {
          "model_module": "@jupyter-widgets/controls",
          "model_name": "ProgressStyleModel",
          "state": {
            "_view_name": "StyleView",
            "_model_name": "ProgressStyleModel",
            "description_width": "initial",
            "_view_module": "@jupyter-widgets/base",
            "_model_module_version": "1.5.0",
            "_view_count": null,
            "_view_module_version": "1.2.0",
            "bar_color": null,
            "_model_module": "@jupyter-widgets/controls"
          }
        },
        "f1e21ec61b76482db62d92d94f475a6c": {
          "model_module": "@jupyter-widgets/base",
          "model_name": "LayoutModel",
          "state": {
            "_view_name": "LayoutView",
            "grid_template_rows": null,
            "right": null,
            "justify_content": null,
            "_view_module": "@jupyter-widgets/base",
            "overflow": null,
            "_model_module_version": "1.2.0",
            "_view_count": null,
            "flex_flow": null,
            "width": null,
            "min_width": null,
            "border": null,
            "align_items": null,
            "bottom": null,
            "_model_module": "@jupyter-widgets/base",
            "top": null,
            "grid_column": null,
            "overflow_y": null,
            "overflow_x": null,
            "grid_auto_flow": null,
            "grid_area": null,
            "grid_template_columns": null,
            "flex": null,
            "_model_name": "LayoutModel",
            "justify_items": null,
            "grid_row": null,
            "max_height": null,
            "align_content": null,
            "visibility": null,
            "align_self": null,
            "height": null,
            "min_height": null,
            "padding": null,
            "grid_auto_rows": null,
            "grid_gap": null,
            "max_width": null,
            "order": null,
            "_view_module_version": "1.2.0",
            "grid_template_areas": null,
            "object_position": null,
            "object_fit": null,
            "grid_auto_columns": null,
            "margin": null,
            "display": null,
            "left": null
          }
        },
        "c9c481ea30674b648ebf4efbd7429957": {
          "model_module": "@jupyter-widgets/controls",
          "model_name": "DescriptionStyleModel",
          "state": {
            "_view_name": "StyleView",
            "_model_name": "DescriptionStyleModel",
            "description_width": "",
            "_view_module": "@jupyter-widgets/base",
            "_model_module_version": "1.5.0",
            "_view_count": null,
            "_view_module_version": "1.2.0",
            "_model_module": "@jupyter-widgets/controls"
          }
        },
        "9766230b646a4a7fb0cd796f468a478d": {
          "model_module": "@jupyter-widgets/base",
          "model_name": "LayoutModel",
          "state": {
            "_view_name": "LayoutView",
            "grid_template_rows": null,
            "right": null,
            "justify_content": null,
            "_view_module": "@jupyter-widgets/base",
            "overflow": null,
            "_model_module_version": "1.2.0",
            "_view_count": null,
            "flex_flow": null,
            "width": null,
            "min_width": null,
            "border": null,
            "align_items": null,
            "bottom": null,
            "_model_module": "@jupyter-widgets/base",
            "top": null,
            "grid_column": null,
            "overflow_y": null,
            "overflow_x": null,
            "grid_auto_flow": null,
            "grid_area": null,
            "grid_template_columns": null,
            "flex": null,
            "_model_name": "LayoutModel",
            "justify_items": null,
            "grid_row": null,
            "max_height": null,
            "align_content": null,
            "visibility": null,
            "align_self": null,
            "height": null,
            "min_height": null,
            "padding": null,
            "grid_auto_rows": null,
            "grid_gap": null,
            "max_width": null,
            "order": null,
            "_view_module_version": "1.2.0",
            "grid_template_areas": null,
            "object_position": null,
            "object_fit": null,
            "grid_auto_columns": null,
            "margin": null,
            "display": null,
            "left": null
          }
        },
        "bd5407b362b34db68d81e35fd6064965": {
          "model_module": "@jupyter-widgets/controls",
          "model_name": "HBoxModel",
          "state": {
            "_view_name": "HBoxView",
            "_dom_classes": [],
            "_model_name": "HBoxModel",
            "_view_module": "@jupyter-widgets/controls",
            "_model_module_version": "1.5.0",
            "_view_count": null,
            "_view_module_version": "1.5.0",
            "box_style": "",
            "layout": "IPY_MODEL_9bbbfa0fc1d8472db0d86f1e9f867781",
            "_model_module": "@jupyter-widgets/controls",
            "children": [
              "IPY_MODEL_3bee5a47435f4c15a4908e327cdf4ee3",
              "IPY_MODEL_1580267c84f4496a909f9a3ee63d2d5e"
            ]
          }
        },
        "9bbbfa0fc1d8472db0d86f1e9f867781": {
          "model_module": "@jupyter-widgets/base",
          "model_name": "LayoutModel",
          "state": {
            "_view_name": "LayoutView",
            "grid_template_rows": null,
            "right": null,
            "justify_content": null,
            "_view_module": "@jupyter-widgets/base",
            "overflow": null,
            "_model_module_version": "1.2.0",
            "_view_count": null,
            "flex_flow": null,
            "width": null,
            "min_width": null,
            "border": null,
            "align_items": null,
            "bottom": null,
            "_model_module": "@jupyter-widgets/base",
            "top": null,
            "grid_column": null,
            "overflow_y": null,
            "overflow_x": null,
            "grid_auto_flow": null,
            "grid_area": null,
            "grid_template_columns": null,
            "flex": null,
            "_model_name": "LayoutModel",
            "justify_items": null,
            "grid_row": null,
            "max_height": null,
            "align_content": null,
            "visibility": null,
            "align_self": null,
            "height": null,
            "min_height": null,
            "padding": null,
            "grid_auto_rows": null,
            "grid_gap": null,
            "max_width": null,
            "order": null,
            "_view_module_version": "1.2.0",
            "grid_template_areas": null,
            "object_position": null,
            "object_fit": null,
            "grid_auto_columns": null,
            "margin": null,
            "display": null,
            "left": null
          }
        },
        "3bee5a47435f4c15a4908e327cdf4ee3": {
          "model_module": "@jupyter-widgets/controls",
          "model_name": "FloatProgressModel",
          "state": {
            "_view_name": "ProgressView",
            "style": "IPY_MODEL_6d1f391672b64e76abc009c6c5e8c91d",
            "_dom_classes": [],
            "description": "Epochs: 100%",
            "_model_name": "FloatProgressModel",
            "bar_style": "success",
            "max": 200,
            "_view_module": "@jupyter-widgets/controls",
            "_model_module_version": "1.5.0",
            "value": 200,
            "_view_count": null,
            "_view_module_version": "1.5.0",
            "orientation": "horizontal",
            "min": 0,
            "description_tooltip": null,
            "_model_module": "@jupyter-widgets/controls",
            "layout": "IPY_MODEL_ef01062aa68b48369f524c6b601cca5f"
          }
        },
        "1580267c84f4496a909f9a3ee63d2d5e": {
          "model_module": "@jupyter-widgets/controls",
          "model_name": "HTMLModel",
          "state": {
            "_view_name": "HTMLView",
            "style": "IPY_MODEL_b8db26040a324ef885a5802e9918c609",
            "_dom_classes": [],
            "description": "",
            "_model_name": "HTMLModel",
            "placeholder": "​",
            "_view_module": "@jupyter-widgets/controls",
            "_model_module_version": "1.5.0",
            "value": " 200/200 [00:41&lt;00:00,  4.88it/s, acc=1, loss=0.00378, val_acc=0.4, val_loss=7.12]",
            "_view_count": null,
            "_view_module_version": "1.5.0",
            "description_tooltip": null,
            "_model_module": "@jupyter-widgets/controls",
            "layout": "IPY_MODEL_a7c81f4b1bd1492ebb74723fc2232e3b"
          }
        },
        "6d1f391672b64e76abc009c6c5e8c91d": {
          "model_module": "@jupyter-widgets/controls",
          "model_name": "ProgressStyleModel",
          "state": {
            "_view_name": "StyleView",
            "_model_name": "ProgressStyleModel",
            "description_width": "initial",
            "_view_module": "@jupyter-widgets/base",
            "_model_module_version": "1.5.0",
            "_view_count": null,
            "_view_module_version": "1.2.0",
            "bar_color": null,
            "_model_module": "@jupyter-widgets/controls"
          }
        },
        "ef01062aa68b48369f524c6b601cca5f": {
          "model_module": "@jupyter-widgets/base",
          "model_name": "LayoutModel",
          "state": {
            "_view_name": "LayoutView",
            "grid_template_rows": null,
            "right": null,
            "justify_content": null,
            "_view_module": "@jupyter-widgets/base",
            "overflow": null,
            "_model_module_version": "1.2.0",
            "_view_count": null,
            "flex_flow": null,
            "width": null,
            "min_width": null,
            "border": null,
            "align_items": null,
            "bottom": null,
            "_model_module": "@jupyter-widgets/base",
            "top": null,
            "grid_column": null,
            "overflow_y": null,
            "overflow_x": null,
            "grid_auto_flow": null,
            "grid_area": null,
            "grid_template_columns": null,
            "flex": null,
            "_model_name": "LayoutModel",
            "justify_items": null,
            "grid_row": null,
            "max_height": null,
            "align_content": null,
            "visibility": null,
            "align_self": null,
            "height": null,
            "min_height": null,
            "padding": null,
            "grid_auto_rows": null,
            "grid_gap": null,
            "max_width": null,
            "order": null,
            "_view_module_version": "1.2.0",
            "grid_template_areas": null,
            "object_position": null,
            "object_fit": null,
            "grid_auto_columns": null,
            "margin": null,
            "display": null,
            "left": null
          }
        },
        "b8db26040a324ef885a5802e9918c609": {
          "model_module": "@jupyter-widgets/controls",
          "model_name": "DescriptionStyleModel",
          "state": {
            "_view_name": "StyleView",
            "_model_name": "DescriptionStyleModel",
            "description_width": "",
            "_view_module": "@jupyter-widgets/base",
            "_model_module_version": "1.5.0",
            "_view_count": null,
            "_view_module_version": "1.2.0",
            "_model_module": "@jupyter-widgets/controls"
          }
        },
        "a7c81f4b1bd1492ebb74723fc2232e3b": {
          "model_module": "@jupyter-widgets/base",
          "model_name": "LayoutModel",
          "state": {
            "_view_name": "LayoutView",
            "grid_template_rows": null,
            "right": null,
            "justify_content": null,
            "_view_module": "@jupyter-widgets/base",
            "overflow": null,
            "_model_module_version": "1.2.0",
            "_view_count": null,
            "flex_flow": null,
            "width": null,
            "min_width": null,
            "border": null,
            "align_items": null,
            "bottom": null,
            "_model_module": "@jupyter-widgets/base",
            "top": null,
            "grid_column": null,
            "overflow_y": null,
            "overflow_x": null,
            "grid_auto_flow": null,
            "grid_area": null,
            "grid_template_columns": null,
            "flex": null,
            "_model_name": "LayoutModel",
            "justify_items": null,
            "grid_row": null,
            "max_height": null,
            "align_content": null,
            "visibility": null,
            "align_self": null,
            "height": null,
            "min_height": null,
            "padding": null,
            "grid_auto_rows": null,
            "grid_gap": null,
            "max_width": null,
            "order": null,
            "_view_module_version": "1.2.0",
            "grid_template_areas": null,
            "object_position": null,
            "object_fit": null,
            "grid_auto_columns": null,
            "margin": null,
            "display": null,
            "left": null
          }
        },
        "705bf2b1ecc1491cab0019e728dcc5d3": {
          "model_module": "@jupyter-widgets/controls",
          "model_name": "HBoxModel",
          "state": {
            "_view_name": "HBoxView",
            "_dom_classes": [],
            "_model_name": "HBoxModel",
            "_view_module": "@jupyter-widgets/controls",
            "_model_module_version": "1.5.0",
            "_view_count": null,
            "_view_module_version": "1.5.0",
            "box_style": "",
            "layout": "IPY_MODEL_90dedb05c3fb49869dd2aed7424600d6",
            "_model_module": "@jupyter-widgets/controls",
            "children": [
              "IPY_MODEL_ddaab30bd3c04deaa5b093e090501550",
              "IPY_MODEL_3d8c7c2d0ee54b7e9fcd7b0456e63c82"
            ]
          }
        },
        "90dedb05c3fb49869dd2aed7424600d6": {
          "model_module": "@jupyter-widgets/base",
          "model_name": "LayoutModel",
          "state": {
            "_view_name": "LayoutView",
            "grid_template_rows": null,
            "right": null,
            "justify_content": null,
            "_view_module": "@jupyter-widgets/base",
            "overflow": null,
            "_model_module_version": "1.2.0",
            "_view_count": null,
            "flex_flow": null,
            "width": null,
            "min_width": null,
            "border": null,
            "align_items": null,
            "bottom": null,
            "_model_module": "@jupyter-widgets/base",
            "top": null,
            "grid_column": null,
            "overflow_y": null,
            "overflow_x": null,
            "grid_auto_flow": null,
            "grid_area": null,
            "grid_template_columns": null,
            "flex": null,
            "_model_name": "LayoutModel",
            "justify_items": null,
            "grid_row": null,
            "max_height": null,
            "align_content": null,
            "visibility": null,
            "align_self": null,
            "height": null,
            "min_height": null,
            "padding": null,
            "grid_auto_rows": null,
            "grid_gap": null,
            "max_width": null,
            "order": null,
            "_view_module_version": "1.2.0",
            "grid_template_areas": null,
            "object_position": null,
            "object_fit": null,
            "grid_auto_columns": null,
            "margin": null,
            "display": null,
            "left": null
          }
        },
        "ddaab30bd3c04deaa5b093e090501550": {
          "model_module": "@jupyter-widgets/controls",
          "model_name": "FloatProgressModel",
          "state": {
            "_view_name": "ProgressView",
            "style": "IPY_MODEL_be2c05b29b7b4bec8a5e3fca7f8cdd68",
            "_dom_classes": [],
            "description": "Batch: 100%",
            "_model_name": "FloatProgressModel",
            "bar_style": "success",
            "max": 1,
            "_view_module": "@jupyter-widgets/controls",
            "_model_module_version": "1.5.0",
            "value": 1,
            "_view_count": null,
            "_view_module_version": "1.5.0",
            "orientation": "horizontal",
            "min": 0,
            "description_tooltip": null,
            "_model_module": "@jupyter-widgets/controls",
            "layout": "IPY_MODEL_a981c61d7e9a488d800c30e5fcf77c45"
          }
        },
        "3d8c7c2d0ee54b7e9fcd7b0456e63c82": {
          "model_module": "@jupyter-widgets/controls",
          "model_name": "HTMLModel",
          "state": {
            "_view_name": "HTMLView",
            "style": "IPY_MODEL_c3cd487f5ea0483996272748ec7e2e6e",
            "_dom_classes": [],
            "description": "",
            "_model_name": "HTMLModel",
            "placeholder": "​",
            "_view_module": "@jupyter-widgets/controls",
            "_model_module_version": "1.5.0",
            "value": " 1/1 [00:15&lt;00:00, 15.54s/it]",
            "_view_count": null,
            "_view_module_version": "1.5.0",
            "description_tooltip": null,
            "_model_module": "@jupyter-widgets/controls",
            "layout": "IPY_MODEL_8357483139b7434c88dcdeaf256d864c"
          }
        },
        "be2c05b29b7b4bec8a5e3fca7f8cdd68": {
          "model_module": "@jupyter-widgets/controls",
          "model_name": "ProgressStyleModel",
          "state": {
            "_view_name": "StyleView",
            "_model_name": "ProgressStyleModel",
            "description_width": "initial",
            "_view_module": "@jupyter-widgets/base",
            "_model_module_version": "1.5.0",
            "_view_count": null,
            "_view_module_version": "1.2.0",
            "bar_color": null,
            "_model_module": "@jupyter-widgets/controls"
          }
        },
        "a981c61d7e9a488d800c30e5fcf77c45": {
          "model_module": "@jupyter-widgets/base",
          "model_name": "LayoutModel",
          "state": {
            "_view_name": "LayoutView",
            "grid_template_rows": null,
            "right": null,
            "justify_content": null,
            "_view_module": "@jupyter-widgets/base",
            "overflow": null,
            "_model_module_version": "1.2.0",
            "_view_count": null,
            "flex_flow": null,
            "width": null,
            "min_width": null,
            "border": null,
            "align_items": null,
            "bottom": null,
            "_model_module": "@jupyter-widgets/base",
            "top": null,
            "grid_column": null,
            "overflow_y": null,
            "overflow_x": null,
            "grid_auto_flow": null,
            "grid_area": null,
            "grid_template_columns": null,
            "flex": null,
            "_model_name": "LayoutModel",
            "justify_items": null,
            "grid_row": null,
            "max_height": null,
            "align_content": null,
            "visibility": null,
            "align_self": null,
            "height": null,
            "min_height": null,
            "padding": null,
            "grid_auto_rows": null,
            "grid_gap": null,
            "max_width": null,
            "order": null,
            "_view_module_version": "1.2.0",
            "grid_template_areas": null,
            "object_position": null,
            "object_fit": null,
            "grid_auto_columns": null,
            "margin": null,
            "display": null,
            "left": null
          }
        },
        "c3cd487f5ea0483996272748ec7e2e6e": {
          "model_module": "@jupyter-widgets/controls",
          "model_name": "DescriptionStyleModel",
          "state": {
            "_view_name": "StyleView",
            "_model_name": "DescriptionStyleModel",
            "description_width": "",
            "_view_module": "@jupyter-widgets/base",
            "_model_module_version": "1.5.0",
            "_view_count": null,
            "_view_module_version": "1.2.0",
            "_model_module": "@jupyter-widgets/controls"
          }
        },
        "8357483139b7434c88dcdeaf256d864c": {
          "model_module": "@jupyter-widgets/base",
          "model_name": "LayoutModel",
          "state": {
            "_view_name": "LayoutView",
            "grid_template_rows": null,
            "right": null,
            "justify_content": null,
            "_view_module": "@jupyter-widgets/base",
            "overflow": null,
            "_model_module_version": "1.2.0",
            "_view_count": null,
            "flex_flow": null,
            "width": null,
            "min_width": null,
            "border": null,
            "align_items": null,
            "bottom": null,
            "_model_module": "@jupyter-widgets/base",
            "top": null,
            "grid_column": null,
            "overflow_y": null,
            "overflow_x": null,
            "grid_auto_flow": null,
            "grid_area": null,
            "grid_template_columns": null,
            "flex": null,
            "_model_name": "LayoutModel",
            "justify_items": null,
            "grid_row": null,
            "max_height": null,
            "align_content": null,
            "visibility": null,
            "align_self": null,
            "height": null,
            "min_height": null,
            "padding": null,
            "grid_auto_rows": null,
            "grid_gap": null,
            "max_width": null,
            "order": null,
            "_view_module_version": "1.2.0",
            "grid_template_areas": null,
            "object_position": null,
            "object_fit": null,
            "grid_auto_columns": null,
            "margin": null,
            "display": null,
            "left": null
          }
        },
        "e6c1a2610dd9461b9f109d88687d4a8f": {
          "model_module": "@jupyter-widgets/controls",
          "model_name": "HBoxModel",
          "state": {
            "_view_name": "HBoxView",
            "_dom_classes": [],
            "_model_name": "HBoxModel",
            "_view_module": "@jupyter-widgets/controls",
            "_model_module_version": "1.5.0",
            "_view_count": null,
            "_view_module_version": "1.5.0",
            "box_style": "",
            "layout": "IPY_MODEL_542e6b8d36994344b5252352ec0d261a",
            "_model_module": "@jupyter-widgets/controls",
            "children": [
              "IPY_MODEL_f119a4b7213a4e359872515a846a9916",
              "IPY_MODEL_b436448b004748008b6e34768bed6e2d"
            ]
          }
        },
        "542e6b8d36994344b5252352ec0d261a": {
          "model_module": "@jupyter-widgets/base",
          "model_name": "LayoutModel",
          "state": {
            "_view_name": "LayoutView",
            "grid_template_rows": null,
            "right": null,
            "justify_content": null,
            "_view_module": "@jupyter-widgets/base",
            "overflow": null,
            "_model_module_version": "1.2.0",
            "_view_count": null,
            "flex_flow": null,
            "width": null,
            "min_width": null,
            "border": null,
            "align_items": null,
            "bottom": null,
            "_model_module": "@jupyter-widgets/base",
            "top": null,
            "grid_column": null,
            "overflow_y": null,
            "overflow_x": null,
            "grid_auto_flow": null,
            "grid_area": null,
            "grid_template_columns": null,
            "flex": null,
            "_model_name": "LayoutModel",
            "justify_items": null,
            "grid_row": null,
            "max_height": null,
            "align_content": null,
            "visibility": null,
            "align_self": null,
            "height": null,
            "min_height": null,
            "padding": null,
            "grid_auto_rows": null,
            "grid_gap": null,
            "max_width": null,
            "order": null,
            "_view_module_version": "1.2.0",
            "grid_template_areas": null,
            "object_position": null,
            "object_fit": null,
            "grid_auto_columns": null,
            "margin": null,
            "display": null,
            "left": null
          }
        },
        "f119a4b7213a4e359872515a846a9916": {
          "model_module": "@jupyter-widgets/controls",
          "model_name": "FloatProgressModel",
          "state": {
            "_view_name": "ProgressView",
            "style": "IPY_MODEL_d517efa81a1b4ed9939f676266107c16",
            "_dom_classes": [],
            "description": "Epochs: 100%",
            "_model_name": "FloatProgressModel",
            "bar_style": "success",
            "max": 50,
            "_view_module": "@jupyter-widgets/controls",
            "_model_module_version": "1.5.0",
            "value": 50,
            "_view_count": null,
            "_view_module_version": "1.5.0",
            "orientation": "horizontal",
            "min": 0,
            "description_tooltip": null,
            "_model_module": "@jupyter-widgets/controls",
            "layout": "IPY_MODEL_36657ef56f694242b08ee48bd8357a91"
          }
        },
        "b436448b004748008b6e34768bed6e2d": {
          "model_module": "@jupyter-widgets/controls",
          "model_name": "HTMLModel",
          "state": {
            "_view_name": "HTMLView",
            "style": "IPY_MODEL_3fe8803b65ea4ef7879d1bcc2d60cecf",
            "_dom_classes": [],
            "description": "",
            "_model_name": "HTMLModel",
            "placeholder": "​",
            "_view_module": "@jupyter-widgets/controls",
            "_model_module_version": "1.5.0",
            "value": " 50/50 [34:38&lt;00:00, 41.57s/it, acc=0.928, loss=0.22, val_acc=0.926, val_loss=0.212]",
            "_view_count": null,
            "_view_module_version": "1.5.0",
            "description_tooltip": null,
            "_model_module": "@jupyter-widgets/controls",
            "layout": "IPY_MODEL_92a920846a5749faafa2ec02ba7df998"
          }
        },
        "d517efa81a1b4ed9939f676266107c16": {
          "model_module": "@jupyter-widgets/controls",
          "model_name": "ProgressStyleModel",
          "state": {
            "_view_name": "StyleView",
            "_model_name": "ProgressStyleModel",
            "description_width": "initial",
            "_view_module": "@jupyter-widgets/base",
            "_model_module_version": "1.5.0",
            "_view_count": null,
            "_view_module_version": "1.2.0",
            "bar_color": null,
            "_model_module": "@jupyter-widgets/controls"
          }
        },
        "36657ef56f694242b08ee48bd8357a91": {
          "model_module": "@jupyter-widgets/base",
          "model_name": "LayoutModel",
          "state": {
            "_view_name": "LayoutView",
            "grid_template_rows": null,
            "right": null,
            "justify_content": null,
            "_view_module": "@jupyter-widgets/base",
            "overflow": null,
            "_model_module_version": "1.2.0",
            "_view_count": null,
            "flex_flow": null,
            "width": null,
            "min_width": null,
            "border": null,
            "align_items": null,
            "bottom": null,
            "_model_module": "@jupyter-widgets/base",
            "top": null,
            "grid_column": null,
            "overflow_y": null,
            "overflow_x": null,
            "grid_auto_flow": null,
            "grid_area": null,
            "grid_template_columns": null,
            "flex": null,
            "_model_name": "LayoutModel",
            "justify_items": null,
            "grid_row": null,
            "max_height": null,
            "align_content": null,
            "visibility": null,
            "align_self": null,
            "height": null,
            "min_height": null,
            "padding": null,
            "grid_auto_rows": null,
            "grid_gap": null,
            "max_width": null,
            "order": null,
            "_view_module_version": "1.2.0",
            "grid_template_areas": null,
            "object_position": null,
            "object_fit": null,
            "grid_auto_columns": null,
            "margin": null,
            "display": null,
            "left": null
          }
        },
        "3fe8803b65ea4ef7879d1bcc2d60cecf": {
          "model_module": "@jupyter-widgets/controls",
          "model_name": "DescriptionStyleModel",
          "state": {
            "_view_name": "StyleView",
            "_model_name": "DescriptionStyleModel",
            "description_width": "",
            "_view_module": "@jupyter-widgets/base",
            "_model_module_version": "1.5.0",
            "_view_count": null,
            "_view_module_version": "1.2.0",
            "_model_module": "@jupyter-widgets/controls"
          }
        },
        "92a920846a5749faafa2ec02ba7df998": {
          "model_module": "@jupyter-widgets/base",
          "model_name": "LayoutModel",
          "state": {
            "_view_name": "LayoutView",
            "grid_template_rows": null,
            "right": null,
            "justify_content": null,
            "_view_module": "@jupyter-widgets/base",
            "overflow": null,
            "_model_module_version": "1.2.0",
            "_view_count": null,
            "flex_flow": null,
            "width": null,
            "min_width": null,
            "border": null,
            "align_items": null,
            "bottom": null,
            "_model_module": "@jupyter-widgets/base",
            "top": null,
            "grid_column": null,
            "overflow_y": null,
            "overflow_x": null,
            "grid_auto_flow": null,
            "grid_area": null,
            "grid_template_columns": null,
            "flex": null,
            "_model_name": "LayoutModel",
            "justify_items": null,
            "grid_row": null,
            "max_height": null,
            "align_content": null,
            "visibility": null,
            "align_self": null,
            "height": null,
            "min_height": null,
            "padding": null,
            "grid_auto_rows": null,
            "grid_gap": null,
            "max_width": null,
            "order": null,
            "_view_module_version": "1.2.0",
            "grid_template_areas": null,
            "object_position": null,
            "object_fit": null,
            "grid_auto_columns": null,
            "margin": null,
            "display": null,
            "left": null
          }
        },
        "c1d054e3afde4cd6818f28ecb9b4cd0d": {
          "model_module": "@jupyter-widgets/controls",
          "model_name": "HBoxModel",
          "state": {
            "_view_name": "HBoxView",
            "_dom_classes": [],
            "_model_name": "HBoxModel",
            "_view_module": "@jupyter-widgets/controls",
            "_model_module_version": "1.5.0",
            "_view_count": null,
            "_view_module_version": "1.5.0",
            "box_style": "",
            "layout": "IPY_MODEL_2a7652b0f33e4cae8a7440a5ba676c2c",
            "_model_module": "@jupyter-widgets/controls",
            "children": [
              "IPY_MODEL_ede18c1d6fd34e7098ad534d9957aaca",
              "IPY_MODEL_163d399b5bad48119de038aaddca9972"
            ]
          }
        },
        "2a7652b0f33e4cae8a7440a5ba676c2c": {
          "model_module": "@jupyter-widgets/base",
          "model_name": "LayoutModel",
          "state": {
            "_view_name": "LayoutView",
            "grid_template_rows": null,
            "right": null,
            "justify_content": null,
            "_view_module": "@jupyter-widgets/base",
            "overflow": null,
            "_model_module_version": "1.2.0",
            "_view_count": null,
            "flex_flow": null,
            "width": null,
            "min_width": null,
            "border": null,
            "align_items": null,
            "bottom": null,
            "_model_module": "@jupyter-widgets/base",
            "top": null,
            "grid_column": null,
            "overflow_y": null,
            "overflow_x": null,
            "grid_auto_flow": null,
            "grid_area": null,
            "grid_template_columns": null,
            "flex": null,
            "_model_name": "LayoutModel",
            "justify_items": null,
            "grid_row": null,
            "max_height": null,
            "align_content": null,
            "visibility": null,
            "align_self": null,
            "height": null,
            "min_height": null,
            "padding": null,
            "grid_auto_rows": null,
            "grid_gap": null,
            "max_width": null,
            "order": null,
            "_view_module_version": "1.2.0",
            "grid_template_areas": null,
            "object_position": null,
            "object_fit": null,
            "grid_auto_columns": null,
            "margin": null,
            "display": null,
            "left": null
          }
        },
        "ede18c1d6fd34e7098ad534d9957aaca": {
          "model_module": "@jupyter-widgets/controls",
          "model_name": "FloatProgressModel",
          "state": {
            "_view_name": "ProgressView",
            "style": "IPY_MODEL_a043df012bb94714b9bf281798bfb726",
            "_dom_classes": [],
            "description": "Batch: 100%",
            "_model_name": "FloatProgressModel",
            "bar_style": "success",
            "max": 45,
            "_view_module": "@jupyter-widgets/controls",
            "_model_module_version": "1.5.0",
            "value": 45,
            "_view_count": null,
            "_view_module_version": "1.5.0",
            "orientation": "horizontal",
            "min": 0,
            "description_tooltip": null,
            "_model_module": "@jupyter-widgets/controls",
            "layout": "IPY_MODEL_d950bcd935c741fd8c21ccb9ec0ccbe2"
          }
        },
        "163d399b5bad48119de038aaddca9972": {
          "model_module": "@jupyter-widgets/controls",
          "model_name": "HTMLModel",
          "state": {
            "_view_name": "HTMLView",
            "style": "IPY_MODEL_923ebeb694074201b549faad0e1cc4ab",
            "_dom_classes": [],
            "description": "",
            "_model_name": "HTMLModel",
            "placeholder": "​",
            "_view_module": "@jupyter-widgets/controls",
            "_model_module_version": "1.5.0",
            "value": " 45/45 [34:38&lt;00:00, 46.19s/it]",
            "_view_count": null,
            "_view_module_version": "1.5.0",
            "description_tooltip": null,
            "_model_module": "@jupyter-widgets/controls",
            "layout": "IPY_MODEL_f4e816c68b744735b34a25989e964a1b"
          }
        },
        "a043df012bb94714b9bf281798bfb726": {
          "model_module": "@jupyter-widgets/controls",
          "model_name": "ProgressStyleModel",
          "state": {
            "_view_name": "StyleView",
            "_model_name": "ProgressStyleModel",
            "description_width": "initial",
            "_view_module": "@jupyter-widgets/base",
            "_model_module_version": "1.5.0",
            "_view_count": null,
            "_view_module_version": "1.2.0",
            "bar_color": null,
            "_model_module": "@jupyter-widgets/controls"
          }
        },
        "d950bcd935c741fd8c21ccb9ec0ccbe2": {
          "model_module": "@jupyter-widgets/base",
          "model_name": "LayoutModel",
          "state": {
            "_view_name": "LayoutView",
            "grid_template_rows": null,
            "right": null,
            "justify_content": null,
            "_view_module": "@jupyter-widgets/base",
            "overflow": null,
            "_model_module_version": "1.2.0",
            "_view_count": null,
            "flex_flow": null,
            "width": null,
            "min_width": null,
            "border": null,
            "align_items": null,
            "bottom": null,
            "_model_module": "@jupyter-widgets/base",
            "top": null,
            "grid_column": null,
            "overflow_y": null,
            "overflow_x": null,
            "grid_auto_flow": null,
            "grid_area": null,
            "grid_template_columns": null,
            "flex": null,
            "_model_name": "LayoutModel",
            "justify_items": null,
            "grid_row": null,
            "max_height": null,
            "align_content": null,
            "visibility": null,
            "align_self": null,
            "height": null,
            "min_height": null,
            "padding": null,
            "grid_auto_rows": null,
            "grid_gap": null,
            "max_width": null,
            "order": null,
            "_view_module_version": "1.2.0",
            "grid_template_areas": null,
            "object_position": null,
            "object_fit": null,
            "grid_auto_columns": null,
            "margin": null,
            "display": null,
            "left": null
          }
        },
        "923ebeb694074201b549faad0e1cc4ab": {
          "model_module": "@jupyter-widgets/controls",
          "model_name": "DescriptionStyleModel",
          "state": {
            "_view_name": "StyleView",
            "_model_name": "DescriptionStyleModel",
            "description_width": "",
            "_view_module": "@jupyter-widgets/base",
            "_model_module_version": "1.5.0",
            "_view_count": null,
            "_view_module_version": "1.2.0",
            "_model_module": "@jupyter-widgets/controls"
          }
        },
        "f4e816c68b744735b34a25989e964a1b": {
          "model_module": "@jupyter-widgets/base",
          "model_name": "LayoutModel",
          "state": {
            "_view_name": "LayoutView",
            "grid_template_rows": null,
            "right": null,
            "justify_content": null,
            "_view_module": "@jupyter-widgets/base",
            "overflow": null,
            "_model_module_version": "1.2.0",
            "_view_count": null,
            "flex_flow": null,
            "width": null,
            "min_width": null,
            "border": null,
            "align_items": null,
            "bottom": null,
            "_model_module": "@jupyter-widgets/base",
            "top": null,
            "grid_column": null,
            "overflow_y": null,
            "overflow_x": null,
            "grid_auto_flow": null,
            "grid_area": null,
            "grid_template_columns": null,
            "flex": null,
            "_model_name": "LayoutModel",
            "justify_items": null,
            "grid_row": null,
            "max_height": null,
            "align_content": null,
            "visibility": null,
            "align_self": null,
            "height": null,
            "min_height": null,
            "padding": null,
            "grid_auto_rows": null,
            "grid_gap": null,
            "max_width": null,
            "order": null,
            "_view_module_version": "1.2.0",
            "grid_template_areas": null,
            "object_position": null,
            "object_fit": null,
            "grid_auto_columns": null,
            "margin": null,
            "display": null,
            "left": null
          }
        },
        "6bf219eb972b4261bd9d839c842d0538": {
          "model_module": "@jupyter-widgets/controls",
          "model_name": "HBoxModel",
          "state": {
            "_view_name": "HBoxView",
            "_dom_classes": [],
            "_model_name": "HBoxModel",
            "_view_module": "@jupyter-widgets/controls",
            "_model_module_version": "1.5.0",
            "_view_count": null,
            "_view_module_version": "1.5.0",
            "box_style": "",
            "layout": "IPY_MODEL_b53d4140f9fb4035aae699839abc45a9",
            "_model_module": "@jupyter-widgets/controls",
            "children": [
              "IPY_MODEL_e33d47864e0c4556a307209610c3325f",
              "IPY_MODEL_d3dae9f09cbe4f9583a973faeb1205fd"
            ]
          }
        },
        "b53d4140f9fb4035aae699839abc45a9": {
          "model_module": "@jupyter-widgets/base",
          "model_name": "LayoutModel",
          "state": {
            "_view_name": "LayoutView",
            "grid_template_rows": null,
            "right": null,
            "justify_content": null,
            "_view_module": "@jupyter-widgets/base",
            "overflow": null,
            "_model_module_version": "1.2.0",
            "_view_count": null,
            "flex_flow": null,
            "width": null,
            "min_width": null,
            "border": null,
            "align_items": null,
            "bottom": null,
            "_model_module": "@jupyter-widgets/base",
            "top": null,
            "grid_column": null,
            "overflow_y": null,
            "overflow_x": null,
            "grid_auto_flow": null,
            "grid_area": null,
            "grid_template_columns": null,
            "flex": null,
            "_model_name": "LayoutModel",
            "justify_items": null,
            "grid_row": null,
            "max_height": null,
            "align_content": null,
            "visibility": null,
            "align_self": null,
            "height": null,
            "min_height": null,
            "padding": null,
            "grid_auto_rows": null,
            "grid_gap": null,
            "max_width": null,
            "order": null,
            "_view_module_version": "1.2.0",
            "grid_template_areas": null,
            "object_position": null,
            "object_fit": null,
            "grid_auto_columns": null,
            "margin": null,
            "display": null,
            "left": null
          }
        },
        "e33d47864e0c4556a307209610c3325f": {
          "model_module": "@jupyter-widgets/controls",
          "model_name": "FloatProgressModel",
          "state": {
            "_view_name": "ProgressView",
            "style": "IPY_MODEL_4c716c462abd43afb64107e5ec55d311",
            "_dom_classes": [],
            "description": "Epochs: 100%",
            "_model_name": "FloatProgressModel",
            "bar_style": "success",
            "max": 50,
            "_view_module": "@jupyter-widgets/controls",
            "_model_module_version": "1.5.0",
            "value": 50,
            "_view_count": null,
            "_view_module_version": "1.5.0",
            "orientation": "horizontal",
            "min": 0,
            "description_tooltip": null,
            "_model_module": "@jupyter-widgets/controls",
            "layout": "IPY_MODEL_e3c1ea415df04317b1bee5a058b60634"
          }
        },
        "d3dae9f09cbe4f9583a973faeb1205fd": {
          "model_module": "@jupyter-widgets/controls",
          "model_name": "HTMLModel",
          "state": {
            "_view_name": "HTMLView",
            "style": "IPY_MODEL_1ae173155035499f9122ec6c34bbe436",
            "_dom_classes": [],
            "description": "",
            "_model_name": "HTMLModel",
            "placeholder": "​",
            "_view_module": "@jupyter-widgets/controls",
            "_model_module_version": "1.5.0",
            "value": " 50/50 [2:15:11&lt;00:00, 162.23s/it, acc=0.894, loss=0.307, val_acc=0.892, val_loss=0.287]",
            "_view_count": null,
            "_view_module_version": "1.5.0",
            "description_tooltip": null,
            "_model_module": "@jupyter-widgets/controls",
            "layout": "IPY_MODEL_23b58e7e591245f2841bb991d8ec6054"
          }
        },
        "4c716c462abd43afb64107e5ec55d311": {
          "model_module": "@jupyter-widgets/controls",
          "model_name": "ProgressStyleModel",
          "state": {
            "_view_name": "StyleView",
            "_model_name": "ProgressStyleModel",
            "description_width": "initial",
            "_view_module": "@jupyter-widgets/base",
            "_model_module_version": "1.5.0",
            "_view_count": null,
            "_view_module_version": "1.2.0",
            "bar_color": null,
            "_model_module": "@jupyter-widgets/controls"
          }
        },
        "e3c1ea415df04317b1bee5a058b60634": {
          "model_module": "@jupyter-widgets/base",
          "model_name": "LayoutModel",
          "state": {
            "_view_name": "LayoutView",
            "grid_template_rows": null,
            "right": null,
            "justify_content": null,
            "_view_module": "@jupyter-widgets/base",
            "overflow": null,
            "_model_module_version": "1.2.0",
            "_view_count": null,
            "flex_flow": null,
            "width": null,
            "min_width": null,
            "border": null,
            "align_items": null,
            "bottom": null,
            "_model_module": "@jupyter-widgets/base",
            "top": null,
            "grid_column": null,
            "overflow_y": null,
            "overflow_x": null,
            "grid_auto_flow": null,
            "grid_area": null,
            "grid_template_columns": null,
            "flex": null,
            "_model_name": "LayoutModel",
            "justify_items": null,
            "grid_row": null,
            "max_height": null,
            "align_content": null,
            "visibility": null,
            "align_self": null,
            "height": null,
            "min_height": null,
            "padding": null,
            "grid_auto_rows": null,
            "grid_gap": null,
            "max_width": null,
            "order": null,
            "_view_module_version": "1.2.0",
            "grid_template_areas": null,
            "object_position": null,
            "object_fit": null,
            "grid_auto_columns": null,
            "margin": null,
            "display": null,
            "left": null
          }
        },
        "1ae173155035499f9122ec6c34bbe436": {
          "model_module": "@jupyter-widgets/controls",
          "model_name": "DescriptionStyleModel",
          "state": {
            "_view_name": "StyleView",
            "_model_name": "DescriptionStyleModel",
            "description_width": "",
            "_view_module": "@jupyter-widgets/base",
            "_model_module_version": "1.5.0",
            "_view_count": null,
            "_view_module_version": "1.2.0",
            "_model_module": "@jupyter-widgets/controls"
          }
        },
        "23b58e7e591245f2841bb991d8ec6054": {
          "model_module": "@jupyter-widgets/base",
          "model_name": "LayoutModel",
          "state": {
            "_view_name": "LayoutView",
            "grid_template_rows": null,
            "right": null,
            "justify_content": null,
            "_view_module": "@jupyter-widgets/base",
            "overflow": null,
            "_model_module_version": "1.2.0",
            "_view_count": null,
            "flex_flow": null,
            "width": null,
            "min_width": null,
            "border": null,
            "align_items": null,
            "bottom": null,
            "_model_module": "@jupyter-widgets/base",
            "top": null,
            "grid_column": null,
            "overflow_y": null,
            "overflow_x": null,
            "grid_auto_flow": null,
            "grid_area": null,
            "grid_template_columns": null,
            "flex": null,
            "_model_name": "LayoutModel",
            "justify_items": null,
            "grid_row": null,
            "max_height": null,
            "align_content": null,
            "visibility": null,
            "align_self": null,
            "height": null,
            "min_height": null,
            "padding": null,
            "grid_auto_rows": null,
            "grid_gap": null,
            "max_width": null,
            "order": null,
            "_view_module_version": "1.2.0",
            "grid_template_areas": null,
            "object_position": null,
            "object_fit": null,
            "grid_auto_columns": null,
            "margin": null,
            "display": null,
            "left": null
          }
        },
        "21185619494046939533826f38d13c19": {
          "model_module": "@jupyter-widgets/controls",
          "model_name": "HBoxModel",
          "state": {
            "_view_name": "HBoxView",
            "_dom_classes": [],
            "_model_name": "HBoxModel",
            "_view_module": "@jupyter-widgets/controls",
            "_model_module_version": "1.5.0",
            "_view_count": null,
            "_view_module_version": "1.5.0",
            "box_style": "",
            "layout": "IPY_MODEL_42e56fe4b3424543b33d830718e867b9",
            "_model_module": "@jupyter-widgets/controls",
            "children": [
              "IPY_MODEL_e8a662afae3c419ab42b61c135073660",
              "IPY_MODEL_962c5b7680a74cb39718a4dff1d87403"
            ]
          }
        },
        "42e56fe4b3424543b33d830718e867b9": {
          "model_module": "@jupyter-widgets/base",
          "model_name": "LayoutModel",
          "state": {
            "_view_name": "LayoutView",
            "grid_template_rows": null,
            "right": null,
            "justify_content": null,
            "_view_module": "@jupyter-widgets/base",
            "overflow": null,
            "_model_module_version": "1.2.0",
            "_view_count": null,
            "flex_flow": null,
            "width": null,
            "min_width": null,
            "border": null,
            "align_items": null,
            "bottom": null,
            "_model_module": "@jupyter-widgets/base",
            "top": null,
            "grid_column": null,
            "overflow_y": null,
            "overflow_x": null,
            "grid_auto_flow": null,
            "grid_area": null,
            "grid_template_columns": null,
            "flex": null,
            "_model_name": "LayoutModel",
            "justify_items": null,
            "grid_row": null,
            "max_height": null,
            "align_content": null,
            "visibility": null,
            "align_self": null,
            "height": null,
            "min_height": null,
            "padding": null,
            "grid_auto_rows": null,
            "grid_gap": null,
            "max_width": null,
            "order": null,
            "_view_module_version": "1.2.0",
            "grid_template_areas": null,
            "object_position": null,
            "object_fit": null,
            "grid_auto_columns": null,
            "margin": null,
            "display": null,
            "left": null
          }
        },
        "e8a662afae3c419ab42b61c135073660": {
          "model_module": "@jupyter-widgets/controls",
          "model_name": "FloatProgressModel",
          "state": {
            "_view_name": "ProgressView",
            "style": "IPY_MODEL_471cecf697684520a40b7fc2cc6b1713",
            "_dom_classes": [],
            "description": "Batch: 100%",
            "_model_name": "FloatProgressModel",
            "bar_style": "success",
            "max": 45,
            "_view_module": "@jupyter-widgets/controls",
            "_model_module_version": "1.5.0",
            "value": 45,
            "_view_count": null,
            "_view_module_version": "1.5.0",
            "orientation": "horizontal",
            "min": 0,
            "description_tooltip": null,
            "_model_module": "@jupyter-widgets/controls",
            "layout": "IPY_MODEL_e5b0d1f001bd44eba98d755d7e523e67"
          }
        },
        "962c5b7680a74cb39718a4dff1d87403": {
          "model_module": "@jupyter-widgets/controls",
          "model_name": "HTMLModel",
          "state": {
            "_view_name": "HTMLView",
            "style": "IPY_MODEL_73e8b6e1b5c34caf83ba71fe64802847",
            "_dom_classes": [],
            "description": "",
            "_model_name": "HTMLModel",
            "placeholder": "​",
            "_view_module": "@jupyter-widgets/controls",
            "_model_module_version": "1.5.0",
            "value": " 45/45 [32:33&lt;00:00, 43.42s/it]",
            "_view_count": null,
            "_view_module_version": "1.5.0",
            "description_tooltip": null,
            "_model_module": "@jupyter-widgets/controls",
            "layout": "IPY_MODEL_e0eec47800a8400384213b4f1c75f7a6"
          }
        },
        "471cecf697684520a40b7fc2cc6b1713": {
          "model_module": "@jupyter-widgets/controls",
          "model_name": "ProgressStyleModel",
          "state": {
            "_view_name": "StyleView",
            "_model_name": "ProgressStyleModel",
            "description_width": "initial",
            "_view_module": "@jupyter-widgets/base",
            "_model_module_version": "1.5.0",
            "_view_count": null,
            "_view_module_version": "1.2.0",
            "bar_color": null,
            "_model_module": "@jupyter-widgets/controls"
          }
        },
        "e5b0d1f001bd44eba98d755d7e523e67": {
          "model_module": "@jupyter-widgets/base",
          "model_name": "LayoutModel",
          "state": {
            "_view_name": "LayoutView",
            "grid_template_rows": null,
            "right": null,
            "justify_content": null,
            "_view_module": "@jupyter-widgets/base",
            "overflow": null,
            "_model_module_version": "1.2.0",
            "_view_count": null,
            "flex_flow": null,
            "width": null,
            "min_width": null,
            "border": null,
            "align_items": null,
            "bottom": null,
            "_model_module": "@jupyter-widgets/base",
            "top": null,
            "grid_column": null,
            "overflow_y": null,
            "overflow_x": null,
            "grid_auto_flow": null,
            "grid_area": null,
            "grid_template_columns": null,
            "flex": null,
            "_model_name": "LayoutModel",
            "justify_items": null,
            "grid_row": null,
            "max_height": null,
            "align_content": null,
            "visibility": null,
            "align_self": null,
            "height": null,
            "min_height": null,
            "padding": null,
            "grid_auto_rows": null,
            "grid_gap": null,
            "max_width": null,
            "order": null,
            "_view_module_version": "1.2.0",
            "grid_template_areas": null,
            "object_position": null,
            "object_fit": null,
            "grid_auto_columns": null,
            "margin": null,
            "display": null,
            "left": null
          }
        },
        "73e8b6e1b5c34caf83ba71fe64802847": {
          "model_module": "@jupyter-widgets/controls",
          "model_name": "DescriptionStyleModel",
          "state": {
            "_view_name": "StyleView",
            "_model_name": "DescriptionStyleModel",
            "description_width": "",
            "_view_module": "@jupyter-widgets/base",
            "_model_module_version": "1.5.0",
            "_view_count": null,
            "_view_module_version": "1.2.0",
            "_model_module": "@jupyter-widgets/controls"
          }
        },
        "e0eec47800a8400384213b4f1c75f7a6": {
          "model_module": "@jupyter-widgets/base",
          "model_name": "LayoutModel",
          "state": {
            "_view_name": "LayoutView",
            "grid_template_rows": null,
            "right": null,
            "justify_content": null,
            "_view_module": "@jupyter-widgets/base",
            "overflow": null,
            "_model_module_version": "1.2.0",
            "_view_count": null,
            "flex_flow": null,
            "width": null,
            "min_width": null,
            "border": null,
            "align_items": null,
            "bottom": null,
            "_model_module": "@jupyter-widgets/base",
            "top": null,
            "grid_column": null,
            "overflow_y": null,
            "overflow_x": null,
            "grid_auto_flow": null,
            "grid_area": null,
            "grid_template_columns": null,
            "flex": null,
            "_model_name": "LayoutModel",
            "justify_items": null,
            "grid_row": null,
            "max_height": null,
            "align_content": null,
            "visibility": null,
            "align_self": null,
            "height": null,
            "min_height": null,
            "padding": null,
            "grid_auto_rows": null,
            "grid_gap": null,
            "max_width": null,
            "order": null,
            "_view_module_version": "1.2.0",
            "grid_template_areas": null,
            "object_position": null,
            "object_fit": null,
            "grid_auto_columns": null,
            "margin": null,
            "display": null,
            "left": null
          }
        },
        "ea2701da605449be9ff1852486a5eb07": {
          "model_module": "@jupyter-widgets/controls",
          "model_name": "HBoxModel",
          "state": {
            "_view_name": "HBoxView",
            "_dom_classes": [],
            "_model_name": "HBoxModel",
            "_view_module": "@jupyter-widgets/controls",
            "_model_module_version": "1.5.0",
            "_view_count": null,
            "_view_module_version": "1.5.0",
            "box_style": "",
            "layout": "IPY_MODEL_ba6bb984b1714379920f127671d0208f",
            "_model_module": "@jupyter-widgets/controls",
            "children": [
              "IPY_MODEL_e98b2d1e44454aeda0c0423e1471f09d",
              "IPY_MODEL_d4d5a37174c94050a0cce82decedeef6"
            ]
          }
        },
        "ba6bb984b1714379920f127671d0208f": {
          "model_module": "@jupyter-widgets/base",
          "model_name": "LayoutModel",
          "state": {
            "_view_name": "LayoutView",
            "grid_template_rows": null,
            "right": null,
            "justify_content": null,
            "_view_module": "@jupyter-widgets/base",
            "overflow": null,
            "_model_module_version": "1.2.0",
            "_view_count": null,
            "flex_flow": null,
            "width": null,
            "min_width": null,
            "border": null,
            "align_items": null,
            "bottom": null,
            "_model_module": "@jupyter-widgets/base",
            "top": null,
            "grid_column": null,
            "overflow_y": null,
            "overflow_x": null,
            "grid_auto_flow": null,
            "grid_area": null,
            "grid_template_columns": null,
            "flex": null,
            "_model_name": "LayoutModel",
            "justify_items": null,
            "grid_row": null,
            "max_height": null,
            "align_content": null,
            "visibility": null,
            "align_self": null,
            "height": null,
            "min_height": null,
            "padding": null,
            "grid_auto_rows": null,
            "grid_gap": null,
            "max_width": null,
            "order": null,
            "_view_module_version": "1.2.0",
            "grid_template_areas": null,
            "object_position": null,
            "object_fit": null,
            "grid_auto_columns": null,
            "margin": null,
            "display": null,
            "left": null
          }
        },
        "e98b2d1e44454aeda0c0423e1471f09d": {
          "model_module": "@jupyter-widgets/controls",
          "model_name": "FloatProgressModel",
          "state": {
            "_view_name": "ProgressView",
            "style": "IPY_MODEL_54ba2edaf1874a808b8e7720dbeb3202",
            "_dom_classes": [],
            "description": "Epochs: 100%",
            "_model_name": "FloatProgressModel",
            "bar_style": "success",
            "max": 50,
            "_view_module": "@jupyter-widgets/controls",
            "_model_module_version": "1.5.0",
            "value": 50,
            "_view_count": null,
            "_view_module_version": "1.5.0",
            "orientation": "horizontal",
            "min": 0,
            "description_tooltip": null,
            "_model_module": "@jupyter-widgets/controls",
            "layout": "IPY_MODEL_c32d5e3aa39f4d47ac393b0008c76249"
          }
        },
        "d4d5a37174c94050a0cce82decedeef6": {
          "model_module": "@jupyter-widgets/controls",
          "model_name": "HTMLModel",
          "state": {
            "_view_name": "HTMLView",
            "style": "IPY_MODEL_65d8ae39aca34b40a6022970b734c922",
            "_dom_classes": [],
            "description": "",
            "_model_name": "HTMLModel",
            "placeholder": "​",
            "_view_module": "@jupyter-widgets/controls",
            "_model_module_version": "1.5.0",
            "value": " 50/50 [1:41:44&lt;00:00, 122.09s/it, acc=0.918, loss=0.215, val_acc=0.913, val_loss=0.248]",
            "_view_count": null,
            "_view_module_version": "1.5.0",
            "description_tooltip": null,
            "_model_module": "@jupyter-widgets/controls",
            "layout": "IPY_MODEL_c8b1422e3527494684968d4676077ad3"
          }
        },
        "54ba2edaf1874a808b8e7720dbeb3202": {
          "model_module": "@jupyter-widgets/controls",
          "model_name": "ProgressStyleModel",
          "state": {
            "_view_name": "StyleView",
            "_model_name": "ProgressStyleModel",
            "description_width": "initial",
            "_view_module": "@jupyter-widgets/base",
            "_model_module_version": "1.5.0",
            "_view_count": null,
            "_view_module_version": "1.2.0",
            "bar_color": null,
            "_model_module": "@jupyter-widgets/controls"
          }
        },
        "c32d5e3aa39f4d47ac393b0008c76249": {
          "model_module": "@jupyter-widgets/base",
          "model_name": "LayoutModel",
          "state": {
            "_view_name": "LayoutView",
            "grid_template_rows": null,
            "right": null,
            "justify_content": null,
            "_view_module": "@jupyter-widgets/base",
            "overflow": null,
            "_model_module_version": "1.2.0",
            "_view_count": null,
            "flex_flow": null,
            "width": null,
            "min_width": null,
            "border": null,
            "align_items": null,
            "bottom": null,
            "_model_module": "@jupyter-widgets/base",
            "top": null,
            "grid_column": null,
            "overflow_y": null,
            "overflow_x": null,
            "grid_auto_flow": null,
            "grid_area": null,
            "grid_template_columns": null,
            "flex": null,
            "_model_name": "LayoutModel",
            "justify_items": null,
            "grid_row": null,
            "max_height": null,
            "align_content": null,
            "visibility": null,
            "align_self": null,
            "height": null,
            "min_height": null,
            "padding": null,
            "grid_auto_rows": null,
            "grid_gap": null,
            "max_width": null,
            "order": null,
            "_view_module_version": "1.2.0",
            "grid_template_areas": null,
            "object_position": null,
            "object_fit": null,
            "grid_auto_columns": null,
            "margin": null,
            "display": null,
            "left": null
          }
        },
        "65d8ae39aca34b40a6022970b734c922": {
          "model_module": "@jupyter-widgets/controls",
          "model_name": "DescriptionStyleModel",
          "state": {
            "_view_name": "StyleView",
            "_model_name": "DescriptionStyleModel",
            "description_width": "",
            "_view_module": "@jupyter-widgets/base",
            "_model_module_version": "1.5.0",
            "_view_count": null,
            "_view_module_version": "1.2.0",
            "_model_module": "@jupyter-widgets/controls"
          }
        },
        "c8b1422e3527494684968d4676077ad3": {
          "model_module": "@jupyter-widgets/base",
          "model_name": "LayoutModel",
          "state": {
            "_view_name": "LayoutView",
            "grid_template_rows": null,
            "right": null,
            "justify_content": null,
            "_view_module": "@jupyter-widgets/base",
            "overflow": null,
            "_model_module_version": "1.2.0",
            "_view_count": null,
            "flex_flow": null,
            "width": null,
            "min_width": null,
            "border": null,
            "align_items": null,
            "bottom": null,
            "_model_module": "@jupyter-widgets/base",
            "top": null,
            "grid_column": null,
            "overflow_y": null,
            "overflow_x": null,
            "grid_auto_flow": null,
            "grid_area": null,
            "grid_template_columns": null,
            "flex": null,
            "_model_name": "LayoutModel",
            "justify_items": null,
            "grid_row": null,
            "max_height": null,
            "align_content": null,
            "visibility": null,
            "align_self": null,
            "height": null,
            "min_height": null,
            "padding": null,
            "grid_auto_rows": null,
            "grid_gap": null,
            "max_width": null,
            "order": null,
            "_view_module_version": "1.2.0",
            "grid_template_areas": null,
            "object_position": null,
            "object_fit": null,
            "grid_auto_columns": null,
            "margin": null,
            "display": null,
            "left": null
          }
        },
        "cb06db2e6e30489398c6430431f661d9": {
          "model_module": "@jupyter-widgets/controls",
          "model_name": "HBoxModel",
          "state": {
            "_view_name": "HBoxView",
            "_dom_classes": [],
            "_model_name": "HBoxModel",
            "_view_module": "@jupyter-widgets/controls",
            "_model_module_version": "1.5.0",
            "_view_count": null,
            "_view_module_version": "1.5.0",
            "box_style": "",
            "layout": "IPY_MODEL_a959c03392404dce9f5dd0db4137cfe4",
            "_model_module": "@jupyter-widgets/controls",
            "children": [
              "IPY_MODEL_c1277ae595114167a3f90f9a86efae89",
              "IPY_MODEL_12e3e66da5af4b7a8b803c08523429ec"
            ]
          }
        },
        "a959c03392404dce9f5dd0db4137cfe4": {
          "model_module": "@jupyter-widgets/base",
          "model_name": "LayoutModel",
          "state": {
            "_view_name": "LayoutView",
            "grid_template_rows": null,
            "right": null,
            "justify_content": null,
            "_view_module": "@jupyter-widgets/base",
            "overflow": null,
            "_model_module_version": "1.2.0",
            "_view_count": null,
            "flex_flow": null,
            "width": null,
            "min_width": null,
            "border": null,
            "align_items": null,
            "bottom": null,
            "_model_module": "@jupyter-widgets/base",
            "top": null,
            "grid_column": null,
            "overflow_y": null,
            "overflow_x": null,
            "grid_auto_flow": null,
            "grid_area": null,
            "grid_template_columns": null,
            "flex": null,
            "_model_name": "LayoutModel",
            "justify_items": null,
            "grid_row": null,
            "max_height": null,
            "align_content": null,
            "visibility": null,
            "align_self": null,
            "height": null,
            "min_height": null,
            "padding": null,
            "grid_auto_rows": null,
            "grid_gap": null,
            "max_width": null,
            "order": null,
            "_view_module_version": "1.2.0",
            "grid_template_areas": null,
            "object_position": null,
            "object_fit": null,
            "grid_auto_columns": null,
            "margin": null,
            "display": null,
            "left": null
          }
        },
        "c1277ae595114167a3f90f9a86efae89": {
          "model_module": "@jupyter-widgets/controls",
          "model_name": "FloatProgressModel",
          "state": {
            "_view_name": "ProgressView",
            "style": "IPY_MODEL_a11786d8bebd485d9899b87686e7eddb",
            "_dom_classes": [],
            "description": "Batch: 100%",
            "_model_name": "FloatProgressModel",
            "bar_style": "success",
            "max": 45,
            "_view_module": "@jupyter-widgets/controls",
            "_model_module_version": "1.5.0",
            "value": 45,
            "_view_count": null,
            "_view_module_version": "1.5.0",
            "orientation": "horizontal",
            "min": 0,
            "description_tooltip": null,
            "_model_module": "@jupyter-widgets/controls",
            "layout": "IPY_MODEL_f2724c95529e48149a30447519c64d08"
          }
        },
        "12e3e66da5af4b7a8b803c08523429ec": {
          "model_module": "@jupyter-widgets/controls",
          "model_name": "HTMLModel",
          "state": {
            "_view_name": "HTMLView",
            "style": "IPY_MODEL_f0b757bf3629416a932c2911f08b4317",
            "_dom_classes": [],
            "description": "",
            "_model_name": "HTMLModel",
            "placeholder": "​",
            "_view_module": "@jupyter-widgets/controls",
            "_model_module_version": "1.5.0",
            "value": " 45/45 [33:25&lt;00:00, 44.57s/it]",
            "_view_count": null,
            "_view_module_version": "1.5.0",
            "description_tooltip": null,
            "_model_module": "@jupyter-widgets/controls",
            "layout": "IPY_MODEL_26a37f7f816343de87ecbb6cdaafd235"
          }
        },
        "a11786d8bebd485d9899b87686e7eddb": {
          "model_module": "@jupyter-widgets/controls",
          "model_name": "ProgressStyleModel",
          "state": {
            "_view_name": "StyleView",
            "_model_name": "ProgressStyleModel",
            "description_width": "initial",
            "_view_module": "@jupyter-widgets/base",
            "_model_module_version": "1.5.0",
            "_view_count": null,
            "_view_module_version": "1.2.0",
            "bar_color": null,
            "_model_module": "@jupyter-widgets/controls"
          }
        },
        "f2724c95529e48149a30447519c64d08": {
          "model_module": "@jupyter-widgets/base",
          "model_name": "LayoutModel",
          "state": {
            "_view_name": "LayoutView",
            "grid_template_rows": null,
            "right": null,
            "justify_content": null,
            "_view_module": "@jupyter-widgets/base",
            "overflow": null,
            "_model_module_version": "1.2.0",
            "_view_count": null,
            "flex_flow": null,
            "width": null,
            "min_width": null,
            "border": null,
            "align_items": null,
            "bottom": null,
            "_model_module": "@jupyter-widgets/base",
            "top": null,
            "grid_column": null,
            "overflow_y": null,
            "overflow_x": null,
            "grid_auto_flow": null,
            "grid_area": null,
            "grid_template_columns": null,
            "flex": null,
            "_model_name": "LayoutModel",
            "justify_items": null,
            "grid_row": null,
            "max_height": null,
            "align_content": null,
            "visibility": null,
            "align_self": null,
            "height": null,
            "min_height": null,
            "padding": null,
            "grid_auto_rows": null,
            "grid_gap": null,
            "max_width": null,
            "order": null,
            "_view_module_version": "1.2.0",
            "grid_template_areas": null,
            "object_position": null,
            "object_fit": null,
            "grid_auto_columns": null,
            "margin": null,
            "display": null,
            "left": null
          }
        },
        "f0b757bf3629416a932c2911f08b4317": {
          "model_module": "@jupyter-widgets/controls",
          "model_name": "DescriptionStyleModel",
          "state": {
            "_view_name": "StyleView",
            "_model_name": "DescriptionStyleModel",
            "description_width": "",
            "_view_module": "@jupyter-widgets/base",
            "_model_module_version": "1.5.0",
            "_view_count": null,
            "_view_module_version": "1.2.0",
            "_model_module": "@jupyter-widgets/controls"
          }
        },
        "26a37f7f816343de87ecbb6cdaafd235": {
          "model_module": "@jupyter-widgets/base",
          "model_name": "LayoutModel",
          "state": {
            "_view_name": "LayoutView",
            "grid_template_rows": null,
            "right": null,
            "justify_content": null,
            "_view_module": "@jupyter-widgets/base",
            "overflow": null,
            "_model_module_version": "1.2.0",
            "_view_count": null,
            "flex_flow": null,
            "width": null,
            "min_width": null,
            "border": null,
            "align_items": null,
            "bottom": null,
            "_model_module": "@jupyter-widgets/base",
            "top": null,
            "grid_column": null,
            "overflow_y": null,
            "overflow_x": null,
            "grid_auto_flow": null,
            "grid_area": null,
            "grid_template_columns": null,
            "flex": null,
            "_model_name": "LayoutModel",
            "justify_items": null,
            "grid_row": null,
            "max_height": null,
            "align_content": null,
            "visibility": null,
            "align_self": null,
            "height": null,
            "min_height": null,
            "padding": null,
            "grid_auto_rows": null,
            "grid_gap": null,
            "max_width": null,
            "order": null,
            "_view_module_version": "1.2.0",
            "grid_template_areas": null,
            "object_position": null,
            "object_fit": null,
            "grid_auto_columns": null,
            "margin": null,
            "display": null,
            "left": null
          }
        },
        "b6d3b613d5574a7c8dd35f3e4f272d0b": {
          "model_module": "@jupyter-widgets/controls",
          "model_name": "HBoxModel",
          "state": {
            "_view_name": "HBoxView",
            "_dom_classes": [],
            "_model_name": "HBoxModel",
            "_view_module": "@jupyter-widgets/controls",
            "_model_module_version": "1.5.0",
            "_view_count": null,
            "_view_module_version": "1.5.0",
            "box_style": "",
            "layout": "IPY_MODEL_2195ac17e935451aad5465844f4400c0",
            "_model_module": "@jupyter-widgets/controls",
            "children": [
              "IPY_MODEL_ea46748b4e2245b7947a76c2d5c76b5d",
              "IPY_MODEL_21e6101e91504e70b940d821c8cff842"
            ]
          }
        },
        "2195ac17e935451aad5465844f4400c0": {
          "model_module": "@jupyter-widgets/base",
          "model_name": "LayoutModel",
          "state": {
            "_view_name": "LayoutView",
            "grid_template_rows": null,
            "right": null,
            "justify_content": null,
            "_view_module": "@jupyter-widgets/base",
            "overflow": null,
            "_model_module_version": "1.2.0",
            "_view_count": null,
            "flex_flow": null,
            "width": null,
            "min_width": null,
            "border": null,
            "align_items": null,
            "bottom": null,
            "_model_module": "@jupyter-widgets/base",
            "top": null,
            "grid_column": null,
            "overflow_y": null,
            "overflow_x": null,
            "grid_auto_flow": null,
            "grid_area": null,
            "grid_template_columns": null,
            "flex": null,
            "_model_name": "LayoutModel",
            "justify_items": null,
            "grid_row": null,
            "max_height": null,
            "align_content": null,
            "visibility": null,
            "align_self": null,
            "height": null,
            "min_height": null,
            "padding": null,
            "grid_auto_rows": null,
            "grid_gap": null,
            "max_width": null,
            "order": null,
            "_view_module_version": "1.2.0",
            "grid_template_areas": null,
            "object_position": null,
            "object_fit": null,
            "grid_auto_columns": null,
            "margin": null,
            "display": null,
            "left": null
          }
        },
        "ea46748b4e2245b7947a76c2d5c76b5d": {
          "model_module": "@jupyter-widgets/controls",
          "model_name": "FloatProgressModel",
          "state": {
            "_view_name": "ProgressView",
            "style": "IPY_MODEL_ea3dc66da796484a8c2b670911a50773",
            "_dom_classes": [],
            "description": "Epochs: 100%",
            "_model_name": "FloatProgressModel",
            "bar_style": "success",
            "max": 50,
            "_view_module": "@jupyter-widgets/controls",
            "_model_module_version": "1.5.0",
            "value": 50,
            "_view_count": null,
            "_view_module_version": "1.5.0",
            "orientation": "horizontal",
            "min": 0,
            "description_tooltip": null,
            "_model_module": "@jupyter-widgets/controls",
            "layout": "IPY_MODEL_65437289fb7f485680569b4e40f735c0"
          }
        },
        "21e6101e91504e70b940d821c8cff842": {
          "model_module": "@jupyter-widgets/controls",
          "model_name": "HTMLModel",
          "state": {
            "_view_name": "HTMLView",
            "style": "IPY_MODEL_ead38f676b994cdc9afffefeb318e86a",
            "_dom_classes": [],
            "description": "",
            "_model_name": "HTMLModel",
            "placeholder": "​",
            "_view_module": "@jupyter-widgets/controls",
            "_model_module_version": "1.5.0",
            "value": " 50/50 [1:08:16&lt;00:00, 81.93s/it, acc=0.862, loss=0.343, val_acc=0.858, val_loss=0.365]",
            "_view_count": null,
            "_view_module_version": "1.5.0",
            "description_tooltip": null,
            "_model_module": "@jupyter-widgets/controls",
            "layout": "IPY_MODEL_0e8488c5dc184163af58226227f27750"
          }
        },
        "ea3dc66da796484a8c2b670911a50773": {
          "model_module": "@jupyter-widgets/controls",
          "model_name": "ProgressStyleModel",
          "state": {
            "_view_name": "StyleView",
            "_model_name": "ProgressStyleModel",
            "description_width": "initial",
            "_view_module": "@jupyter-widgets/base",
            "_model_module_version": "1.5.0",
            "_view_count": null,
            "_view_module_version": "1.2.0",
            "bar_color": null,
            "_model_module": "@jupyter-widgets/controls"
          }
        },
        "65437289fb7f485680569b4e40f735c0": {
          "model_module": "@jupyter-widgets/base",
          "model_name": "LayoutModel",
          "state": {
            "_view_name": "LayoutView",
            "grid_template_rows": null,
            "right": null,
            "justify_content": null,
            "_view_module": "@jupyter-widgets/base",
            "overflow": null,
            "_model_module_version": "1.2.0",
            "_view_count": null,
            "flex_flow": null,
            "width": null,
            "min_width": null,
            "border": null,
            "align_items": null,
            "bottom": null,
            "_model_module": "@jupyter-widgets/base",
            "top": null,
            "grid_column": null,
            "overflow_y": null,
            "overflow_x": null,
            "grid_auto_flow": null,
            "grid_area": null,
            "grid_template_columns": null,
            "flex": null,
            "_model_name": "LayoutModel",
            "justify_items": null,
            "grid_row": null,
            "max_height": null,
            "align_content": null,
            "visibility": null,
            "align_self": null,
            "height": null,
            "min_height": null,
            "padding": null,
            "grid_auto_rows": null,
            "grid_gap": null,
            "max_width": null,
            "order": null,
            "_view_module_version": "1.2.0",
            "grid_template_areas": null,
            "object_position": null,
            "object_fit": null,
            "grid_auto_columns": null,
            "margin": null,
            "display": null,
            "left": null
          }
        },
        "ead38f676b994cdc9afffefeb318e86a": {
          "model_module": "@jupyter-widgets/controls",
          "model_name": "DescriptionStyleModel",
          "state": {
            "_view_name": "StyleView",
            "_model_name": "DescriptionStyleModel",
            "description_width": "",
            "_view_module": "@jupyter-widgets/base",
            "_model_module_version": "1.5.0",
            "_view_count": null,
            "_view_module_version": "1.2.0",
            "_model_module": "@jupyter-widgets/controls"
          }
        },
        "0e8488c5dc184163af58226227f27750": {
          "model_module": "@jupyter-widgets/base",
          "model_name": "LayoutModel",
          "state": {
            "_view_name": "LayoutView",
            "grid_template_rows": null,
            "right": null,
            "justify_content": null,
            "_view_module": "@jupyter-widgets/base",
            "overflow": null,
            "_model_module_version": "1.2.0",
            "_view_count": null,
            "flex_flow": null,
            "width": null,
            "min_width": null,
            "border": null,
            "align_items": null,
            "bottom": null,
            "_model_module": "@jupyter-widgets/base",
            "top": null,
            "grid_column": null,
            "overflow_y": null,
            "overflow_x": null,
            "grid_auto_flow": null,
            "grid_area": null,
            "grid_template_columns": null,
            "flex": null,
            "_model_name": "LayoutModel",
            "justify_items": null,
            "grid_row": null,
            "max_height": null,
            "align_content": null,
            "visibility": null,
            "align_self": null,
            "height": null,
            "min_height": null,
            "padding": null,
            "grid_auto_rows": null,
            "grid_gap": null,
            "max_width": null,
            "order": null,
            "_view_module_version": "1.2.0",
            "grid_template_areas": null,
            "object_position": null,
            "object_fit": null,
            "grid_auto_columns": null,
            "margin": null,
            "display": null,
            "left": null
          }
        },
        "a1387553de84486688b07d202a9ea70e": {
          "model_module": "@jupyter-widgets/controls",
          "model_name": "HBoxModel",
          "state": {
            "_view_name": "HBoxView",
            "_dom_classes": [],
            "_model_name": "HBoxModel",
            "_view_module": "@jupyter-widgets/controls",
            "_model_module_version": "1.5.0",
            "_view_count": null,
            "_view_module_version": "1.5.0",
            "box_style": "",
            "layout": "IPY_MODEL_02272b2b19e344e1841b70d8ade24d24",
            "_model_module": "@jupyter-widgets/controls",
            "children": [
              "IPY_MODEL_d98806aed8fb4e8986dbf2236b8775c1",
              "IPY_MODEL_4bafd23778cc44559c63e93fae3765b8"
            ]
          }
        },
        "02272b2b19e344e1841b70d8ade24d24": {
          "model_module": "@jupyter-widgets/base",
          "model_name": "LayoutModel",
          "state": {
            "_view_name": "LayoutView",
            "grid_template_rows": null,
            "right": null,
            "justify_content": null,
            "_view_module": "@jupyter-widgets/base",
            "overflow": null,
            "_model_module_version": "1.2.0",
            "_view_count": null,
            "flex_flow": null,
            "width": null,
            "min_width": null,
            "border": null,
            "align_items": null,
            "bottom": null,
            "_model_module": "@jupyter-widgets/base",
            "top": null,
            "grid_column": null,
            "overflow_y": null,
            "overflow_x": null,
            "grid_auto_flow": null,
            "grid_area": null,
            "grid_template_columns": null,
            "flex": null,
            "_model_name": "LayoutModel",
            "justify_items": null,
            "grid_row": null,
            "max_height": null,
            "align_content": null,
            "visibility": null,
            "align_self": null,
            "height": null,
            "min_height": null,
            "padding": null,
            "grid_auto_rows": null,
            "grid_gap": null,
            "max_width": null,
            "order": null,
            "_view_module_version": "1.2.0",
            "grid_template_areas": null,
            "object_position": null,
            "object_fit": null,
            "grid_auto_columns": null,
            "margin": null,
            "display": null,
            "left": null
          }
        },
        "d98806aed8fb4e8986dbf2236b8775c1": {
          "model_module": "@jupyter-widgets/controls",
          "model_name": "FloatProgressModel",
          "state": {
            "_view_name": "ProgressView",
            "style": "IPY_MODEL_2b56aef74dff4ce790f6d6da20206f79",
            "_dom_classes": [],
            "description": "Batch: 100%",
            "_model_name": "FloatProgressModel",
            "bar_style": "success",
            "max": 45,
            "_view_module": "@jupyter-widgets/controls",
            "_model_module_version": "1.5.0",
            "value": 45,
            "_view_count": null,
            "_view_module_version": "1.5.0",
            "orientation": "horizontal",
            "min": 0,
            "description_tooltip": null,
            "_model_module": "@jupyter-widgets/controls",
            "layout": "IPY_MODEL_48e535b646d445c0a1de7b4e2dc37b64"
          }
        },
        "4bafd23778cc44559c63e93fae3765b8": {
          "model_module": "@jupyter-widgets/controls",
          "model_name": "HTMLModel",
          "state": {
            "_view_name": "HTMLView",
            "style": "IPY_MODEL_fce7e264021b4317b642dc8635fcc9d4",
            "_dom_classes": [],
            "description": "",
            "_model_name": "HTMLModel",
            "placeholder": "​",
            "_view_module": "@jupyter-widgets/controls",
            "_model_module_version": "1.5.0",
            "value": " 45/45 [33:35&lt;00:00, 44.79s/it]",
            "_view_count": null,
            "_view_module_version": "1.5.0",
            "description_tooltip": null,
            "_model_module": "@jupyter-widgets/controls",
            "layout": "IPY_MODEL_3b2573687e244d02bfac8ecd97043697"
          }
        },
        "2b56aef74dff4ce790f6d6da20206f79": {
          "model_module": "@jupyter-widgets/controls",
          "model_name": "ProgressStyleModel",
          "state": {
            "_view_name": "StyleView",
            "_model_name": "ProgressStyleModel",
            "description_width": "initial",
            "_view_module": "@jupyter-widgets/base",
            "_model_module_version": "1.5.0",
            "_view_count": null,
            "_view_module_version": "1.2.0",
            "bar_color": null,
            "_model_module": "@jupyter-widgets/controls"
          }
        },
        "48e535b646d445c0a1de7b4e2dc37b64": {
          "model_module": "@jupyter-widgets/base",
          "model_name": "LayoutModel",
          "state": {
            "_view_name": "LayoutView",
            "grid_template_rows": null,
            "right": null,
            "justify_content": null,
            "_view_module": "@jupyter-widgets/base",
            "overflow": null,
            "_model_module_version": "1.2.0",
            "_view_count": null,
            "flex_flow": null,
            "width": null,
            "min_width": null,
            "border": null,
            "align_items": null,
            "bottom": null,
            "_model_module": "@jupyter-widgets/base",
            "top": null,
            "grid_column": null,
            "overflow_y": null,
            "overflow_x": null,
            "grid_auto_flow": null,
            "grid_area": null,
            "grid_template_columns": null,
            "flex": null,
            "_model_name": "LayoutModel",
            "justify_items": null,
            "grid_row": null,
            "max_height": null,
            "align_content": null,
            "visibility": null,
            "align_self": null,
            "height": null,
            "min_height": null,
            "padding": null,
            "grid_auto_rows": null,
            "grid_gap": null,
            "max_width": null,
            "order": null,
            "_view_module_version": "1.2.0",
            "grid_template_areas": null,
            "object_position": null,
            "object_fit": null,
            "grid_auto_columns": null,
            "margin": null,
            "display": null,
            "left": null
          }
        },
        "fce7e264021b4317b642dc8635fcc9d4": {
          "model_module": "@jupyter-widgets/controls",
          "model_name": "DescriptionStyleModel",
          "state": {
            "_view_name": "StyleView",
            "_model_name": "DescriptionStyleModel",
            "description_width": "",
            "_view_module": "@jupyter-widgets/base",
            "_model_module_version": "1.5.0",
            "_view_count": null,
            "_view_module_version": "1.2.0",
            "_model_module": "@jupyter-widgets/controls"
          }
        },
        "3b2573687e244d02bfac8ecd97043697": {
          "model_module": "@jupyter-widgets/base",
          "model_name": "LayoutModel",
          "state": {
            "_view_name": "LayoutView",
            "grid_template_rows": null,
            "right": null,
            "justify_content": null,
            "_view_module": "@jupyter-widgets/base",
            "overflow": null,
            "_model_module_version": "1.2.0",
            "_view_count": null,
            "flex_flow": null,
            "width": null,
            "min_width": null,
            "border": null,
            "align_items": null,
            "bottom": null,
            "_model_module": "@jupyter-widgets/base",
            "top": null,
            "grid_column": null,
            "overflow_y": null,
            "overflow_x": null,
            "grid_auto_flow": null,
            "grid_area": null,
            "grid_template_columns": null,
            "flex": null,
            "_model_name": "LayoutModel",
            "justify_items": null,
            "grid_row": null,
            "max_height": null,
            "align_content": null,
            "visibility": null,
            "align_self": null,
            "height": null,
            "min_height": null,
            "padding": null,
            "grid_auto_rows": null,
            "grid_gap": null,
            "max_width": null,
            "order": null,
            "_view_module_version": "1.2.0",
            "grid_template_areas": null,
            "object_position": null,
            "object_fit": null,
            "grid_auto_columns": null,
            "margin": null,
            "display": null,
            "left": null
          }
        },
        "4a50b9cb0edc45829aa92707bd914a0c": {
          "model_module": "@jupyter-widgets/controls",
          "model_name": "HBoxModel",
          "state": {
            "_view_name": "HBoxView",
            "_dom_classes": [],
            "_model_name": "HBoxModel",
            "_view_module": "@jupyter-widgets/controls",
            "_model_module_version": "1.5.0",
            "_view_count": null,
            "_view_module_version": "1.5.0",
            "box_style": "",
            "layout": "IPY_MODEL_98e815bd74ae495ca1cbb16bfbcbb0fa",
            "_model_module": "@jupyter-widgets/controls",
            "children": [
              "IPY_MODEL_e8a9391e563d4f0098cf3b0b93fd14fd",
              "IPY_MODEL_0bcfd73d9675429ebfb9a243dfcd44b4"
            ]
          }
        },
        "98e815bd74ae495ca1cbb16bfbcbb0fa": {
          "model_module": "@jupyter-widgets/base",
          "model_name": "LayoutModel",
          "state": {
            "_view_name": "LayoutView",
            "grid_template_rows": null,
            "right": null,
            "justify_content": null,
            "_view_module": "@jupyter-widgets/base",
            "overflow": null,
            "_model_module_version": "1.2.0",
            "_view_count": null,
            "flex_flow": null,
            "width": null,
            "min_width": null,
            "border": null,
            "align_items": null,
            "bottom": null,
            "_model_module": "@jupyter-widgets/base",
            "top": null,
            "grid_column": null,
            "overflow_y": null,
            "overflow_x": null,
            "grid_auto_flow": null,
            "grid_area": null,
            "grid_template_columns": null,
            "flex": null,
            "_model_name": "LayoutModel",
            "justify_items": null,
            "grid_row": null,
            "max_height": null,
            "align_content": null,
            "visibility": null,
            "align_self": null,
            "height": null,
            "min_height": null,
            "padding": null,
            "grid_auto_rows": null,
            "grid_gap": null,
            "max_width": null,
            "order": null,
            "_view_module_version": "1.2.0",
            "grid_template_areas": null,
            "object_position": null,
            "object_fit": null,
            "grid_auto_columns": null,
            "margin": null,
            "display": null,
            "left": null
          }
        },
        "e8a9391e563d4f0098cf3b0b93fd14fd": {
          "model_module": "@jupyter-widgets/controls",
          "model_name": "FloatProgressModel",
          "state": {
            "_view_name": "ProgressView",
            "style": "IPY_MODEL_a72890e64b1141d08884548d8972ea25",
            "_dom_classes": [],
            "description": "Epochs: 100%",
            "_model_name": "FloatProgressModel",
            "bar_style": "success",
            "max": 50,
            "_view_module": "@jupyter-widgets/controls",
            "_model_module_version": "1.5.0",
            "value": 50,
            "_view_count": null,
            "_view_module_version": "1.5.0",
            "orientation": "horizontal",
            "min": 0,
            "description_tooltip": null,
            "_model_module": "@jupyter-widgets/controls",
            "layout": "IPY_MODEL_120f80ecd8994b768b56e7297562b8c4"
          }
        },
        "0bcfd73d9675429ebfb9a243dfcd44b4": {
          "model_module": "@jupyter-widgets/controls",
          "model_name": "HTMLModel",
          "state": {
            "_view_name": "HTMLView",
            "style": "IPY_MODEL_247f6a4afeae46b082a62039f9141f9b",
            "_dom_classes": [],
            "description": "",
            "_model_name": "HTMLModel",
            "placeholder": "​",
            "_view_module": "@jupyter-widgets/controls",
            "_model_module_version": "1.5.0",
            "value": " 50/50 [41:45&lt;00:00, 50.12s/it, acc=0.936, loss=0.194, val_acc=0.929, val_loss=0.178]",
            "_view_count": null,
            "_view_module_version": "1.5.0",
            "description_tooltip": null,
            "_model_module": "@jupyter-widgets/controls",
            "layout": "IPY_MODEL_ca6c4fc7c5bb4c939f1dd29623866a33"
          }
        },
        "a72890e64b1141d08884548d8972ea25": {
          "model_module": "@jupyter-widgets/controls",
          "model_name": "ProgressStyleModel",
          "state": {
            "_view_name": "StyleView",
            "_model_name": "ProgressStyleModel",
            "description_width": "initial",
            "_view_module": "@jupyter-widgets/base",
            "_model_module_version": "1.5.0",
            "_view_count": null,
            "_view_module_version": "1.2.0",
            "bar_color": null,
            "_model_module": "@jupyter-widgets/controls"
          }
        },
        "120f80ecd8994b768b56e7297562b8c4": {
          "model_module": "@jupyter-widgets/base",
          "model_name": "LayoutModel",
          "state": {
            "_view_name": "LayoutView",
            "grid_template_rows": null,
            "right": null,
            "justify_content": null,
            "_view_module": "@jupyter-widgets/base",
            "overflow": null,
            "_model_module_version": "1.2.0",
            "_view_count": null,
            "flex_flow": null,
            "width": null,
            "min_width": null,
            "border": null,
            "align_items": null,
            "bottom": null,
            "_model_module": "@jupyter-widgets/base",
            "top": null,
            "grid_column": null,
            "overflow_y": null,
            "overflow_x": null,
            "grid_auto_flow": null,
            "grid_area": null,
            "grid_template_columns": null,
            "flex": null,
            "_model_name": "LayoutModel",
            "justify_items": null,
            "grid_row": null,
            "max_height": null,
            "align_content": null,
            "visibility": null,
            "align_self": null,
            "height": null,
            "min_height": null,
            "padding": null,
            "grid_auto_rows": null,
            "grid_gap": null,
            "max_width": null,
            "order": null,
            "_view_module_version": "1.2.0",
            "grid_template_areas": null,
            "object_position": null,
            "object_fit": null,
            "grid_auto_columns": null,
            "margin": null,
            "display": null,
            "left": null
          }
        },
        "247f6a4afeae46b082a62039f9141f9b": {
          "model_module": "@jupyter-widgets/controls",
          "model_name": "DescriptionStyleModel",
          "state": {
            "_view_name": "StyleView",
            "_model_name": "DescriptionStyleModel",
            "description_width": "",
            "_view_module": "@jupyter-widgets/base",
            "_model_module_version": "1.5.0",
            "_view_count": null,
            "_view_module_version": "1.2.0",
            "_model_module": "@jupyter-widgets/controls"
          }
        },
        "ca6c4fc7c5bb4c939f1dd29623866a33": {
          "model_module": "@jupyter-widgets/base",
          "model_name": "LayoutModel",
          "state": {
            "_view_name": "LayoutView",
            "grid_template_rows": null,
            "right": null,
            "justify_content": null,
            "_view_module": "@jupyter-widgets/base",
            "overflow": null,
            "_model_module_version": "1.2.0",
            "_view_count": null,
            "flex_flow": null,
            "width": null,
            "min_width": null,
            "border": null,
            "align_items": null,
            "bottom": null,
            "_model_module": "@jupyter-widgets/base",
            "top": null,
            "grid_column": null,
            "overflow_y": null,
            "overflow_x": null,
            "grid_auto_flow": null,
            "grid_area": null,
            "grid_template_columns": null,
            "flex": null,
            "_model_name": "LayoutModel",
            "justify_items": null,
            "grid_row": null,
            "max_height": null,
            "align_content": null,
            "visibility": null,
            "align_self": null,
            "height": null,
            "min_height": null,
            "padding": null,
            "grid_auto_rows": null,
            "grid_gap": null,
            "max_width": null,
            "order": null,
            "_view_module_version": "1.2.0",
            "grid_template_areas": null,
            "object_position": null,
            "object_fit": null,
            "grid_auto_columns": null,
            "margin": null,
            "display": null,
            "left": null
          }
        },
        "9b672a54bbb3470da2ed32527496120b": {
          "model_module": "@jupyter-widgets/controls",
          "model_name": "HBoxModel",
          "state": {
            "_view_name": "HBoxView",
            "_dom_classes": [],
            "_model_name": "HBoxModel",
            "_view_module": "@jupyter-widgets/controls",
            "_model_module_version": "1.5.0",
            "_view_count": null,
            "_view_module_version": "1.5.0",
            "box_style": "",
            "layout": "IPY_MODEL_00540698a0fe4828a0e582b0dae87434",
            "_model_module": "@jupyter-widgets/controls",
            "children": [
              "IPY_MODEL_a0053678f78e46e396eacdd4d3206f92",
              "IPY_MODEL_f4dd2ca780d74c2abea54484b17ff14b"
            ]
          }
        },
        "00540698a0fe4828a0e582b0dae87434": {
          "model_module": "@jupyter-widgets/base",
          "model_name": "LayoutModel",
          "state": {
            "_view_name": "LayoutView",
            "grid_template_rows": null,
            "right": null,
            "justify_content": null,
            "_view_module": "@jupyter-widgets/base",
            "overflow": null,
            "_model_module_version": "1.2.0",
            "_view_count": null,
            "flex_flow": null,
            "width": null,
            "min_width": null,
            "border": null,
            "align_items": null,
            "bottom": null,
            "_model_module": "@jupyter-widgets/base",
            "top": null,
            "grid_column": null,
            "overflow_y": null,
            "overflow_x": null,
            "grid_auto_flow": null,
            "grid_area": null,
            "grid_template_columns": null,
            "flex": null,
            "_model_name": "LayoutModel",
            "justify_items": null,
            "grid_row": null,
            "max_height": null,
            "align_content": null,
            "visibility": null,
            "align_self": null,
            "height": null,
            "min_height": null,
            "padding": null,
            "grid_auto_rows": null,
            "grid_gap": null,
            "max_width": null,
            "order": null,
            "_view_module_version": "1.2.0",
            "grid_template_areas": null,
            "object_position": null,
            "object_fit": null,
            "grid_auto_columns": null,
            "margin": null,
            "display": null,
            "left": null
          }
        },
        "a0053678f78e46e396eacdd4d3206f92": {
          "model_module": "@jupyter-widgets/controls",
          "model_name": "FloatProgressModel",
          "state": {
            "_view_name": "ProgressView",
            "style": "IPY_MODEL_63fab72b667547bd8ae656a98a38528b",
            "_dom_classes": [],
            "description": "Batch: 100%",
            "_model_name": "FloatProgressModel",
            "bar_style": "success",
            "max": 45,
            "_view_module": "@jupyter-widgets/controls",
            "_model_module_version": "1.5.0",
            "value": 45,
            "_view_count": null,
            "_view_module_version": "1.5.0",
            "orientation": "horizontal",
            "min": 0,
            "description_tooltip": null,
            "_model_module": "@jupyter-widgets/controls",
            "layout": "IPY_MODEL_c7cd86ccd7fa4c3eaad44dab2090e9bd"
          }
        },
        "f4dd2ca780d74c2abea54484b17ff14b": {
          "model_module": "@jupyter-widgets/controls",
          "model_name": "HTMLModel",
          "state": {
            "_view_name": "HTMLView",
            "style": "IPY_MODEL_8949f0a9f10049d3b1ce81b9a773e018",
            "_dom_classes": [],
            "description": "",
            "_model_name": "HTMLModel",
            "placeholder": "​",
            "_view_module": "@jupyter-widgets/controls",
            "_model_module_version": "1.5.0",
            "value": " 45/45 [41:45&lt;00:00, 55.68s/it]",
            "_view_count": null,
            "_view_module_version": "1.5.0",
            "description_tooltip": null,
            "_model_module": "@jupyter-widgets/controls",
            "layout": "IPY_MODEL_01bc6fa82aec4d88a801ff42150f8ee1"
          }
        },
        "63fab72b667547bd8ae656a98a38528b": {
          "model_module": "@jupyter-widgets/controls",
          "model_name": "ProgressStyleModel",
          "state": {
            "_view_name": "StyleView",
            "_model_name": "ProgressStyleModel",
            "description_width": "initial",
            "_view_module": "@jupyter-widgets/base",
            "_model_module_version": "1.5.0",
            "_view_count": null,
            "_view_module_version": "1.2.0",
            "bar_color": null,
            "_model_module": "@jupyter-widgets/controls"
          }
        },
        "c7cd86ccd7fa4c3eaad44dab2090e9bd": {
          "model_module": "@jupyter-widgets/base",
          "model_name": "LayoutModel",
          "state": {
            "_view_name": "LayoutView",
            "grid_template_rows": null,
            "right": null,
            "justify_content": null,
            "_view_module": "@jupyter-widgets/base",
            "overflow": null,
            "_model_module_version": "1.2.0",
            "_view_count": null,
            "flex_flow": null,
            "width": null,
            "min_width": null,
            "border": null,
            "align_items": null,
            "bottom": null,
            "_model_module": "@jupyter-widgets/base",
            "top": null,
            "grid_column": null,
            "overflow_y": null,
            "overflow_x": null,
            "grid_auto_flow": null,
            "grid_area": null,
            "grid_template_columns": null,
            "flex": null,
            "_model_name": "LayoutModel",
            "justify_items": null,
            "grid_row": null,
            "max_height": null,
            "align_content": null,
            "visibility": null,
            "align_self": null,
            "height": null,
            "min_height": null,
            "padding": null,
            "grid_auto_rows": null,
            "grid_gap": null,
            "max_width": null,
            "order": null,
            "_view_module_version": "1.2.0",
            "grid_template_areas": null,
            "object_position": null,
            "object_fit": null,
            "grid_auto_columns": null,
            "margin": null,
            "display": null,
            "left": null
          }
        },
        "8949f0a9f10049d3b1ce81b9a773e018": {
          "model_module": "@jupyter-widgets/controls",
          "model_name": "DescriptionStyleModel",
          "state": {
            "_view_name": "StyleView",
            "_model_name": "DescriptionStyleModel",
            "description_width": "",
            "_view_module": "@jupyter-widgets/base",
            "_model_module_version": "1.5.0",
            "_view_count": null,
            "_view_module_version": "1.2.0",
            "_model_module": "@jupyter-widgets/controls"
          }
        },
        "01bc6fa82aec4d88a801ff42150f8ee1": {
          "model_module": "@jupyter-widgets/base",
          "model_name": "LayoutModel",
          "state": {
            "_view_name": "LayoutView",
            "grid_template_rows": null,
            "right": null,
            "justify_content": null,
            "_view_module": "@jupyter-widgets/base",
            "overflow": null,
            "_model_module_version": "1.2.0",
            "_view_count": null,
            "flex_flow": null,
            "width": null,
            "min_width": null,
            "border": null,
            "align_items": null,
            "bottom": null,
            "_model_module": "@jupyter-widgets/base",
            "top": null,
            "grid_column": null,
            "overflow_y": null,
            "overflow_x": null,
            "grid_auto_flow": null,
            "grid_area": null,
            "grid_template_columns": null,
            "flex": null,
            "_model_name": "LayoutModel",
            "justify_items": null,
            "grid_row": null,
            "max_height": null,
            "align_content": null,
            "visibility": null,
            "align_self": null,
            "height": null,
            "min_height": null,
            "padding": null,
            "grid_auto_rows": null,
            "grid_gap": null,
            "max_width": null,
            "order": null,
            "_view_module_version": "1.2.0",
            "grid_template_areas": null,
            "object_position": null,
            "object_fit": null,
            "grid_auto_columns": null,
            "margin": null,
            "display": null,
            "left": null
          }
        },
        "cfb73af77a5c4f319452fe85db1e88cb": {
          "model_module": "@jupyter-widgets/controls",
          "model_name": "HBoxModel",
          "state": {
            "_view_name": "HBoxView",
            "_dom_classes": [],
            "_model_name": "HBoxModel",
            "_view_module": "@jupyter-widgets/controls",
            "_model_module_version": "1.5.0",
            "_view_count": null,
            "_view_module_version": "1.5.0",
            "box_style": "",
            "layout": "IPY_MODEL_8766b77ddd5f4d889f73dfffff3ddc67",
            "_model_module": "@jupyter-widgets/controls",
            "children": [
              "IPY_MODEL_c67264720678481a83fbf9edc62ec35c",
              "IPY_MODEL_ed6b1d31426848b7a679ed77541e0897"
            ]
          }
        },
        "8766b77ddd5f4d889f73dfffff3ddc67": {
          "model_module": "@jupyter-widgets/base",
          "model_name": "LayoutModel",
          "state": {
            "_view_name": "LayoutView",
            "grid_template_rows": null,
            "right": null,
            "justify_content": null,
            "_view_module": "@jupyter-widgets/base",
            "overflow": null,
            "_model_module_version": "1.2.0",
            "_view_count": null,
            "flex_flow": null,
            "width": null,
            "min_width": null,
            "border": null,
            "align_items": null,
            "bottom": null,
            "_model_module": "@jupyter-widgets/base",
            "top": null,
            "grid_column": null,
            "overflow_y": null,
            "overflow_x": null,
            "grid_auto_flow": null,
            "grid_area": null,
            "grid_template_columns": null,
            "flex": null,
            "_model_name": "LayoutModel",
            "justify_items": null,
            "grid_row": null,
            "max_height": null,
            "align_content": null,
            "visibility": null,
            "align_self": null,
            "height": null,
            "min_height": null,
            "padding": null,
            "grid_auto_rows": null,
            "grid_gap": null,
            "max_width": null,
            "order": null,
            "_view_module_version": "1.2.0",
            "grid_template_areas": null,
            "object_position": null,
            "object_fit": null,
            "grid_auto_columns": null,
            "margin": null,
            "display": null,
            "left": null
          }
        },
        "c67264720678481a83fbf9edc62ec35c": {
          "model_module": "@jupyter-widgets/controls",
          "model_name": "FloatProgressModel",
          "state": {
            "_view_name": "ProgressView",
            "style": "IPY_MODEL_dfff1b80d2104716bbce6532dca4ea03",
            "_dom_classes": [],
            "description": "Epochs: 100%",
            "_model_name": "FloatProgressModel",
            "bar_style": "success",
            "max": 50,
            "_view_module": "@jupyter-widgets/controls",
            "_model_module_version": "1.5.0",
            "value": 50,
            "_view_count": null,
            "_view_module_version": "1.5.0",
            "orientation": "horizontal",
            "min": 0,
            "description_tooltip": null,
            "_model_module": "@jupyter-widgets/controls",
            "layout": "IPY_MODEL_e18b7bf33a0c45bc9498a5eb108e18de"
          }
        },
        "ed6b1d31426848b7a679ed77541e0897": {
          "model_module": "@jupyter-widgets/controls",
          "model_name": "HTMLModel",
          "state": {
            "_view_name": "HTMLView",
            "style": "IPY_MODEL_4fc2b47afd6640f7a98122ae27d3a2e3",
            "_dom_classes": [],
            "description": "",
            "_model_name": "HTMLModel",
            "placeholder": "​",
            "_view_module": "@jupyter-widgets/controls",
            "_model_module_version": "1.5.0",
            "value": " 50/50 [34:38&lt;00:00, 41.57s/it, acc=0.913, loss=0.229, val_acc=0.91, val_loss=0.219]",
            "_view_count": null,
            "_view_module_version": "1.5.0",
            "description_tooltip": null,
            "_model_module": "@jupyter-widgets/controls",
            "layout": "IPY_MODEL_c2f8bba0160342c8a17f92c113e41c64"
          }
        },
        "dfff1b80d2104716bbce6532dca4ea03": {
          "model_module": "@jupyter-widgets/controls",
          "model_name": "ProgressStyleModel",
          "state": {
            "_view_name": "StyleView",
            "_model_name": "ProgressStyleModel",
            "description_width": "initial",
            "_view_module": "@jupyter-widgets/base",
            "_model_module_version": "1.5.0",
            "_view_count": null,
            "_view_module_version": "1.2.0",
            "bar_color": null,
            "_model_module": "@jupyter-widgets/controls"
          }
        },
        "e18b7bf33a0c45bc9498a5eb108e18de": {
          "model_module": "@jupyter-widgets/base",
          "model_name": "LayoutModel",
          "state": {
            "_view_name": "LayoutView",
            "grid_template_rows": null,
            "right": null,
            "justify_content": null,
            "_view_module": "@jupyter-widgets/base",
            "overflow": null,
            "_model_module_version": "1.2.0",
            "_view_count": null,
            "flex_flow": null,
            "width": null,
            "min_width": null,
            "border": null,
            "align_items": null,
            "bottom": null,
            "_model_module": "@jupyter-widgets/base",
            "top": null,
            "grid_column": null,
            "overflow_y": null,
            "overflow_x": null,
            "grid_auto_flow": null,
            "grid_area": null,
            "grid_template_columns": null,
            "flex": null,
            "_model_name": "LayoutModel",
            "justify_items": null,
            "grid_row": null,
            "max_height": null,
            "align_content": null,
            "visibility": null,
            "align_self": null,
            "height": null,
            "min_height": null,
            "padding": null,
            "grid_auto_rows": null,
            "grid_gap": null,
            "max_width": null,
            "order": null,
            "_view_module_version": "1.2.0",
            "grid_template_areas": null,
            "object_position": null,
            "object_fit": null,
            "grid_auto_columns": null,
            "margin": null,
            "display": null,
            "left": null
          }
        },
        "4fc2b47afd6640f7a98122ae27d3a2e3": {
          "model_module": "@jupyter-widgets/controls",
          "model_name": "DescriptionStyleModel",
          "state": {
            "_view_name": "StyleView",
            "_model_name": "DescriptionStyleModel",
            "description_width": "",
            "_view_module": "@jupyter-widgets/base",
            "_model_module_version": "1.5.0",
            "_view_count": null,
            "_view_module_version": "1.2.0",
            "_model_module": "@jupyter-widgets/controls"
          }
        },
        "c2f8bba0160342c8a17f92c113e41c64": {
          "model_module": "@jupyter-widgets/base",
          "model_name": "LayoutModel",
          "state": {
            "_view_name": "LayoutView",
            "grid_template_rows": null,
            "right": null,
            "justify_content": null,
            "_view_module": "@jupyter-widgets/base",
            "overflow": null,
            "_model_module_version": "1.2.0",
            "_view_count": null,
            "flex_flow": null,
            "width": null,
            "min_width": null,
            "border": null,
            "align_items": null,
            "bottom": null,
            "_model_module": "@jupyter-widgets/base",
            "top": null,
            "grid_column": null,
            "overflow_y": null,
            "overflow_x": null,
            "grid_auto_flow": null,
            "grid_area": null,
            "grid_template_columns": null,
            "flex": null,
            "_model_name": "LayoutModel",
            "justify_items": null,
            "grid_row": null,
            "max_height": null,
            "align_content": null,
            "visibility": null,
            "align_self": null,
            "height": null,
            "min_height": null,
            "padding": null,
            "grid_auto_rows": null,
            "grid_gap": null,
            "max_width": null,
            "order": null,
            "_view_module_version": "1.2.0",
            "grid_template_areas": null,
            "object_position": null,
            "object_fit": null,
            "grid_auto_columns": null,
            "margin": null,
            "display": null,
            "left": null
          }
        },
        "0280f351c9cb466aa1fb5decdc6429e0": {
          "model_module": "@jupyter-widgets/controls",
          "model_name": "HBoxModel",
          "state": {
            "_view_name": "HBoxView",
            "_dom_classes": [],
            "_model_name": "HBoxModel",
            "_view_module": "@jupyter-widgets/controls",
            "_model_module_version": "1.5.0",
            "_view_count": null,
            "_view_module_version": "1.5.0",
            "box_style": "",
            "layout": "IPY_MODEL_e3101456a2504b8197be4ff1b90f2299",
            "_model_module": "@jupyter-widgets/controls",
            "children": [
              "IPY_MODEL_ad875a4d888d45d8a9a31199867477a6",
              "IPY_MODEL_3d28498234604accbbce637b4dbf033f"
            ]
          }
        },
        "e3101456a2504b8197be4ff1b90f2299": {
          "model_module": "@jupyter-widgets/base",
          "model_name": "LayoutModel",
          "state": {
            "_view_name": "LayoutView",
            "grid_template_rows": null,
            "right": null,
            "justify_content": null,
            "_view_module": "@jupyter-widgets/base",
            "overflow": null,
            "_model_module_version": "1.2.0",
            "_view_count": null,
            "flex_flow": null,
            "width": null,
            "min_width": null,
            "border": null,
            "align_items": null,
            "bottom": null,
            "_model_module": "@jupyter-widgets/base",
            "top": null,
            "grid_column": null,
            "overflow_y": null,
            "overflow_x": null,
            "grid_auto_flow": null,
            "grid_area": null,
            "grid_template_columns": null,
            "flex": null,
            "_model_name": "LayoutModel",
            "justify_items": null,
            "grid_row": null,
            "max_height": null,
            "align_content": null,
            "visibility": null,
            "align_self": null,
            "height": null,
            "min_height": null,
            "padding": null,
            "grid_auto_rows": null,
            "grid_gap": null,
            "max_width": null,
            "order": null,
            "_view_module_version": "1.2.0",
            "grid_template_areas": null,
            "object_position": null,
            "object_fit": null,
            "grid_auto_columns": null,
            "margin": null,
            "display": null,
            "left": null
          }
        },
        "ad875a4d888d45d8a9a31199867477a6": {
          "model_module": "@jupyter-widgets/controls",
          "model_name": "FloatProgressModel",
          "state": {
            "_view_name": "ProgressView",
            "style": "IPY_MODEL_fc071cede4c24e2185000cc5cdb4755d",
            "_dom_classes": [],
            "description": "Batch: 100%",
            "_model_name": "FloatProgressModel",
            "bar_style": "success",
            "max": 45,
            "_view_module": "@jupyter-widgets/controls",
            "_model_module_version": "1.5.0",
            "value": 45,
            "_view_count": null,
            "_view_module_version": "1.5.0",
            "orientation": "horizontal",
            "min": 0,
            "description_tooltip": null,
            "_model_module": "@jupyter-widgets/controls",
            "layout": "IPY_MODEL_6d38eab9a6944e05bcc862d9fa470f08"
          }
        },
        "3d28498234604accbbce637b4dbf033f": {
          "model_module": "@jupyter-widgets/controls",
          "model_name": "HTMLModel",
          "state": {
            "_view_name": "HTMLView",
            "style": "IPY_MODEL_3ae776ffe5154c07b832363a8030e75f",
            "_dom_classes": [],
            "description": "",
            "_model_name": "HTMLModel",
            "placeholder": "​",
            "_view_module": "@jupyter-widgets/controls",
            "_model_module_version": "1.5.0",
            "value": " 45/45 [34:40&lt;00:00, 46.23s/it]",
            "_view_count": null,
            "_view_module_version": "1.5.0",
            "description_tooltip": null,
            "_model_module": "@jupyter-widgets/controls",
            "layout": "IPY_MODEL_59a0058029c44ebbb8ea8c753313109b"
          }
        },
        "fc071cede4c24e2185000cc5cdb4755d": {
          "model_module": "@jupyter-widgets/controls",
          "model_name": "ProgressStyleModel",
          "state": {
            "_view_name": "StyleView",
            "_model_name": "ProgressStyleModel",
            "description_width": "initial",
            "_view_module": "@jupyter-widgets/base",
            "_model_module_version": "1.5.0",
            "_view_count": null,
            "_view_module_version": "1.2.0",
            "bar_color": null,
            "_model_module": "@jupyter-widgets/controls"
          }
        },
        "6d38eab9a6944e05bcc862d9fa470f08": {
          "model_module": "@jupyter-widgets/base",
          "model_name": "LayoutModel",
          "state": {
            "_view_name": "LayoutView",
            "grid_template_rows": null,
            "right": null,
            "justify_content": null,
            "_view_module": "@jupyter-widgets/base",
            "overflow": null,
            "_model_module_version": "1.2.0",
            "_view_count": null,
            "flex_flow": null,
            "width": null,
            "min_width": null,
            "border": null,
            "align_items": null,
            "bottom": null,
            "_model_module": "@jupyter-widgets/base",
            "top": null,
            "grid_column": null,
            "overflow_y": null,
            "overflow_x": null,
            "grid_auto_flow": null,
            "grid_area": null,
            "grid_template_columns": null,
            "flex": null,
            "_model_name": "LayoutModel",
            "justify_items": null,
            "grid_row": null,
            "max_height": null,
            "align_content": null,
            "visibility": null,
            "align_self": null,
            "height": null,
            "min_height": null,
            "padding": null,
            "grid_auto_rows": null,
            "grid_gap": null,
            "max_width": null,
            "order": null,
            "_view_module_version": "1.2.0",
            "grid_template_areas": null,
            "object_position": null,
            "object_fit": null,
            "grid_auto_columns": null,
            "margin": null,
            "display": null,
            "left": null
          }
        },
        "3ae776ffe5154c07b832363a8030e75f": {
          "model_module": "@jupyter-widgets/controls",
          "model_name": "DescriptionStyleModel",
          "state": {
            "_view_name": "StyleView",
            "_model_name": "DescriptionStyleModel",
            "description_width": "",
            "_view_module": "@jupyter-widgets/base",
            "_model_module_version": "1.5.0",
            "_view_count": null,
            "_view_module_version": "1.2.0",
            "_model_module": "@jupyter-widgets/controls"
          }
        },
        "59a0058029c44ebbb8ea8c753313109b": {
          "model_module": "@jupyter-widgets/base",
          "model_name": "LayoutModel",
          "state": {
            "_view_name": "LayoutView",
            "grid_template_rows": null,
            "right": null,
            "justify_content": null,
            "_view_module": "@jupyter-widgets/base",
            "overflow": null,
            "_model_module_version": "1.2.0",
            "_view_count": null,
            "flex_flow": null,
            "width": null,
            "min_width": null,
            "border": null,
            "align_items": null,
            "bottom": null,
            "_model_module": "@jupyter-widgets/base",
            "top": null,
            "grid_column": null,
            "overflow_y": null,
            "overflow_x": null,
            "grid_auto_flow": null,
            "grid_area": null,
            "grid_template_columns": null,
            "flex": null,
            "_model_name": "LayoutModel",
            "justify_items": null,
            "grid_row": null,
            "max_height": null,
            "align_content": null,
            "visibility": null,
            "align_self": null,
            "height": null,
            "min_height": null,
            "padding": null,
            "grid_auto_rows": null,
            "grid_gap": null,
            "max_width": null,
            "order": null,
            "_view_module_version": "1.2.0",
            "grid_template_areas": null,
            "object_position": null,
            "object_fit": null,
            "grid_auto_columns": null,
            "margin": null,
            "display": null,
            "left": null
          }
        }
      }
    }
  },
  "cells": [
    {
      "cell_type": "markdown",
      "metadata": {
        "id": "view-in-github",
        "colab_type": "text"
      },
      "source": [
        "<a href=\"https://colab.research.google.com/github/nebblu/ML_unige/blob/main/Python_tutorials/NN_tutorial.ipynb\" target=\"_parent\"><img src=\"https://colab.research.google.com/assets/colab-badge.svg\" alt=\"Open In Colab\"/></a>"
      ]
    },
    {
      "cell_type": "code",
      "metadata": {
        "id": "WmmHIBAvMhSV"
      },
      "source": [
        "import matplotlib.pyplot as plt\n",
        "plt.rcParams[\"font.family\"] = 'serif'\n",
        "plt.rcParams[\"mathtext.fontset\"] = \"cm\"\n",
        "import tensorflow_probability as tfp\n",
        "import tensorflow.compat.v2 as tf\n",
        "import numpy as np\n",
        "import os\n",
        "import copy\n",
        "import tqdm\n",
        "tf.enable_v2_behavior()\n",
        "tf.config.run_functions_eagerly(True)"
      ],
      "execution_count": 1,
      "outputs": []
    },
    {
      "cell_type": "markdown",
      "metadata": {
        "id": "1BHMvLELQPEP"
      },
      "source": [
        "## Clone BaCoN"
      ]
    },
    {
      "cell_type": "code",
      "metadata": {
        "colab": {
          "base_uri": "https://localhost:8080/"
        },
        "id": "Ju3WWZPRPq5B",
        "outputId": "d7de343c-833c-4341-cb8d-086b33a7ec98"
      },
      "source": [
        "! git clone https://github.com/Mik3M4n/BaCoN"
      ],
      "execution_count": 3,
      "outputs": [
        {
          "output_type": "stream",
          "text": [
            "Cloning into 'BaCoN'...\n",
            "remote: Enumerating objects: 315, done.\u001b[K\n",
            "remote: Counting objects: 100% (315/315), done.\u001b[K\n",
            "remote: Compressing objects: 100% (248/248), done.\u001b[K\n",
            "remote: Total 315 (delta 128), reused 229 (delta 60), pack-reused 0\u001b[K\n",
            "Receiving objects: 100% (315/315), 1.98 MiB | 8.62 MiB/s, done.\n",
            "Resolving deltas: 100% (128/128), done.\n"
          ],
          "name": "stdout"
        }
      ]
    },
    {
      "cell_type": "code",
      "metadata": {
        "colab": {
          "base_uri": "https://localhost:8080/"
        },
        "id": "eVv2AX0UQXlD",
        "outputId": "35fbf751-8d42-45d2-99c3-e479cffb7440"
      },
      "source": [
        "%cd BaCoN/"
      ],
      "execution_count": 2,
      "outputs": [
        {
          "output_type": "stream",
          "text": [
            "/content/BaCoN\n"
          ],
          "name": "stdout"
        }
      ]
    },
    {
      "cell_type": "code",
      "metadata": {
        "colab": {
          "base_uri": "https://localhost:8080/"
        },
        "id": "aPeMru2NW8D5",
        "outputId": "b968ce19-7081-425b-914c-ea70eeee1594"
      },
      "source": [
        "! git pull origin master"
      ],
      "execution_count": 5,
      "outputs": [
        {
          "output_type": "stream",
          "text": [
            "From https://github.com/Mik3M4n/BaCoN\n",
            " * branch            master     -> FETCH_HEAD\n",
            "Already up to date.\n"
          ],
          "name": "stdout"
        }
      ]
    },
    {
      "cell_type": "markdown",
      "metadata": {
        "id": "2Ke3a2YSLwW3"
      },
      "source": [
        "## Download data\n",
        "\n",
        "Data are available at https://zenodo.org/record/4309918#.X9CvPS2ZNPU"
      ]
    },
    {
      "cell_type": "code",
      "metadata": {
        "colab": {
          "base_uri": "https://localhost:8080/"
        },
        "id": "rV_XGbIXKuQU",
        "outputId": "b41e86ae-7160-48ab-e1af-d1bbace07b17"
      },
      "source": [
        "# Test set\n",
        "\n",
        "! wget https://zenodo.org/record/4309918/files/test_data.zip"
      ],
      "execution_count": 6,
      "outputs": [
        {
          "output_type": "stream",
          "text": [
            "--2020-12-09 14:49:29--  https://zenodo.org/record/4309918/files/test_data.zip\n",
            "Resolving zenodo.org (zenodo.org)... 137.138.76.77\n",
            "Connecting to zenodo.org (zenodo.org)|137.138.76.77|:443... connected.\n",
            "HTTP request sent, awaiting response... 200 OK\n",
            "Length: 150792218 (144M) [application/octet-stream]\n",
            "Saving to: ‘test_data.zip’\n",
            "\n",
            "test_data.zip       100%[===================>] 143.81M  7.40MB/s    in 16s     \n",
            "\n",
            "2020-12-09 14:49:47 (8.88 MB/s) - ‘test_data.zip’ saved [150792218/150792218]\n",
            "\n"
          ],
          "name": "stdout"
        }
      ]
    },
    {
      "cell_type": "code",
      "metadata": {
        "id": "ZVBguxwhLa_S"
      },
      "source": [
        "! unzip -q test_data.zip -d data/"
      ],
      "execution_count": 7,
      "outputs": []
    },
    {
      "cell_type": "code",
      "metadata": {
        "colab": {
          "base_uri": "https://localhost:8080/"
        },
        "id": "rvDAlUInLgMs",
        "outputId": "48ad668d-d8af-49b2-bb3c-4b6094bccdc3"
      },
      "source": [
        "%ls data/test_data"
      ],
      "execution_count": 8,
      "outputs": [
        {
          "output_type": "stream",
          "text": [
            "\u001b[0m\u001b[01;34mdgp\u001b[0m/              fr_test2500.txt    planck.txt  wcdm_test2500.txt\n",
            "dgp_test2500.txt  \u001b[01;34mlcdm\u001b[0m/              \u001b[01;34mrand\u001b[0m/\n",
            "\u001b[01;34mfr\u001b[0m/               lcdm_test2500.txt  \u001b[01;34mwcdm\u001b[0m/\n"
          ],
          "name": "stdout"
        }
      ]
    },
    {
      "cell_type": "code",
      "metadata": {
        "id": "pX4LKy_lNsJn"
      },
      "source": [
        "DIR='data/test_data'"
      ],
      "execution_count": 3,
      "outputs": []
    },
    {
      "cell_type": "code",
      "metadata": {
        "colab": {
          "base_uri": "https://localhost:8080/"
        },
        "id": "pLKrsNVFNCV1",
        "outputId": "a798baeb-c15f-4279-e2ce-61547eab58b6"
      },
      "source": [
        "labels =  ([name for name in os.listdir(DIR) if not os.path.isfile(os.path.join(DIR, name))]) ; labels"
      ],
      "execution_count": 10,
      "outputs": [
        {
          "output_type": "execute_result",
          "data": {
            "text/plain": [
              "['rand', 'fr', 'wcdm', 'dgp', 'lcdm']"
            ]
          },
          "metadata": {
            "tags": []
          },
          "execution_count": 10
        }
      ]
    },
    {
      "cell_type": "code",
      "metadata": {
        "colab": {
          "base_uri": "https://localhost:8080/"
        },
        "id": "LjEDKEtMNby_",
        "outputId": "3e685cfa-4d20-4621-e9c8-99d7915be98e"
      },
      "source": [
        "# Count number of files in each label and check that they are the same\n",
        "n_s=[]\n",
        "for l in labels:\n",
        "  n_samples = len([name for name in os.listdir(os.path.join(DIR,l)) if os.path.isfile(os.path.join(DIR,l, name)) and 'DS_Store' not in name]) \n",
        "  print(n_samples)\n",
        "  n_s.append(n_samples)\n",
        "\n",
        "assert n_s[1:] == n_s[:-1]\n",
        "n_samples = n_s[0]"
      ],
      "execution_count": 11,
      "outputs": [
        {
          "output_type": "stream",
          "text": [
            "2500\n",
            "2500\n",
            "2500\n",
            "2500\n",
            "2500\n"
          ],
          "name": "stdout"
        }
      ]
    },
    {
      "cell_type": "code",
      "metadata": {
        "colab": {
          "base_uri": "https://localhost:8080/",
          "height": 286
        },
        "id": "1gSM2-_3MVFS",
        "outputId": "43494f04-3b2c-418d-edfe-7f02ecfcecb0"
      },
      "source": [
        "# Plot a random example\n",
        "my_lab = np.random.choice(labels)\n",
        "my_ind=np.random.randint(n_samples)\n",
        "loaded = np.loadtxt(os.path.join(DIR,my_lab , str(my_ind)+'.txt') )\n",
        "k, X = loaded[:, 0], loaded[:, 1:]\n",
        "plt.plot(k, X);\n",
        "plt.xscale('log');\n",
        "plt.yscale('log');\n",
        "plt.title(my_lab);"
      ],
      "execution_count": 12,
      "outputs": [
        {
          "output_type": "display_data",
          "data": {
            "image/png": "[encoded data removed]",
            "text/plain": [
              "<Figure size 432x288 with 1 Axes>"
            ]
          },
          "metadata": {
            "tags": [],
            "needs_background": "light"
          }
        }
      ]
    },
    {
      "cell_type": "markdown",
      "metadata": {
        "id": "RhEZsHSOQg7k"
      },
      "source": [
        "## Get data generators"
      ]
    },
    {
      "cell_type": "code",
      "metadata": {
        "id": "bIxUdWUSRh6c"
      },
      "source": [
        "%load_ext autoreload\n",
        "%autoreload 2\n",
        "from utils import *\n",
        "from data_generator import *"
      ],
      "execution_count": 4,
      "outputs": []
    },
    {
      "cell_type": "code",
      "metadata": {
        "id": "t5wIet0kQyRu"
      },
      "source": [
        "FLAGS_BASE = get_default_flags()"
      ],
      "execution_count": 5,
      "outputs": []
    },
    {
      "cell_type": "code",
      "metadata": {
        "id": "hoqamVBLV2of"
      },
      "source": [
        "FLAGS_NO_NOISE = copy.deepcopy(FLAGS_BASE)\n",
        "FLAGS_NO_NOISE.add_noise = False\n",
        "FLAGS_NO_NOISE.DIR = DIR\n",
        "FLAGS_NO_NOISE.val_size = 0.1\n",
        "FLAGS_NO_NOISE.batch_size = 250\n",
        "\n",
        "#FLAGS.n_noisy_samples = \n",
        "#FLAGS.swap_axes = True"
      ],
      "execution_count": 6,
      "outputs": []
    },
    {
      "cell_type": "code",
      "metadata": {
        "colab": {
          "base_uri": "https://localhost:8080/"
        },
        "id": "a3Dmz6SUMHlS",
        "outputId": "72f51294-eebc-4329-d8cb-780a60d46a34"
      },
      "source": [
        "FLAGS_TEST = copy.deepcopy(FLAGS_BASE)\n",
        "FLAGS_TEST.test_mode=True\n",
        "FLAGS_TEST.DIR = DIR\n",
        "training_generator_TEST, validation_generator_TEST = create_generators(FLAGS_TEST)"
      ],
      "execution_count": 29,
      "outputs": [
        {
          "output_type": "stream",
          "text": [
            "labels : ['dgp', 'fr', 'lcdm', 'rand', 'wcdm']\n",
            "Labels encoding: \n",
            "{'dgp': 0, 'fr': 1, 'lcdm': 2, 'rand': 3, 'wcdm': 4}\n",
            "n_labels : 5\n",
            "dgp - 2500 training examples\n",
            "fr - 2500 training examples\n",
            "lcdm - 2500 training examples\n",
            "rand - 2500 training examples\n",
            "wcdm - 2500 training examples\n",
            "\n",
            "N. of data files: 2500\n",
            "Choice with seed 1312 \n",
            "all_index shape for test mode: 2\n",
            "get_all_indexes labels dict: {'dgp': 0, 'fr': 1, 'lcdm': 2, 'rand': 3, 'wcdm': 4}\n",
            "create_generators n_labels: 5\n",
            "create_generators n_labels_eff: 5\n",
            "create_generators len_c1: 1\n",
            "Check for no duplicates in test: (0=ok):\n",
            "0.0\n",
            "Check for no duplicates in val: (0=ok):\n",
            "0\n",
            "N of files in training set: 1\n",
            "N of files in validation set: 1\n",
            "N of files in test set: 0\n",
            "Check - total: 2\n",
            "--create_generators, train indexes\n",
            "batch_size: 50\n",
            "Train index: [1922]\n",
            "--create_generators, validation indexes\n",
            "Validation index: [2322]\n",
            "len(train_index_1), batch_size, n_labels_eff, n_noisy_samples = 1, 50, 5, 10\n",
            "\n",
            "--DataGenerator Train\n",
            "Data Generator Initialization\n",
            "Using z bins [0, 1, 2, 3]\n",
            "Specified k_max is 2.5\n",
            "Corresponding i_max is 100\n",
            "Closest k to k_max is 2.539859\n",
            "New data dim: (100, 1)\n",
            "Final i_max used is 100\n",
            "Ids dict to use in data gen: {'dgp': array([1922]), 'fr': array([1923]), 'lcdm': array([1924]), 'rand': array([1925]), 'wcdm': array([1926])}\n",
            "one_vs_all: False\n",
            "dataset_balanced: False\n",
            "base_case_dataset: True\n",
            "N. classes: 5\n",
            "N. n_classes in output: 5\n",
            "list_IDs length: 1\n",
            "n_indexes (n of file IDs read for each batch): 1\n",
            "batch size: 50\n",
            "n_batches : 1\n",
            "For each batch we read 1 file IDs\n",
            "For each file ID we have 5 labels\n",
            "For each ID, label we have 10 realizations of noise\n",
            "In total, for each batch we have 50 training examples\n",
            "Input batch size: 50\n",
            "N of batches to cover all file IDs: 1\n",
            "\n",
            "--DataGenerator Validation\n",
            "Data Generator Initialization\n",
            "Using z bins [0, 1, 2, 3]\n",
            "Specified k_max is 2.5\n",
            "Corresponding i_max is 100\n",
            "Closest k to k_max is 2.539859\n",
            "New data dim: (100, 1)\n",
            "Final i_max used is 100\n",
            "Ids dict to use in data gen: {'dgp': array([2322]), 'fr': array([2323]), 'lcdm': array([2324]), 'rand': array([2325]), 'wcdm': array([2326])}\n",
            "one_vs_all: False\n",
            "dataset_balanced: False\n",
            "base_case_dataset: True\n",
            "N. classes: 5\n",
            "N. n_classes in output: 5\n",
            "list_IDs length: 1\n",
            "n_indexes (n of file IDs read for each batch): 1\n",
            "batch size: 50\n",
            "n_batches : 1\n",
            "For each batch we read 1 file IDs\n",
            "For each file ID we have 5 labels\n",
            "For each ID, label we have 10 realizations of noise\n",
            "In total, for each batch we have 50 training examples\n",
            "Input batch size: 50\n",
            "N of batches to cover all file IDs: 1\n"
          ],
          "name": "stdout"
        }
      ]
    },
    {
      "cell_type": "code",
      "metadata": {
        "colab": {
          "base_uri": "https://localhost:8080/"
        },
        "id": "Xn0qK5agQaBM",
        "outputId": "7dda62ab-b698-4ea9-854b-db2c4708b65d"
      },
      "source": [
        "training_generator_NO_NOISE, validation_generator_NO_NOISE = create_generators(FLAGS_NO_NOISE)"
      ],
      "execution_count": 7,
      "outputs": [
        {
          "output_type": "stream",
          "text": [
            "labels : ['dgp', 'fr', 'lcdm', 'rand', 'wcdm']\n",
            "Labels encoding: \n",
            "{'dgp': 0, 'fr': 1, 'lcdm': 2, 'rand': 3, 'wcdm': 4}\n",
            "n_labels : 5\n",
            "dgp - 2500 training examples\n",
            "fr - 2500 training examples\n",
            "lcdm - 2500 training examples\n",
            "rand - 2500 training examples\n",
            "wcdm - 2500 training examples\n",
            "\n",
            "N. of data files: 2500\n",
            "get_all_indexes labels dict: {'dgp': 0, 'fr': 1, 'lcdm': 2, 'rand': 3, 'wcdm': 4}\n",
            "create_generators n_labels: 5\n",
            "create_generators n_labels_eff: 5\n",
            "create_generators len_c1: 1\n",
            "Check for no duplicates in test: (0=ok):\n",
            "0.0\n",
            "Check for no duplicates in val: (0=ok):\n",
            "0\n",
            "N of files in training set: 2250\n",
            "N of files in validation set: 250\n",
            "N of files in test set: 0\n",
            "Check - total: 2500\n",
            "--create_generators, train indexes\n",
            "batch_size: 250\n",
            "- Cut sample\n",
            "bs: 250\n",
            "N_labels: 5\n",
            "N_noise: 1\n",
            "len_c1: 1\n",
            "Train index length: 2250\n",
            "--create_generators, validation indexes\n",
            "- Cut sample\n",
            "bs: 250\n",
            "N_labels: 5\n",
            "N_noise: 1\n",
            "len_c1: 1\n",
            "Val index length: 250\n",
            "len(train_index_1), batch_size, n_labels_eff, n_noisy_samples = 2250, 250, 5, 1\n",
            "\n",
            "--DataGenerator Train\n",
            "Data Generator Initialization\n",
            "Using z bins [0, 1, 2, 3]\n",
            "Specified k_max is 2.5\n",
            "Corresponding i_max is 100\n",
            "Closest k to k_max is 2.539859\n",
            "New data dim: (100, 1)\n",
            "Final i_max used is 100\n",
            "one_vs_all: False\n",
            "dataset_balanced: False\n",
            "base_case_dataset: True\n",
            "N. classes: 5\n",
            "N. n_classes in output: 5\n",
            "list_IDs length: 2250\n",
            "n_indexes (n of file IDs read for each batch): 50\n",
            "batch size: 250\n",
            "n_batches : 45\n",
            "For each batch we read 50 file IDs\n",
            "For each file ID we have 5 labels\n",
            "In total, for each batch we have 250 training examples\n",
            "Input batch size: 250\n",
            "N of batches to cover all file IDs: 45\n",
            "\n",
            "--DataGenerator Validation\n",
            "Data Generator Initialization\n",
            "Using z bins [0, 1, 2, 3]\n",
            "Specified k_max is 2.5\n",
            "Corresponding i_max is 100\n",
            "Closest k to k_max is 2.539859\n",
            "New data dim: (100, 1)\n",
            "Final i_max used is 100\n",
            "one_vs_all: False\n",
            "dataset_balanced: False\n",
            "base_case_dataset: True\n",
            "N. classes: 5\n",
            "N. n_classes in output: 5\n",
            "list_IDs length: 250\n",
            "n_indexes (n of file IDs read for each batch): 50\n",
            "batch size: 250\n",
            "n_batches : 5\n",
            "For each batch we read 50 file IDs\n",
            "For each file ID we have 5 labels\n",
            "In total, for each batch we have 250 training examples\n",
            "Input batch size: 250\n",
            "N of batches to cover all file IDs: 5\n"
          ],
          "name": "stdout"
        }
      ]
    },
    {
      "cell_type": "code",
      "metadata": {
        "id": "GvfjA0McbP52"
      },
      "source": [
        "FLAGS_NOISE = copy.deepcopy(FLAGS_BASE)\n",
        "#FLAGS_NOISE.add_noise = False\n",
        "FLAGS_NOISE.n_noisy_samples=1\n",
        "FLAGS_NOISE.DIR = DIR\n",
        "FLAGS_NOISE.val_size = 0.1\n",
        "FLAGS_NOISE.batch_size = 250"
      ],
      "execution_count": 8,
      "outputs": []
    },
    {
      "cell_type": "code",
      "metadata": {
        "colab": {
          "base_uri": "https://localhost:8080/"
        },
        "id": "0eQBbwu3bdfe",
        "outputId": "a45bd173-f3bb-479b-d55f-fc83b3e49f65"
      },
      "source": [
        "training_generator_NOISE, validation_generator_NOISE = create_generators(FLAGS_NOISE)"
      ],
      "execution_count": 9,
      "outputs": [
        {
          "output_type": "stream",
          "text": [
            "labels : ['dgp', 'fr', 'lcdm', 'rand', 'wcdm']\n",
            "Labels encoding: \n",
            "{'dgp': 0, 'fr': 1, 'lcdm': 2, 'rand': 3, 'wcdm': 4}\n",
            "n_labels : 5\n",
            "dgp - 2500 training examples\n",
            "fr - 2500 training examples\n",
            "lcdm - 2500 training examples\n",
            "rand - 2500 training examples\n",
            "wcdm - 2500 training examples\n",
            "\n",
            "N. of data files: 2500\n",
            "get_all_indexes labels dict: {'dgp': 0, 'fr': 1, 'lcdm': 2, 'rand': 3, 'wcdm': 4}\n",
            "create_generators n_labels: 5\n",
            "create_generators n_labels_eff: 5\n",
            "create_generators len_c1: 1\n",
            "Check for no duplicates in test: (0=ok):\n",
            "0.0\n",
            "Check for no duplicates in val: (0=ok):\n",
            "0\n",
            "N of files in training set: 2250\n",
            "N of files in validation set: 250\n",
            "N of files in test set: 0\n",
            "Check - total: 2500\n",
            "--create_generators, train indexes\n",
            "batch_size: 250\n",
            "- Cut sample\n",
            "bs: 250\n",
            "N_labels: 5\n",
            "N_noise: 1\n",
            "len_c1: 1\n",
            "Train index length: 2250\n",
            "--create_generators, validation indexes\n",
            "- Cut sample\n",
            "bs: 250\n",
            "N_labels: 5\n",
            "N_noise: 1\n",
            "len_c1: 1\n",
            "Val index length: 250\n",
            "len(train_index_1), batch_size, n_labels_eff, n_noisy_samples = 2250, 250, 5, 1\n",
            "\n",
            "--DataGenerator Train\n",
            "Data Generator Initialization\n",
            "Using z bins [0, 1, 2, 3]\n",
            "Specified k_max is 2.5\n",
            "Corresponding i_max is 100\n",
            "Closest k to k_max is 2.539859\n",
            "New data dim: (100, 1)\n",
            "Final i_max used is 100\n",
            "one_vs_all: False\n",
            "dataset_balanced: False\n",
            "base_case_dataset: True\n",
            "N. classes: 5\n",
            "N. n_classes in output: 5\n",
            "list_IDs length: 2250\n",
            "n_indexes (n of file IDs read for each batch): 50\n",
            "batch size: 250\n",
            "n_batches : 45\n",
            "For each batch we read 50 file IDs\n",
            "For each file ID we have 5 labels\n",
            "For each ID, label we have 1 realizations of noise\n",
            "In total, for each batch we have 250 training examples\n",
            "Input batch size: 250\n",
            "N of batches to cover all file IDs: 45\n",
            "\n",
            "--DataGenerator Validation\n",
            "Data Generator Initialization\n",
            "Using z bins [0, 1, 2, 3]\n",
            "Specified k_max is 2.5\n",
            "Corresponding i_max is 100\n",
            "Closest k to k_max is 2.539859\n",
            "New data dim: (100, 1)\n",
            "Final i_max used is 100\n",
            "one_vs_all: False\n",
            "dataset_balanced: False\n",
            "base_case_dataset: True\n",
            "N. classes: 5\n",
            "N. n_classes in output: 5\n",
            "list_IDs length: 250\n",
            "n_indexes (n of file IDs read for each batch): 50\n",
            "batch size: 250\n",
            "n_batches : 5\n",
            "For each batch we read 50 file IDs\n",
            "For each file ID we have 5 labels\n",
            "For each ID, label we have 1 realizations of noise\n",
            "In total, for each batch we have 250 training examples\n",
            "Input batch size: 250\n",
            "N of batches to cover all file IDs: 5\n"
          ],
          "name": "stdout"
        }
      ]
    },
    {
      "cell_type": "code",
      "metadata": {
        "colab": {
          "base_uri": "https://localhost:8080/",
          "height": 286
        },
        "id": "oe_sUqWKX_vm",
        "outputId": "9f09d1f1-33db-4488-b370-582e3937bdd8"
      },
      "source": [
        "batch_idx = np.random.randint(training_generator_NO_NOISE.n_batches)\n",
        "ex_idx = np.random.randint(training_generator_NO_NOISE.batch_size)\n",
        "\n",
        "X_features, y = training_generator_NO_NOISE[batch_idx][0][ex_idx], training_generator_NO_NOISE[batch_idx][1][ex_idx]\n",
        "\n",
        "my_lab = training_generator_NO_NOISE.inv_labels_dict[np.argmax(y)]\n",
        "plt.plot(training_generator_NO_NOISE.all_ks, X_features);\n",
        "plt.xscale('log');\n",
        "#plt.yscale('log');\n",
        "plt.title(my_lab);"
      ],
      "execution_count": 10,
      "outputs": [
        {
          "output_type": "display_data",
          "data": {
            "image/png": "[encoded data removed]",
            "text/plain": [
              "<Figure size 432x288 with 1 Axes>"
            ]
          },
          "metadata": {
            "tags": [],
            "needs_background": "light"
          }
        }
      ]
    },
    {
      "cell_type": "code",
      "metadata": {
        "colab": {
          "base_uri": "https://localhost:8080/",
          "height": 286
        },
        "id": "bTeWOGQMbBPd",
        "outputId": "5d9d007c-ef8c-4f76-d130-43fb0c8276f2"
      },
      "source": [
        "batch_idx = np.random.randint(training_generator_NOISE.n_batches)\n",
        "ex_idx = np.random.randint(training_generator_NOISE.batch_size)\n",
        "\n",
        "X_features, y = training_generator_NOISE[batch_idx][0][ex_idx], training_generator_NOISE[batch_idx][1][ex_idx]\n",
        "\n",
        "my_lab = training_generator_NOISE.inv_labels_dict[np.argmax(y)]\n",
        "plt.plot(training_generator_NOISE.all_ks, X_features);\n",
        "plt.xscale('log');\n",
        "#plt.yscale('log');\n",
        "plt.title(my_lab);"
      ],
      "execution_count": 11,
      "outputs": [
        {
          "output_type": "display_data",
          "data": {
            "image/png": "[encoded data removed]",
            "text/plain": [
              "<Figure size 432x288 with 1 Axes>"
            ]
          },
          "metadata": {
            "tags": [],
            "needs_background": "light"
          }
        }
      ]
    },
    {
      "cell_type": "code",
      "metadata": {
        "colab": {
          "base_uri": "https://localhost:8080/"
        },
        "id": "Z70Qu74W9PvW",
        "outputId": "f0cab955-2eb9-4b78-b752-6898c42608f5"
      },
      "source": [
        "training_generator_NOISE.n_batches"
      ],
      "execution_count": 12,
      "outputs": [
        {
          "output_type": "execute_result",
          "data": {
            "text/plain": [
              "45"
            ]
          },
          "metadata": {
            "tags": []
          },
          "execution_count": 12
        }
      ]
    },
    {
      "cell_type": "markdown",
      "metadata": {
        "id": "OncMX72Db-OJ"
      },
      "source": [
        "## Model"
      ]
    },
    {
      "cell_type": "code",
      "metadata": {
        "id": "4h0YskTobr3R"
      },
      "source": [
        "def make_model_dense(input_shape, n_classes):\n",
        "  \n",
        "  inputs = tf.keras.Input(shape=input_shape)\n",
        "\n",
        "  x = tf.keras.layers.Flatten()(inputs)\n",
        "  x = tf.keras.layers.Dense(50, activation=tf.nn.leaky_relu)(x)\n",
        "\n",
        "  x = tf.keras.layers.Dropout(0.5)(x)\n",
        "  outputs = tf.keras.layers.Dense(n_classes)(x)\n",
        "  \n",
        "  model = tf.keras.Model(inputs, outputs)\n",
        "  model.build(input_shape=input_shape)\n",
        "  print(model.summary())\n",
        "\n",
        "  return model"
      ],
      "execution_count": 21,
      "outputs": []
    },
    {
      "cell_type": "code",
      "metadata": {
        "id": "CNVnj1OyCaMS"
      },
      "source": [
        "def make_model_conv(input_shape, n_classes):\n",
        "  \n",
        "  inputs = tf.keras.Input(shape=input_shape)\n",
        "\n",
        "  # 1st conv block\n",
        "  x = tf.keras.layers.Conv1D(filters=32, input_shape=input_shape , \n",
        "                                  kernel_size=10, strides=2, \n",
        "                                  padding='valid', activation=tf.nn.leaky_relu)(inputs)\n",
        "  #tf.keras.layers.MaxPooling1D(pool_size=2, strides=2, padding='valid')\n",
        "  x=tf.keras.layers.BatchNormalization()(x)\n",
        "\n",
        "  # 2nd conv block\n",
        "  #x = tf.keras.layers.Conv1D(filters=16, input_shape=input_shape , \n",
        "  #                                kernel_size=5, strides=2, \n",
        "  #                                padding='valid', activation=tf.nn.leaky_relu)(x)\n",
        "  #x=tf.keras.layers.MaxPooling1D(pool_size=2, strides=1, padding='valid')(x)\n",
        "  #x=tf.keras.layers.BatchNormalization()(x)\n",
        "\n",
        "  # 3rd conv block\n",
        "  #x = tf.keras.layers.Conv1D(filters=32, input_shape=input_shape , \n",
        "  #                                kernel_size=2, strides=1, \n",
        "  #                                padding='valid', activation=tf.nn.leaky_relu)(x)\n",
        "  #tf.keras.layers.MaxPooling1D(pool_size=2, strides=1, padding='valid')\n",
        "  #x=tf.keras.layers.BatchNormalization()(x)\n",
        "\n",
        "  # Glob avg pooling\n",
        "  x=tf.keras.layers.GlobalAveragePooling1D()(x)\n",
        "\n",
        "  # Dense\n",
        "  x = tf.keras.layers.Dense(32, activation=tf.nn.leaky_relu)(x)\n",
        "  \n",
        "  # Dropout\n",
        "  x = tf.keras.layers.Dropout(0.5)(x)\n",
        "\n",
        "  # Classification\n",
        "  outputs = tf.keras.layers.Dense(n_classes)(x)\n",
        "  \n",
        "  model = tf.keras.Model(inputs, outputs)\n",
        "  model.build(input_shape=input_shape)\n",
        "  print(model.summary())\n",
        "\n",
        "  return model"
      ],
      "execution_count": 91,
      "outputs": []
    },
    {
      "cell_type": "markdown",
      "metadata": {
        "id": "4vQ9sPe6_kdB"
      },
      "source": [
        "## Training"
      ]
    },
    {
      "cell_type": "code",
      "metadata": {
        "id": "Zh5O4XTu6TMR"
      },
      "source": [
        "@tf.function\n",
        "def calculate_loss(y, logits):\n",
        "    loss_f = tf.keras.losses.CategoricalCrossentropy(from_logits=True)\n",
        "    return loss_f(y, logits)"
      ],
      "execution_count": 15,
      "outputs": []
    },
    {
      "cell_type": "code",
      "metadata": {
        "id": "hfz-vomS6QjD"
      },
      "source": [
        "@tf.function\n",
        "def train_on_batch(y, x, model, opt, metric):\n",
        "    with tf.GradientTape() as tape:\n",
        "        tape.watch(model.trainable_variables)\n",
        "        logits=model(x)\n",
        "        loss = calculate_loss(y, logits)\n",
        "    gradients = tape.gradient(loss, model.trainable_weights)\n",
        "    opt.apply_gradients(zip(gradients, model.trainable_weights))\n",
        "    \n",
        "    proba = tf.nn.softmax(logits)\n",
        "    prediction = tf.argmax(proba, axis=1)\n",
        "    metric.update_state(tf.argmax(y, axis=1), prediction)\n",
        "    return loss\n",
        "\n",
        "\n",
        "@tf.function\n",
        "def validation_step(y, x, model, metric):\n",
        "    logits = model(x, training=False)\n",
        "    loss = calculate_loss(y, logits)\n",
        "\n",
        "    proba = tf.nn.softmax(logits)\n",
        "    prediction = tf.argmax(proba, axis=1)\n",
        "    metric.update_state(tf.argmax(y, axis=1), prediction)\n",
        "    return loss"
      ],
      "execution_count": 16,
      "outputs": []
    },
    {
      "cell_type": "code",
      "metadata": {
        "id": "Np3Sm3LN6bFH"
      },
      "source": [
        "def my_train(model, optimizer,\n",
        "             epochs, \n",
        "             train_generator, \n",
        "             val_generator,\n",
        "             ): \n",
        "  batches = train_generator.n_batches\n",
        "  val_batches = val_generator.n_batches\n",
        "\n",
        "  train_acc_metric = tf.keras.metrics.Accuracy()\n",
        "  val_acc_metric = tf.keras.metrics.Accuracy()\n",
        "\n",
        "  loss = []\n",
        "  val_loss = []\n",
        "  acc = []\n",
        "  val_acc = []\n",
        "\n",
        "  epoch_bar = tqdm.tnrange(epochs, desc=\"Epochs\")#tnrange(epochs, desc=\"Epochs\")\n",
        "  batch_bar = tqdm.tnrange(batches, desc=\"Batch\")#tnrange(batches, desc=\"Batch\")\n",
        "\n",
        "  for epoch in epoch_bar:\n",
        "\n",
        "    for train_batch in batch_bar:\n",
        "        x_batch_train, y_batch_train = train_generator[train_batch] \n",
        "        this_loss = train_on_batch(y_batch_train, x_batch_train, model, optimizer, train_acc_metric)\n",
        "    loss.append(this_loss.numpy())\n",
        "    \n",
        "    this_val_loss = 0.\n",
        "    for val_batch in range(val_batches):\n",
        "        x_batch_val, y_batch_val =  val_generator[val_batch]\n",
        "        this_val_loss += ( validation_step(y_batch_val, x_batch_val, model, val_acc_metric)  / float(val_batches) )\n",
        "        \n",
        "    val_loss.append(this_val_loss.numpy())\n",
        "\n",
        "    train_acc_val = train_acc_metric.result().numpy()\n",
        "    val_acc_val = val_acc_metric.result().numpy()\n",
        "    acc.append(train_acc_val)\n",
        "    val_acc.append(val_acc_val)\n",
        "\n",
        "    epoch_bar.set_postfix(loss=this_loss.numpy(), val_loss=this_val_loss.numpy(), acc=train_acc_val, val_acc = val_acc_val)\n",
        "\n",
        "    train_acc_metric.reset_states()\n",
        "    val_acc_metric.reset_states()\n",
        "\n",
        "  return loss, val_loss, acc, val_acc"
      ],
      "execution_count": 61,
      "outputs": []
    },
    {
      "cell_type": "code",
      "metadata": {
        "colab": {
          "base_uri": "https://localhost:8080/"
        },
        "id": "ea_GDlXSdEH0",
        "outputId": "bec9c420-77aa-4db6-9158-a64d019b1a96"
      },
      "source": [
        "my_input_shape = training_generator_NOISE[0][0][0].shape\n",
        "my_input_shape"
      ],
      "execution_count": 62,
      "outputs": [
        {
          "output_type": "execute_result",
          "data": {
            "text/plain": [
              "(100, 4)"
            ]
          },
          "metadata": {
            "tags": []
          },
          "execution_count": 62
        }
      ]
    },
    {
      "cell_type": "code",
      "metadata": {
        "colab": {
          "base_uri": "https://localhost:8080/"
        },
        "id": "jnW7buR_eC2v",
        "outputId": "beaf41b5-6eed-4de4-a631-66cc73453d53"
      },
      "source": [
        "model_dense = make_model_dense(my_input_shape, training_generator_NOISE.n_classes_out)"
      ],
      "execution_count": 69,
      "outputs": [
        {
          "output_type": "stream",
          "text": [
            "Model: \"functional_23\"\n",
            "_________________________________________________________________\n",
            "Layer (type)                 Output Shape              Param #   \n",
            "=================================================================\n",
            "input_13 (InputLayer)        [(None, 100, 4)]          0         \n",
            "_________________________________________________________________\n",
            "flatten_6 (Flatten)          (None, 400)               0         \n",
            "_________________________________________________________________\n",
            "dense_23 (Dense)             (None, 50)                20050     \n",
            "_________________________________________________________________\n",
            "dropout_11 (Dropout)         (None, 50)                0         \n",
            "_________________________________________________________________\n",
            "dense_24 (Dense)             (None, 5)                 255       \n",
            "=================================================================\n",
            "Total params: 20,305\n",
            "Trainable params: 20,305\n",
            "Non-trainable params: 0\n",
            "_________________________________________________________________\n",
            "None\n"
          ],
          "name": "stdout"
        }
      ]
    },
    {
      "cell_type": "code",
      "metadata": {
        "colab": {
          "base_uri": "https://localhost:8080/"
        },
        "id": "KAbAyqVgKHP9",
        "outputId": "d192558e-33d9-46fb-ba5a-d7cfad458098"
      },
      "source": [
        "model_conv = make_model_conv(my_input_shape, training_generator_NOISE.n_classes_out)"
      ],
      "execution_count": 92,
      "outputs": [
        {
          "output_type": "stream",
          "text": [
            "Model: \"functional_31\"\n",
            "_________________________________________________________________\n",
            "Layer (type)                 Output Shape              Param #   \n",
            "=================================================================\n",
            "input_17 (InputLayer)        [(None, 100, 4)]          0         \n",
            "_________________________________________________________________\n",
            "conv1d_24 (Conv1D)           (None, 46, 32)            1312      \n",
            "_________________________________________________________________\n",
            "batch_normalization_18 (Batc (None, 46, 32)            128       \n",
            "_________________________________________________________________\n",
            "global_average_pooling1d_8 ( (None, 32)                0         \n",
            "_________________________________________________________________\n",
            "dense_31 (Dense)             (None, 32)                1056      \n",
            "_________________________________________________________________\n",
            "dropout_15 (Dropout)         (None, 32)                0         \n",
            "_________________________________________________________________\n",
            "dense_32 (Dense)             (None, 5)                 165       \n",
            "=================================================================\n",
            "Total params: 2,661\n",
            "Trainable params: 2,597\n",
            "Non-trainable params: 64\n",
            "_________________________________________________________________\n",
            "None\n"
          ],
          "name": "stdout"
        }
      ]
    },
    {
      "cell_type": "code",
      "metadata": {
        "id": "PqcBiM3oeKUg"
      },
      "source": [
        "opt = tf.keras.optimizers.Adam(lr=1e-03)"
      ],
      "execution_count": 71,
      "outputs": []
    },
    {
      "cell_type": "code",
      "metadata": {
        "id": "h3ykLM269j9I"
      },
      "source": [
        "#loss, val_loss = my_train(model_dense, opt, 3, training_generator_NO_NOISE, validation_generator_NO_NOISE)"
      ],
      "execution_count": 72,
      "outputs": []
    },
    {
      "cell_type": "markdown",
      "metadata": {
        "id": "3OU2BmV2ODe9"
      },
      "source": [
        "#### Check: with only few points, I can completely overfit "
      ]
    },
    {
      "cell_type": "code",
      "metadata": {
        "id": "rmvx16YM7r-f"
      },
      "source": [
        "def plot_hist(loss, val_loss, acc, val_acc, epochs):\n",
        "\n",
        "  epochs_range = range(epochs)\n",
        "\n",
        "  plt.figure(figsize=(18, 4))\n",
        "  plt.subplot(1, 2, 1)\n",
        "  plt.plot(epochs_range, acc, label='Training Accuracy')\n",
        "  plt.plot(epochs_range, val_acc, label='Validation Accuracy')\n",
        "  plt.legend(loc='lower right')\n",
        "  plt.title('Training and Validation Accuracy')\n",
        "\n",
        "  plt.subplot(1, 2, 2)\n",
        "  plt.plot(epochs_range, loss, label='Training Loss')\n",
        "  plt.plot(epochs_range, val_loss, label='Validation Loss')\n",
        "  plt.legend(loc='upper right')\n",
        "  plt.title('Training and Validation Loss');\n",
        "\n",
        "  plt.show()"
      ],
      "execution_count": 79,
      "outputs": []
    },
    {
      "cell_type": "code",
      "metadata": {
        "id": "B2aOwBDWOg2D"
      },
      "source": [
        "epochs=200"
      ],
      "execution_count": 80,
      "outputs": []
    },
    {
      "cell_type": "code",
      "metadata": {
        "colab": {
          "base_uri": "https://localhost:8080/",
          "height": 169,
          "referenced_widgets": [
            "32ab16c999c64bb6b3e814ac103d1600",
            "08c5c7a9fed346e3a6073449da357fca",
            "db297fccdee84c6297863ba837235339",
            "f18d65ad36a14d72964ab8fdaa8fbdbb",
            "a0a8861b398742df9c9a12777d224f2b",
            "17f5a10a1453488b993753ffa6954903",
            "456df49d980349e7af022648e7d93183",
            "4c723ca5dda04b8b899987561c1ccde1",
            "5db3d621b09f43e5b455c5a1cef5bf25",
            "e1e9b3c9414242a6b6509dd472711ba1",
            "08e3bc67e65c43f0bce86c1506f27c47",
            "f679370a50914dc79b7ad44189664ae8",
            "a611d7b3d1b74acfb0f00c14184bdfad",
            "f1e21ec61b76482db62d92d94f475a6c",
            "c9c481ea30674b648ebf4efbd7429957",
            "9766230b646a4a7fb0cd796f468a478d"
          ]
        },
        "id": "xIbm1BfsKPxc",
        "outputId": "6195240b-e79a-45cf-e95c-e336195b59b4"
      },
      "source": [
        "loss, val_loss, acc, val_acc = my_train(model_conv, opt, epochs, training_generator_TEST, validation_generator_TEST)"
      ],
      "execution_count": 93,
      "outputs": [
        {
          "output_type": "stream",
          "text": [
            "/usr/local/lib/python3.6/dist-packages/ipykernel_launcher.py:17: TqdmDeprecationWarning: Please use `tqdm.notebook.trange` instead of `tqdm.tnrange`\n"
          ],
          "name": "stderr"
        },
        {
          "output_type": "display_data",
          "data": {
            "application/vnd.jupyter.widget-view+json": {
              "model_id": "32ab16c999c64bb6b3e814ac103d1600",
              "version_minor": 0,
              "version_major": 2
            },
            "text/plain": [
              "HBox(children=(FloatProgress(value=0.0, description='Epochs', max=200.0, style=ProgressStyle(description_width…"
            ]
          },
          "metadata": {
            "tags": []
          }
        },
        {
          "output_type": "stream",
          "text": [
            "/usr/local/lib/python3.6/dist-packages/ipykernel_launcher.py:18: TqdmDeprecationWarning: Please use `tqdm.notebook.trange` instead of `tqdm.tnrange`\n"
          ],
          "name": "stderr"
        },
        {
          "output_type": "display_data",
          "data": {
            "application/vnd.jupyter.widget-view+json": {
              "model_id": "5db3d621b09f43e5b455c5a1cef5bf25",
              "version_minor": 0,
              "version_major": 2
            },
            "text/plain": [
              "HBox(children=(FloatProgress(value=0.0, description='Batch', max=1.0, style=ProgressStyle(description_width='i…"
            ]
          },
          "metadata": {
            "tags": []
          }
        },
        {
          "output_type": "stream",
          "text": [
            "\n",
            "\n"
          ],
          "name": "stdout"
        }
      ]
    },
    {
      "cell_type": "code",
      "metadata": {
        "colab": {
          "base_uri": "https://localhost:8080/",
          "height": 280
        },
        "id": "9LogN5NMPNKE",
        "outputId": "4f1106ca-f7c5-452c-bc7f-3df2e506dfd5"
      },
      "source": [
        "plot_hist(loss, val_loss, acc, val_acc, epochs)"
      ],
      "execution_count": 94,
      "outputs": [
        {
          "output_type": "display_data",
          "data": {
            "image/png": "[encoded data removed]",
            "text/plain": [
              "<Figure size 1296x288 with 2 Axes>"
            ]
          },
          "metadata": {
            "tags": [],
            "needs_background": "light"
          }
        }
      ]
    },
    {
      "cell_type": "code",
      "metadata": {
        "colab": {
          "base_uri": "https://localhost:8080/",
          "height": 169,
          "referenced_widgets": [
            "bd5407b362b34db68d81e35fd6064965",
            "9bbbfa0fc1d8472db0d86f1e9f867781",
            "3bee5a47435f4c15a4908e327cdf4ee3",
            "1580267c84f4496a909f9a3ee63d2d5e",
            "6d1f391672b64e76abc009c6c5e8c91d",
            "ef01062aa68b48369f524c6b601cca5f",
            "b8db26040a324ef885a5802e9918c609",
            "a7c81f4b1bd1492ebb74723fc2232e3b",
            "705bf2b1ecc1491cab0019e728dcc5d3",
            "90dedb05c3fb49869dd2aed7424600d6",
            "ddaab30bd3c04deaa5b093e090501550",
            "3d8c7c2d0ee54b7e9fcd7b0456e63c82",
            "be2c05b29b7b4bec8a5e3fca7f8cdd68",
            "a981c61d7e9a488d800c30e5fcf77c45",
            "c3cd487f5ea0483996272748ec7e2e6e",
            "8357483139b7434c88dcdeaf256d864c"
          ]
        },
        "id": "n4hf-i08OLH-",
        "outputId": "fd2041fd-eb77-4682-a635-89ac9d5a3762"
      },
      "source": [
        "loss1, val_loss1, acc1, val_acc1 = my_train(model_dense, opt, epochs, training_generator_TEST, validation_generator_TEST)"
      ],
      "execution_count": 75,
      "outputs": [
        {
          "output_type": "stream",
          "text": [
            "/usr/local/lib/python3.6/dist-packages/ipykernel_launcher.py:17: TqdmDeprecationWarning: Please use `tqdm.notebook.trange` instead of `tqdm.tnrange`\n"
          ],
          "name": "stderr"
        },
        {
          "output_type": "display_data",
          "data": {
            "application/vnd.jupyter.widget-view+json": {
              "model_id": "bd5407b362b34db68d81e35fd6064965",
              "version_minor": 0,
              "version_major": 2
            },
            "text/plain": [
              "HBox(children=(FloatProgress(value=0.0, description='Epochs', max=200.0, style=ProgressStyle(description_width…"
            ]
          },
          "metadata": {
            "tags": []
          }
        },
        {
          "output_type": "stream",
          "text": [
            "/usr/local/lib/python3.6/dist-packages/ipykernel_launcher.py:18: TqdmDeprecationWarning: Please use `tqdm.notebook.trange` instead of `tqdm.tnrange`\n"
          ],
          "name": "stderr"
        },
        {
          "output_type": "display_data",
          "data": {
            "application/vnd.jupyter.widget-view+json": {
              "model_id": "705bf2b1ecc1491cab0019e728dcc5d3",
              "version_minor": 0,
              "version_major": 2
            },
            "text/plain": [
              "HBox(children=(FloatProgress(value=0.0, description='Batch', max=1.0, style=ProgressStyle(description_width='i…"
            ]
          },
          "metadata": {
            "tags": []
          }
        },
        {
          "output_type": "stream",
          "text": [
            "\n",
            "\n"
          ],
          "name": "stdout"
        }
      ]
    },
    {
      "cell_type": "code",
      "metadata": {
        "colab": {
          "base_uri": "https://localhost:8080/",
          "height": 280
        },
        "id": "S8LxHvJjAU-d",
        "outputId": "d2817655-856f-4a6e-b510-0c4281b8293d"
      },
      "source": [
        "plot_hist(loss1, val_loss1, acc1, val_acc1, epochs)"
      ],
      "execution_count": 83,
      "outputs": [
        {
          "output_type": "display_data",
          "data": {
            "image/png": "[encoded data removed]",
            "text/plain": [
              "<Figure size 1296x288 with 2 Axes>"
            ]
          },
          "metadata": {
            "tags": [],
            "needs_background": "light"
          }
        }
      ]
    },
    {
      "cell_type": "markdown",
      "metadata": {
        "id": "VBUJRAkrPndO"
      },
      "source": [
        "## Full training"
      ]
    },
    {
      "cell_type": "markdown",
      "metadata": {
        "id": "UUh52IeTl8Z5"
      },
      "source": [
        "#### Simple models, no noise"
      ]
    },
    {
      "cell_type": "code",
      "metadata": {
        "colab": {
          "base_uri": "https://localhost:8080/",
          "height": 492,
          "referenced_widgets": [
            "e6c1a2610dd9461b9f109d88687d4a8f",
            "542e6b8d36994344b5252352ec0d261a",
            "f119a4b7213a4e359872515a846a9916",
            "b436448b004748008b6e34768bed6e2d",
            "d517efa81a1b4ed9939f676266107c16",
            "36657ef56f694242b08ee48bd8357a91",
            "3fe8803b65ea4ef7879d1bcc2d60cecf",
            "92a920846a5749faafa2ec02ba7df998",
            "c1d054e3afde4cd6818f28ecb9b4cd0d",
            "2a7652b0f33e4cae8a7440a5ba676c2c",
            "ede18c1d6fd34e7098ad534d9957aaca",
            "163d399b5bad48119de038aaddca9972",
            "a043df012bb94714b9bf281798bfb726",
            "d950bcd935c741fd8c21ccb9ec0ccbe2",
            "923ebeb694074201b549faad0e1cc4ab",
            "f4e816c68b744735b34a25989e964a1b"
          ]
        },
        "id": "2gmjeJLXPX8Z",
        "outputId": "58d3d529-15f6-4201-8807-f51fbbd44c43"
      },
      "source": [
        "model_dense = make_model_dense(my_input_shape, training_generator_NO_NOISE.n_classes_out)\n",
        "\n",
        "loss, val_loss, acc, val_acc = my_train(model_dense, opt, 50, training_generator_NO_NOISE, validation_generator_NO_NOISE)"
      ],
      "execution_count": 84,
      "outputs": [
        {
          "output_type": "stream",
          "text": [
            "Model: \"functional_27\"\n",
            "_________________________________________________________________\n",
            "Layer (type)                 Output Shape              Param #   \n",
            "=================================================================\n",
            "input_15 (InputLayer)        [(None, 100, 4)]          0         \n",
            "_________________________________________________________________\n",
            "flatten_7 (Flatten)          (None, 400)               0         \n",
            "_________________________________________________________________\n",
            "dense_27 (Dense)             (None, 50)                20050     \n",
            "_________________________________________________________________\n",
            "dropout_13 (Dropout)         (None, 50)                0         \n",
            "_________________________________________________________________\n",
            "dense_28 (Dense)             (None, 5)                 255       \n",
            "=================================================================\n",
            "Total params: 20,305\n",
            "Trainable params: 20,305\n",
            "Non-trainable params: 0\n",
            "_________________________________________________________________\n",
            "None\n"
          ],
          "name": "stdout"
        },
        {
          "output_type": "stream",
          "text": [
            "/usr/local/lib/python3.6/dist-packages/ipykernel_launcher.py:17: TqdmDeprecationWarning: Please use `tqdm.notebook.trange` instead of `tqdm.tnrange`\n"
          ],
          "name": "stderr"
        },
        {
          "output_type": "display_data",
          "data": {
            "application/vnd.jupyter.widget-view+json": {
              "model_id": "e6c1a2610dd9461b9f109d88687d4a8f",
              "version_minor": 0,
              "version_major": 2
            },
            "text/plain": [
              "HBox(children=(FloatProgress(value=0.0, description='Epochs', max=50.0, style=ProgressStyle(description_width=…"
            ]
          },
          "metadata": {
            "tags": []
          }
        },
        {
          "output_type": "stream",
          "text": [
            "/usr/local/lib/python3.6/dist-packages/ipykernel_launcher.py:18: TqdmDeprecationWarning: Please use `tqdm.notebook.trange` instead of `tqdm.tnrange`\n"
          ],
          "name": "stderr"
        },
        {
          "output_type": "display_data",
          "data": {
            "application/vnd.jupyter.widget-view+json": {
              "model_id": "c1d054e3afde4cd6818f28ecb9b4cd0d",
              "version_minor": 0,
              "version_major": 2
            },
            "text/plain": [
              "HBox(children=(FloatProgress(value=0.0, description='Batch', max=45.0, style=ProgressStyle(description_width='…"
            ]
          },
          "metadata": {
            "tags": []
          }
        },
        {
          "output_type": "stream",
          "text": [
            "\n",
            "\n"
          ],
          "name": "stdout"
        }
      ]
    },
    {
      "cell_type": "code",
      "metadata": {
        "colab": {
          "base_uri": "https://localhost:8080/",
          "height": 280
        },
        "id": "E3SHSa1iQGM2",
        "outputId": "744b770b-98e9-4f63-da7a-786d9db2f0cd"
      },
      "source": [
        "plot_hist(loss, val_loss, acc, val_acc, 50)"
      ],
      "execution_count": 85,
      "outputs": [
        {
          "output_type": "display_data",
          "data": {
            "image/png": "[encoded data removed]",
            "text/plain": [
              "<Figure size 1296x288 with 2 Axes>"
            ]
          },
          "metadata": {
            "tags": [],
            "needs_background": "light"
          }
        }
      ]
    },
    {
      "cell_type": "code",
      "metadata": {
        "colab": {
          "base_uri": "https://localhost:8080/",
          "height": 560,
          "referenced_widgets": [
            "6bf219eb972b4261bd9d839c842d0538",
            "b53d4140f9fb4035aae699839abc45a9",
            "e33d47864e0c4556a307209610c3325f",
            "d3dae9f09cbe4f9583a973faeb1205fd",
            "4c716c462abd43afb64107e5ec55d311",
            "e3c1ea415df04317b1bee5a058b60634",
            "1ae173155035499f9122ec6c34bbe436",
            "23b58e7e591245f2841bb991d8ec6054",
            "21185619494046939533826f38d13c19",
            "42e56fe4b3424543b33d830718e867b9",
            "e8a662afae3c419ab42b61c135073660",
            "962c5b7680a74cb39718a4dff1d87403",
            "471cecf697684520a40b7fc2cc6b1713",
            "e5b0d1f001bd44eba98d755d7e523e67",
            "73e8b6e1b5c34caf83ba71fe64802847",
            "e0eec47800a8400384213b4f1c75f7a6"
          ]
        },
        "id": "uMRqXOyFP572",
        "outputId": "0bf41e03-1414-4bdf-aeaf-967ae748b831"
      },
      "source": [
        "model_conv = make_model_conv(my_input_shape, training_generator_NO_NOISE.n_classes_out)\n",
        "\n",
        "loss1, val_loss1, acc1, val_acc1 = my_train(model_conv, opt, 50, training_generator_NO_NOISE, validation_generator_NO_NOISE)"
      ],
      "execution_count": 95,
      "outputs": [
        {
          "output_type": "stream",
          "text": [
            "Model: \"functional_33\"\n",
            "_________________________________________________________________\n",
            "Layer (type)                 Output Shape              Param #   \n",
            "=================================================================\n",
            "input_18 (InputLayer)        [(None, 100, 4)]          0         \n",
            "_________________________________________________________________\n",
            "conv1d_25 (Conv1D)           (None, 46, 32)            1312      \n",
            "_________________________________________________________________\n",
            "batch_normalization_19 (Batc (None, 46, 32)            128       \n",
            "_________________________________________________________________\n",
            "global_average_pooling1d_9 ( (None, 32)                0         \n",
            "_________________________________________________________________\n",
            "dense_33 (Dense)             (None, 32)                1056      \n",
            "_________________________________________________________________\n",
            "dropout_16 (Dropout)         (None, 32)                0         \n",
            "_________________________________________________________________\n",
            "dense_34 (Dense)             (None, 5)                 165       \n",
            "=================================================================\n",
            "Total params: 2,661\n",
            "Trainable params: 2,597\n",
            "Non-trainable params: 64\n",
            "_________________________________________________________________\n",
            "None\n"
          ],
          "name": "stdout"
        },
        {
          "output_type": "stream",
          "text": [
            "/usr/local/lib/python3.6/dist-packages/ipykernel_launcher.py:17: TqdmDeprecationWarning: Please use `tqdm.notebook.trange` instead of `tqdm.tnrange`\n"
          ],
          "name": "stderr"
        },
        {
          "output_type": "display_data",
          "data": {
            "application/vnd.jupyter.widget-view+json": {
              "model_id": "6bf219eb972b4261bd9d839c842d0538",
              "version_minor": 0,
              "version_major": 2
            },
            "text/plain": [
              "HBox(children=(FloatProgress(value=0.0, description='Epochs', max=50.0, style=ProgressStyle(description_width=…"
            ]
          },
          "metadata": {
            "tags": []
          }
        },
        {
          "output_type": "stream",
          "text": [
            "/usr/local/lib/python3.6/dist-packages/ipykernel_launcher.py:18: TqdmDeprecationWarning: Please use `tqdm.notebook.trange` instead of `tqdm.tnrange`\n"
          ],
          "name": "stderr"
        },
        {
          "output_type": "display_data",
          "data": {
            "application/vnd.jupyter.widget-view+json": {
              "model_id": "21185619494046939533826f38d13c19",
              "version_minor": 0,
              "version_major": 2
            },
            "text/plain": [
              "HBox(children=(FloatProgress(value=0.0, description='Batch', max=45.0, style=ProgressStyle(description_width='…"
            ]
          },
          "metadata": {
            "tags": []
          }
        },
        {
          "output_type": "stream",
          "text": [
            "\n",
            "\n"
          ],
          "name": "stdout"
        }
      ]
    },
    {
      "cell_type": "code",
      "metadata": {
        "colab": {
          "base_uri": "https://localhost:8080/",
          "height": 280
        },
        "id": "arvS1s9zQKYB",
        "outputId": "a3a4a0ba-bc04-47ca-e3bd-922712abf88b"
      },
      "source": [
        "plot_hist(loss1, val_loss1, acc1, val_acc1, 50)"
      ],
      "execution_count": 97,
      "outputs": [
        {
          "output_type": "display_data",
          "data": {
            "image/png": "[encoded data removed]",
            "text/plain": [
              "<Figure size 1296x288 with 2 Axes>"
            ]
          },
          "metadata": {
            "tags": [],
            "needs_background": "light"
          }
        }
      ]
    },
    {
      "cell_type": "markdown",
      "metadata": {
        "id": "sGtRGSw8l5fo"
      },
      "source": [
        "#### Add noise"
      ]
    },
    {
      "cell_type": "code",
      "metadata": {
        "colab": {
          "base_uri": "https://localhost:8080/",
          "height": 492,
          "referenced_widgets": [
            "ea2701da605449be9ff1852486a5eb07",
            "ba6bb984b1714379920f127671d0208f",
            "e98b2d1e44454aeda0c0423e1471f09d",
            "d4d5a37174c94050a0cce82decedeef6",
            "54ba2edaf1874a808b8e7720dbeb3202",
            "c32d5e3aa39f4d47ac393b0008c76249",
            "65d8ae39aca34b40a6022970b734c922",
            "c8b1422e3527494684968d4676077ad3",
            "cb06db2e6e30489398c6430431f661d9",
            "a959c03392404dce9f5dd0db4137cfe4",
            "c1277ae595114167a3f90f9a86efae89",
            "12e3e66da5af4b7a8b803c08523429ec",
            "a11786d8bebd485d9899b87686e7eddb",
            "f2724c95529e48149a30447519c64d08",
            "f0b757bf3629416a932c2911f08b4317",
            "26a37f7f816343de87ecbb6cdaafd235"
          ]
        },
        "id": "fzqyuFA8ll8B",
        "outputId": "a27d7980-aead-418b-bdf0-28e35bf630d9"
      },
      "source": [
        "model_dense_1 = make_model_dense(my_input_shape, training_generator_NOISE.n_classes_out)\n",
        "\n",
        "lossN, val_lossN, accN, val_accN = my_train(model_dense_1, opt, 50, training_generator_NOISE, validation_generator_NOISE)"
      ],
      "execution_count": 98,
      "outputs": [
        {
          "output_type": "stream",
          "text": [
            "Model: \"functional_35\"\n",
            "_________________________________________________________________\n",
            "Layer (type)                 Output Shape              Param #   \n",
            "=================================================================\n",
            "input_19 (InputLayer)        [(None, 100, 4)]          0         \n",
            "_________________________________________________________________\n",
            "flatten_8 (Flatten)          (None, 400)               0         \n",
            "_________________________________________________________________\n",
            "dense_35 (Dense)             (None, 50)                20050     \n",
            "_________________________________________________________________\n",
            "dropout_17 (Dropout)         (None, 50)                0         \n",
            "_________________________________________________________________\n",
            "dense_36 (Dense)             (None, 5)                 255       \n",
            "=================================================================\n",
            "Total params: 20,305\n",
            "Trainable params: 20,305\n",
            "Non-trainable params: 0\n",
            "_________________________________________________________________\n",
            "None\n"
          ],
          "name": "stdout"
        },
        {
          "output_type": "stream",
          "text": [
            "/usr/local/lib/python3.6/dist-packages/ipykernel_launcher.py:17: TqdmDeprecationWarning: Please use `tqdm.notebook.trange` instead of `tqdm.tnrange`\n"
          ],
          "name": "stderr"
        },
        {
          "output_type": "display_data",
          "data": {
            "application/vnd.jupyter.widget-view+json": {
              "model_id": "ea2701da605449be9ff1852486a5eb07",
              "version_minor": 0,
              "version_major": 2
            },
            "text/plain": [
              "HBox(children=(FloatProgress(value=0.0, description='Epochs', max=50.0, style=ProgressStyle(description_width=…"
            ]
          },
          "metadata": {
            "tags": []
          }
        },
        {
          "output_type": "stream",
          "text": [
            "/usr/local/lib/python3.6/dist-packages/ipykernel_launcher.py:18: TqdmDeprecationWarning: Please use `tqdm.notebook.trange` instead of `tqdm.tnrange`\n"
          ],
          "name": "stderr"
        },
        {
          "output_type": "display_data",
          "data": {
            "application/vnd.jupyter.widget-view+json": {
              "model_id": "cb06db2e6e30489398c6430431f661d9",
              "version_minor": 0,
              "version_major": 2
            },
            "text/plain": [
              "HBox(children=(FloatProgress(value=0.0, description='Batch', max=45.0, style=ProgressStyle(description_width='…"
            ]
          },
          "metadata": {
            "tags": []
          }
        },
        {
          "output_type": "stream",
          "text": [
            "\n",
            "\n"
          ],
          "name": "stdout"
        }
      ]
    },
    {
      "cell_type": "code",
      "metadata": {
        "colab": {
          "base_uri": "https://localhost:8080/",
          "height": 280
        },
        "id": "rGBywpzYmA2i",
        "outputId": "f8b40b77-3d0e-406f-9861-12281b9355d5"
      },
      "source": [
        "plot_hist(lossN, val_lossN, accN, val_accN, 50)"
      ],
      "execution_count": 104,
      "outputs": [
        {
          "output_type": "display_data",
          "data": {
            "image/png": "[encoded data removed]",
            "text/plain": [
              "<Figure size 1296x288 with 2 Axes>"
            ]
          },
          "metadata": {
            "tags": [],
            "needs_background": "light"
          }
        }
      ]
    },
    {
      "cell_type": "code",
      "metadata": {
        "colab": {
          "base_uri": "https://localhost:8080/",
          "height": 560,
          "referenced_widgets": [
            "b6d3b613d5574a7c8dd35f3e4f272d0b",
            "2195ac17e935451aad5465844f4400c0",
            "ea46748b4e2245b7947a76c2d5c76b5d",
            "21e6101e91504e70b940d821c8cff842",
            "ea3dc66da796484a8c2b670911a50773",
            "65437289fb7f485680569b4e40f735c0",
            "ead38f676b994cdc9afffefeb318e86a",
            "0e8488c5dc184163af58226227f27750",
            "a1387553de84486688b07d202a9ea70e",
            "02272b2b19e344e1841b70d8ade24d24",
            "d98806aed8fb4e8986dbf2236b8775c1",
            "4bafd23778cc44559c63e93fae3765b8",
            "2b56aef74dff4ce790f6d6da20206f79",
            "48e535b646d445c0a1de7b4e2dc37b64",
            "fce7e264021b4317b642dc8635fcc9d4",
            "3b2573687e244d02bfac8ecd97043697"
          ]
        },
        "id": "vYtnHMvcmBDO",
        "outputId": "35d25c07-3831-4451-c53b-5c8df1c2f391"
      },
      "source": [
        "model_conv_1 = make_model_conv(my_input_shape, training_generator_NOISE.n_classes_out)\n",
        "\n",
        "loss1N, val_loss1N, acc1N, val_acc1N = my_train(model_conv_1, opt, 50, training_generator_NOISE, validation_generator_NOISE)"
      ],
      "execution_count": 100,
      "outputs": [
        {
          "output_type": "stream",
          "text": [
            "Model: \"functional_37\"\n",
            "_________________________________________________________________\n",
            "Layer (type)                 Output Shape              Param #   \n",
            "=================================================================\n",
            "input_20 (InputLayer)        [(None, 100, 4)]          0         \n",
            "_________________________________________________________________\n",
            "conv1d_26 (Conv1D)           (None, 46, 32)            1312      \n",
            "_________________________________________________________________\n",
            "batch_normalization_20 (Batc (None, 46, 32)            128       \n",
            "_________________________________________________________________\n",
            "global_average_pooling1d_10  (None, 32)                0         \n",
            "_________________________________________________________________\n",
            "dense_37 (Dense)             (None, 32)                1056      \n",
            "_________________________________________________________________\n",
            "dropout_18 (Dropout)         (None, 32)                0         \n",
            "_________________________________________________________________\n",
            "dense_38 (Dense)             (None, 5)                 165       \n",
            "=================================================================\n",
            "Total params: 2,661\n",
            "Trainable params: 2,597\n",
            "Non-trainable params: 64\n",
            "_________________________________________________________________\n",
            "None\n"
          ],
          "name": "stdout"
        },
        {
          "output_type": "stream",
          "text": [
            "/usr/local/lib/python3.6/dist-packages/ipykernel_launcher.py:17: TqdmDeprecationWarning: Please use `tqdm.notebook.trange` instead of `tqdm.tnrange`\n"
          ],
          "name": "stderr"
        },
        {
          "output_type": "display_data",
          "data": {
            "application/vnd.jupyter.widget-view+json": {
              "model_id": "b6d3b613d5574a7c8dd35f3e4f272d0b",
              "version_minor": 0,
              "version_major": 2
            },
            "text/plain": [
              "HBox(children=(FloatProgress(value=0.0, description='Epochs', max=50.0, style=ProgressStyle(description_width=…"
            ]
          },
          "metadata": {
            "tags": []
          }
        },
        {
          "output_type": "stream",
          "text": [
            "/usr/local/lib/python3.6/dist-packages/ipykernel_launcher.py:18: TqdmDeprecationWarning: Please use `tqdm.notebook.trange` instead of `tqdm.tnrange`\n"
          ],
          "name": "stderr"
        },
        {
          "output_type": "display_data",
          "data": {
            "application/vnd.jupyter.widget-view+json": {
              "model_id": "a1387553de84486688b07d202a9ea70e",
              "version_minor": 0,
              "version_major": 2
            },
            "text/plain": [
              "HBox(children=(FloatProgress(value=0.0, description='Batch', max=45.0, style=ProgressStyle(description_width='…"
            ]
          },
          "metadata": {
            "tags": []
          }
        },
        {
          "output_type": "stream",
          "text": [
            "\n",
            "\n"
          ],
          "name": "stdout"
        }
      ]
    },
    {
      "cell_type": "code",
      "metadata": {
        "colab": {
          "base_uri": "https://localhost:8080/",
          "height": 280
        },
        "id": "7_9ft0K2mBV2",
        "outputId": "089dc56a-8500-4a8e-f9ab-83b4d6c0a8d6"
      },
      "source": [
        "plot_hist(loss1N, val_loss1N, acc1N, val_acc1N, 50)"
      ],
      "execution_count": 101,
      "outputs": [
        {
          "output_type": "display_data",
          "data": {
            "image/png": "[encoded data removed]",
            "text/plain": [
              "<Figure size 1296x288 with 2 Axes>"
            ]
          },
          "metadata": {
            "tags": [],
            "needs_background": "light"
          }
        }
      ]
    },
    {
      "cell_type": "markdown",
      "metadata": {
        "id": "cP0VG1B1R_bB"
      },
      "source": [
        "#### Compare to actual BaCoN"
      ]
    },
    {
      "cell_type": "code",
      "metadata": {
        "id": "mUkhY_xwXk2i"
      },
      "source": [
        "from models import make_model"
      ],
      "execution_count": 87,
      "outputs": []
    },
    {
      "cell_type": "code",
      "metadata": {
        "colab": {
          "base_uri": "https://localhost:8080/",
          "height": 271,
          "referenced_widgets": [
            "4a50b9cb0edc45829aa92707bd914a0c",
            "98e815bd74ae495ca1cbb16bfbcbb0fa",
            "e8a9391e563d4f0098cf3b0b93fd14fd",
            "0bcfd73d9675429ebfb9a243dfcd44b4",
            "a72890e64b1141d08884548d8972ea25",
            "120f80ecd8994b768b56e7297562b8c4",
            "247f6a4afeae46b082a62039f9141f9b",
            "ca6c4fc7c5bb4c939f1dd29623866a33",
            "9b672a54bbb3470da2ed32527496120b",
            "00540698a0fe4828a0e582b0dae87434",
            "a0053678f78e46e396eacdd4d3206f92",
            "f4dd2ca780d74c2abea54484b17ff14b",
            "63fab72b667547bd8ae656a98a38528b",
            "c7cd86ccd7fa4c3eaad44dab2090e9bd",
            "8949f0a9f10049d3b1ce81b9a773e018",
            "01bc6fa82aec4d88a801ff42150f8ee1"
          ]
        },
        "id": "e1Bao_4LUBct",
        "outputId": "f52e08b5-fa98-4480-97b1-dcc8d55e66a8"
      },
      "source": [
        "BaCoN = make_model('custom', bayesian=False)\n",
        "\n",
        "lossB, val_lossB, accB, val_accB = my_train(BaCoN, opt, 50, training_generator_NO_NOISE, validation_generator_NO_NOISE)"
      ],
      "execution_count": 88,
      "outputs": [
        {
          "output_type": "stream",
          "text": [
            "using 1D layers and 4 channels\n",
            "Expected output dimension of layer conv1d_21: 46.0\n",
            "Expected output dimension of layer max_pooling1d_14: 23.0\n",
            "Expected output dimension of layer conv1d_22: 10.0\n",
            "Expected output dimension of layer max_pooling1d_15: 9.0\n",
            "Expected output dimension of layer conv1d_23: 8.0\n"
          ],
          "name": "stdout"
        },
        {
          "output_type": "stream",
          "text": [
            "/usr/local/lib/python3.6/dist-packages/ipykernel_launcher.py:17: TqdmDeprecationWarning: Please use `tqdm.notebook.trange` instead of `tqdm.tnrange`\n"
          ],
          "name": "stderr"
        },
        {
          "output_type": "display_data",
          "data": {
            "application/vnd.jupyter.widget-view+json": {
              "model_id": "4a50b9cb0edc45829aa92707bd914a0c",
              "version_minor": 0,
              "version_major": 2
            },
            "text/plain": [
              "HBox(children=(FloatProgress(value=0.0, description='Epochs', max=50.0, style=ProgressStyle(description_width=…"
            ]
          },
          "metadata": {
            "tags": []
          }
        },
        {
          "output_type": "stream",
          "text": [
            "/usr/local/lib/python3.6/dist-packages/ipykernel_launcher.py:18: TqdmDeprecationWarning: Please use `tqdm.notebook.trange` instead of `tqdm.tnrange`\n"
          ],
          "name": "stderr"
        },
        {
          "output_type": "display_data",
          "data": {
            "application/vnd.jupyter.widget-view+json": {
              "model_id": "9b672a54bbb3470da2ed32527496120b",
              "version_minor": 0,
              "version_major": 2
            },
            "text/plain": [
              "HBox(children=(FloatProgress(value=0.0, description='Batch', max=45.0, style=ProgressStyle(description_width='…"
            ]
          },
          "metadata": {
            "tags": []
          }
        },
        {
          "output_type": "stream",
          "text": [
            "\n",
            "\n"
          ],
          "name": "stdout"
        }
      ]
    },
    {
      "cell_type": "code",
      "metadata": {
        "colab": {
          "base_uri": "https://localhost:8080/",
          "height": 280
        },
        "id": "DAHVibGAgPQD",
        "outputId": "2bbe4b15-c8cd-4940-bf91-2c067d3e0eb4"
      },
      "source": [
        "plot_hist(lossB, val_lossB, accB, val_accB, 50)"
      ],
      "execution_count": 90,
      "outputs": [
        {
          "output_type": "display_data",
          "data": {
            "image/png": "[encoded data removed]",
            "text/plain": [
              "<Figure size 1296x288 with 2 Axes>"
            ]
          },
          "metadata": {
            "tags": [],
            "needs_background": "light"
          }
        }
      ]
    },
    {
      "cell_type": "code",
      "metadata": {
        "colab": {
          "base_uri": "https://localhost:8080/",
          "height": 900,
          "referenced_widgets": [
            "cfb73af77a5c4f319452fe85db1e88cb",
            "8766b77ddd5f4d889f73dfffff3ddc67",
            "c67264720678481a83fbf9edc62ec35c",
            "ed6b1d31426848b7a679ed77541e0897",
            "dfff1b80d2104716bbce6532dca4ea03",
            "e18b7bf33a0c45bc9498a5eb108e18de",
            "4fc2b47afd6640f7a98122ae27d3a2e3",
            "c2f8bba0160342c8a17f92c113e41c64",
            "0280f351c9cb466aa1fb5decdc6429e0",
            "e3101456a2504b8197be4ff1b90f2299",
            "ad875a4d888d45d8a9a31199867477a6",
            "3d28498234604accbbce637b4dbf033f",
            "fc071cede4c24e2185000cc5cdb4755d",
            "6d38eab9a6944e05bcc862d9fa470f08",
            "3ae776ffe5154c07b832363a8030e75f",
            "59a0058029c44ebbb8ea8c753313109b"
          ]
        },
        "id": "E1PwxFpxlKO0",
        "outputId": "50ab04cf-42ca-42ea-88a6-4388b53943b8"
      },
      "source": [
        "BaCoN1 = make_model('custom', bayesian=False)\n",
        "print(BaCoN1.summary())\n",
        "lossBN, val_lossBN, accBN, val_accBN = my_train(BaCoN1, opt, 50, training_generator_NOISE, validation_generator_NOISE)"
      ],
      "execution_count": 102,
      "outputs": [
        {
          "output_type": "stream",
          "text": [
            "using 1D layers and 4 channels\n",
            "Expected output dimension of layer conv1d_27: 46.0\n",
            "Expected output dimension of layer max_pooling1d_16: 23.0\n",
            "Expected output dimension of layer conv1d_28: 10.0\n",
            "Expected output dimension of layer max_pooling1d_17: 9.0\n",
            "Expected output dimension of layer conv1d_29: 8.0\n",
            "Model: \"functional_39\"\n",
            "_________________________________________________________________\n",
            "Layer (type)                 Output Shape              Param #   \n",
            "=================================================================\n",
            "input_21 (InputLayer)        [(None, 100, 4)]          0         \n",
            "_________________________________________________________________\n",
            "conv1d_27 (Conv1D)           (None, 46, 8)             328       \n",
            "_________________________________________________________________\n",
            "max_pooling1d_16 (MaxPooling (None, 23, 8)             0         \n",
            "_________________________________________________________________\n",
            "batch_normalization_21 (Batc (None, 23, 8)             32        \n",
            "_________________________________________________________________\n",
            "conv1d_28 (Conv1D)           (None, 10, 16)            656       \n",
            "_________________________________________________________________\n",
            "max_pooling1d_17 (MaxPooling (None, 9, 16)             0         \n",
            "_________________________________________________________________\n",
            "batch_normalization_22 (Batc (None, 9, 16)             64        \n",
            "_________________________________________________________________\n",
            "conv1d_29 (Conv1D)           (None, 8, 32)             1056      \n",
            "_________________________________________________________________\n",
            "batch_normalization_23 (Batc (None, 8, 32)             128       \n",
            "_________________________________________________________________\n",
            "global_average_pooling1d_11  (None, 32)                0         \n",
            "_________________________________________________________________\n",
            "dense_39 (Dense)             (None, 32)                1056      \n",
            "_________________________________________________________________\n",
            "batch_normalization_24 (Batc (None, 32)                128       \n",
            "_________________________________________________________________\n",
            "dropout_19 (Dropout)         (None, 32)                0         \n",
            "_________________________________________________________________\n",
            "dense_40 (Dense)             (None, 5)                 165       \n",
            "=================================================================\n",
            "Total params: 3,613\n",
            "Trainable params: 3,437\n",
            "Non-trainable params: 176\n",
            "_________________________________________________________________\n",
            "None\n"
          ],
          "name": "stdout"
        },
        {
          "output_type": "stream",
          "text": [
            "/usr/local/lib/python3.6/dist-packages/ipykernel_launcher.py:17: TqdmDeprecationWarning: Please use `tqdm.notebook.trange` instead of `tqdm.tnrange`\n"
          ],
          "name": "stderr"
        },
        {
          "output_type": "display_data",
          "data": {
            "application/vnd.jupyter.widget-view+json": {
              "model_id": "cfb73af77a5c4f319452fe85db1e88cb",
              "version_minor": 0,
              "version_major": 2
            },
            "text/plain": [
              "HBox(children=(FloatProgress(value=0.0, description='Epochs', max=50.0, style=ProgressStyle(description_width=…"
            ]
          },
          "metadata": {
            "tags": []
          }
        },
        {
          "output_type": "stream",
          "text": [
            "/usr/local/lib/python3.6/dist-packages/ipykernel_launcher.py:18: TqdmDeprecationWarning: Please use `tqdm.notebook.trange` instead of `tqdm.tnrange`\n"
          ],
          "name": "stderr"
        },
        {
          "output_type": "display_data",
          "data": {
            "application/vnd.jupyter.widget-view+json": {
              "model_id": "0280f351c9cb466aa1fb5decdc6429e0",
              "version_minor": 0,
              "version_major": 2
            },
            "text/plain": [
              "HBox(children=(FloatProgress(value=0.0, description='Batch', max=45.0, style=ProgressStyle(description_width='…"
            ]
          },
          "metadata": {
            "tags": []
          }
        },
        {
          "output_type": "stream",
          "text": [
            "\n",
            "\n"
          ],
          "name": "stdout"
        }
      ]
    },
    {
      "cell_type": "code",
      "metadata": {
        "colab": {
          "base_uri": "https://localhost:8080/",
          "height": 280
        },
        "id": "01EFH6T0qALV",
        "outputId": "f4d8820b-1843-4d68-e005-11957d075f45"
      },
      "source": [
        "plot_hist(lossBN, val_lossBN, accBN, val_accBN, 50)"
      ],
      "execution_count": 103,
      "outputs": [
        {
          "output_type": "display_data",
          "data": {
            "image/png": "[encoded data removed]",
            "text/plain": [
              "<Figure size 1296x288 with 2 Axes>"
            ]
          },
          "metadata": {
            "tags": [],
            "needs_background": "light"
          }
        }
      ]
    },
    {
      "cell_type": "markdown",
      "metadata": {
        "id": "bZ9W_8GCmb6E"
      },
      "source": [
        "#### Syntax to run BaCoN"
      ]
    },
    {
      "cell_type": "code",
      "metadata": {
        "colab": {
          "base_uri": "https://localhost:8080/"
        },
        "id": "VuRW5KgeRBUy",
        "outputId": "7c231c55-c269-4759-eb32-ec16ee710601"
      },
      "source": [
        "! python train.py --bayesian='False' --fname='bacon_test' --DIR='data/test_data/' --add_noise='True'\\\n",
        "                  --lr=0.001 --drop=0.5 --n_epochs=50 --val_size=0.1 --batch_size=250"
      ],
      "execution_count": 105,
      "outputs": [
        {
          "output_type": "stream",
          "text": [
            "2020-12-09 19:48:38.676272: I tensorflow/stream_executor/platform/default/dso_loader.cc:48] Successfully opened dynamic library libcudart.so.10.1\n",
            "Creating directory models/bacon_test\n",
            "Logger creating log file: models/bacon_test/bacon_test_log.txt\n",
            "\n",
            " -------- Parameters:\n",
            "bayesian False\n",
            "test_mode False\n",
            "n_test_idx 2\n",
            "seed 1312\n",
            "fine_tune False\n",
            "one_vs_all False\n",
            "c_0 ['lcdm']\n",
            "c_1 ['dgp', 'fR', 'rand', 'wcdm']\n",
            "dataset_balanced False\n",
            "include_last False\n",
            "log_path \n",
            "restore False\n",
            "fname bacon_test\n",
            "model_name custom\n",
            "my_path None\n",
            "DIR data/test_data/\n",
            "TEST_DIR data/test_data/\n",
            "models_dir models/\n",
            "save_ckpt True\n",
            "out_path_overwrite False\n",
            "im_depth 500\n",
            "im_width 1\n",
            "im_channels 4\n",
            "swap_axes True\n",
            "sort_labels True\n",
            "normalization stdcosmo\n",
            "sample_pace 4\n",
            "k_max 2.5\n",
            "i_max None\n",
            "add_noise True\n",
            "n_noisy_samples 10\n",
            "add_shot True\n",
            "add_sys True\n",
            "sigma_sys 5.0\n",
            "z_bins [0, 1, 2, 3]\n",
            "n_dense 1\n",
            "filters [8, 16, 32]\n",
            "kernel_sizes [10, 5, 2]\n",
            "strides [2, 2, 1]\n",
            "pool_sizes [2, 2, 0]\n",
            "strides_pooling [2, 1, 0]\n",
            "add_FT_dense False\n",
            "trainable False\n",
            "unfreeze False\n",
            "lr 0.001\n",
            "drop 0.5\n",
            "n_epochs 50\n",
            "val_size 0.1\n",
            "test_size 0.0\n",
            "batch_size 250\n",
            "patience 100\n",
            "GPU True\n",
            "decay 0.95\n",
            "BatchNorm True\n",
            "\n",
            "------------ CREATING DATA GENERATORS ------------\n",
            "labels : ['dgp', 'fr', 'lcdm', 'rand', 'wcdm']\n",
            "Labels encoding: \n",
            "{'dgp': 0, 'fr': 1, 'lcdm': 2, 'rand': 3, 'wcdm': 4}\n",
            "n_labels : 5\n",
            "dgp - 2500 training examples\n",
            "fr - 2500 training examples\n",
            "lcdm - 2500 training examples\n",
            "rand - 2500 training examples\n",
            "wcdm - 2500 training examples\n",
            "\n",
            "N. of data files: 2500\n",
            "get_all_indexes labels dict: {'dgp': 0, 'fr': 1, 'lcdm': 2, 'rand': 3, 'wcdm': 4}\n",
            "create_generators n_labels: 5\n",
            "create_generators n_labels_eff: 5\n",
            "create_generators len_c1: 1\n",
            "Check for no duplicates in test: (0=ok):\n",
            "0.0\n",
            "Check for no duplicates in val: (0=ok):\n",
            "0\n",
            "N of files in training set: 2250\n",
            "N of files in validation set: 250\n",
            "N of files in test set: 0\n",
            "Check - total: 2500\n",
            "--create_generators, train indexes\n",
            "batch_size: 250\n",
            "- Cut sample\n",
            "bs: 250\n",
            "N_labels: 5\n",
            "N_noise: 10\n",
            "len_c1: 1\n",
            "Train index length: 2250\n",
            "--create_generators, validation indexes\n",
            "- Cut sample\n",
            "bs: 250\n",
            "N_labels: 5\n",
            "N_noise: 10\n",
            "len_c1: 1\n",
            "Val index length: 250\n",
            "len(train_index_1), batch_size, n_labels_eff, n_noisy_samples = 2250, 250, 5, 10\n",
            "\n",
            "--DataGenerator Train\n",
            "Data Generator Initialization\n",
            "Using z bins [0, 1, 2, 3]\n",
            "Specified k_max is 2.5\n",
            "Corresponding i_max is 100\n",
            "Closest k to k_max is 2.539859\n",
            "New data dim: (100, 1)\n",
            "Final i_max used is 100\n",
            "one_vs_all: False\n",
            "dataset_balanced: False\n",
            "base_case_dataset: True\n",
            "N. classes: 5\n",
            "N. n_classes in output: 5\n",
            "list_IDs length: 2250\n",
            "n_indexes (n of file IDs read for each batch): 5\n",
            "batch size: 250\n",
            "n_batches : 450\n",
            "For each batch we read 5 file IDs\n",
            "For each file ID we have 5 labels\n",
            "For each ID, label we have 10 realizations of noise\n",
            "In total, for each batch we have 250 training examples\n",
            "Input batch size: 250\n",
            "N of batches to cover all file IDs: 450\n",
            "\n",
            "--DataGenerator Validation\n",
            "Data Generator Initialization\n",
            "Using z bins [0, 1, 2, 3]\n",
            "Specified k_max is 2.5\n",
            "Corresponding i_max is 100\n",
            "Closest k to k_max is 2.539859\n",
            "New data dim: (100, 1)\n",
            "Final i_max used is 100\n",
            "one_vs_all: False\n",
            "dataset_balanced: False\n",
            "base_case_dataset: True\n",
            "N. classes: 5\n",
            "N. n_classes in output: 5\n",
            "list_IDs length: 250\n",
            "n_indexes (n of file IDs read for each batch): 5\n",
            "batch size: 250\n",
            "n_batches : 50\n",
            "For each batch we read 5 file IDs\n",
            "For each file ID we have 5 labels\n",
            "For each ID, label we have 10 realizations of noise\n",
            "In total, for each batch we have 250 training examples\n",
            "Input batch size: 250\n",
            "N of batches to cover all file IDs: 50\n",
            "------------ DONE ------------\n",
            "\n",
            "------------ BUILDING MODEL ------------\n",
            "Input shape (100, 4)\n",
            "using 1D layers and 4 channels\n",
            "Expected output dimension of layer conv1d: 46.0\n",
            "2020-12-09 19:48:40.608372: I tensorflow/stream_executor/platform/default/dso_loader.cc:48] Successfully opened dynamic library libcuda.so.1\n",
            "2020-12-09 19:48:40.615130: I tensorflow/stream_executor/cuda/cuda_gpu_executor.cc:982] successful NUMA node read from SysFS had negative value (-1), but there must be at least one NUMA node, so returning NUMA node zero\n",
            "2020-12-09 19:48:40.615907: I tensorflow/core/common_runtime/gpu/gpu_device.cc:1716] Found device 0 with properties: \n",
            "pciBusID: 0000:00:04.0 name: Tesla T4 computeCapability: 7.5\n",
            "coreClock: 1.59GHz coreCount: 40 deviceMemorySize: 14.73GiB deviceMemoryBandwidth: 298.08GiB/s\n",
            "2020-12-09 19:48:40.615948: I tensorflow/stream_executor/platform/default/dso_loader.cc:48] Successfully opened dynamic library libcudart.so.10.1\n",
            "2020-12-09 19:48:40.618678: I tensorflow/stream_executor/platform/default/dso_loader.cc:48] Successfully opened dynamic library libcublas.so.10\n",
            "2020-12-09 19:48:40.620654: I tensorflow/stream_executor/platform/default/dso_loader.cc:48] Successfully opened dynamic library libcufft.so.10\n",
            "2020-12-09 19:48:40.621115: I tensorflow/stream_executor/platform/default/dso_loader.cc:48] Successfully opened dynamic library libcurand.so.10\n",
            "2020-12-09 19:48:40.623348: I tensorflow/stream_executor/platform/default/dso_loader.cc:48] Successfully opened dynamic library libcusolver.so.10\n",
            "2020-12-09 19:48:40.624419: I tensorflow/stream_executor/platform/default/dso_loader.cc:48] Successfully opened dynamic library libcusparse.so.10\n",
            "2020-12-09 19:48:40.628424: I tensorflow/stream_executor/platform/default/dso_loader.cc:48] Successfully opened dynamic library libcudnn.so.7\n",
            "2020-12-09 19:48:40.628552: I tensorflow/stream_executor/cuda/cuda_gpu_executor.cc:982] successful NUMA node read from SysFS had negative value (-1), but there must be at least one NUMA node, so returning NUMA node zero\n",
            "2020-12-09 19:48:40.629119: I tensorflow/stream_executor/cuda/cuda_gpu_executor.cc:982] successful NUMA node read from SysFS had negative value (-1), but there must be at least one NUMA node, so returning NUMA node zero\n",
            "2020-12-09 19:48:40.629610: I tensorflow/core/common_runtime/gpu/gpu_device.cc:1858] Adding visible gpu devices: 0\n",
            "2020-12-09 19:48:40.634836: I tensorflow/core/platform/profile_utils/cpu_utils.cc:104] CPU Frequency: 2200000000 Hz\n",
            "2020-12-09 19:48:40.635006: I tensorflow/compiler/xla/service/service.cc:168] XLA service 0x1348bc0 initialized for platform Host (this does not guarantee that XLA will be used). Devices:\n",
            "2020-12-09 19:48:40.635034: I tensorflow/compiler/xla/service/service.cc:176]   StreamExecutor device (0): Host, Default Version\n",
            "2020-12-09 19:48:40.726740: I tensorflow/stream_executor/cuda/cuda_gpu_executor.cc:982] successful NUMA node read from SysFS had negative value (-1), but there must be at least one NUMA node, so returning NUMA node zero\n",
            "2020-12-09 19:48:40.727356: I tensorflow/compiler/xla/service/service.cc:168] XLA service 0x1348a00 initialized for platform CUDA (this does not guarantee that XLA will be used). Devices:\n",
            "2020-12-09 19:48:40.727392: I tensorflow/compiler/xla/service/service.cc:176]   StreamExecutor device (0): Tesla T4, Compute Capability 7.5\n",
            "2020-12-09 19:48:40.727685: I tensorflow/stream_executor/cuda/cuda_gpu_executor.cc:982] successful NUMA node read from SysFS had negative value (-1), but there must be at least one NUMA node, so returning NUMA node zero\n",
            "2020-12-09 19:48:40.728187: I tensorflow/core/common_runtime/gpu/gpu_device.cc:1716] Found device 0 with properties: \n",
            "pciBusID: 0000:00:04.0 name: Tesla T4 computeCapability: 7.5\n",
            "coreClock: 1.59GHz coreCount: 40 deviceMemorySize: 14.73GiB deviceMemoryBandwidth: 298.08GiB/s\n",
            "2020-12-09 19:48:40.728226: I tensorflow/stream_executor/platform/default/dso_loader.cc:48] Successfully opened dynamic library libcudart.so.10.1\n",
            "2020-12-09 19:48:40.728263: I tensorflow/stream_executor/platform/default/dso_loader.cc:48] Successfully opened dynamic library libcublas.so.10\n",
            "2020-12-09 19:48:40.728282: I tensorflow/stream_executor/platform/default/dso_loader.cc:48] Successfully opened dynamic library libcufft.so.10\n",
            "2020-12-09 19:48:40.728301: I tensorflow/stream_executor/platform/default/dso_loader.cc:48] Successfully opened dynamic library libcurand.so.10\n",
            "2020-12-09 19:48:40.728318: I tensorflow/stream_executor/platform/default/dso_loader.cc:48] Successfully opened dynamic library libcusolver.so.10\n",
            "2020-12-09 19:48:40.728335: I tensorflow/stream_executor/platform/default/dso_loader.cc:48] Successfully opened dynamic library libcusparse.so.10\n",
            "2020-12-09 19:48:40.728354: I tensorflow/stream_executor/platform/default/dso_loader.cc:48] Successfully opened dynamic library libcudnn.so.7\n",
            "2020-12-09 19:48:40.728427: I tensorflow/stream_executor/cuda/cuda_gpu_executor.cc:982] successful NUMA node read from SysFS had negative value (-1), but there must be at least one NUMA node, so returning NUMA node zero\n",
            "2020-12-09 19:48:40.728976: I tensorflow/stream_executor/cuda/cuda_gpu_executor.cc:982] successful NUMA node read from SysFS had negative value (-1), but there must be at least one NUMA node, so returning NUMA node zero\n",
            "2020-12-09 19:48:40.729452: I tensorflow/core/common_runtime/gpu/gpu_device.cc:1858] Adding visible gpu devices: 0\n",
            "2020-12-09 19:48:40.729493: I tensorflow/stream_executor/platform/default/dso_loader.cc:48] Successfully opened dynamic library libcudart.so.10.1\n",
            "2020-12-09 19:48:41.326181: I tensorflow/core/common_runtime/gpu/gpu_device.cc:1257] Device interconnect StreamExecutor with strength 1 edge matrix:\n",
            "2020-12-09 19:48:41.326240: I tensorflow/core/common_runtime/gpu/gpu_device.cc:1263]      0 \n",
            "2020-12-09 19:48:41.326251: I tensorflow/core/common_runtime/gpu/gpu_device.cc:1276] 0:   N \n",
            "2020-12-09 19:48:41.326455: I tensorflow/stream_executor/cuda/cuda_gpu_executor.cc:982] successful NUMA node read from SysFS had negative value (-1), but there must be at least one NUMA node, so returning NUMA node zero\n",
            "2020-12-09 19:48:41.327059: I tensorflow/stream_executor/cuda/cuda_gpu_executor.cc:982] successful NUMA node read from SysFS had negative value (-1), but there must be at least one NUMA node, so returning NUMA node zero\n",
            "2020-12-09 19:48:41.327563: W tensorflow/core/common_runtime/gpu/gpu_bfc_allocator.cc:39] Overriding allow_growth setting because the TF_FORCE_GPU_ALLOW_GROWTH environment variable is set. Original config value was 0.\n",
            "2020-12-09 19:48:41.327615: I tensorflow/core/common_runtime/gpu/gpu_device.cc:1402] Created TensorFlow device (/job:localhost/replica:0/task:0/device:GPU:0 with 13213 MB memory) -> physical GPU (device: 0, name: Tesla T4, pci bus id: 0000:00:04.0, compute capability: 7.5)\n",
            "Expected output dimension of layer max_pooling1d: 23.0\n",
            "Expected output dimension of layer conv1d_1: 10.0\n",
            "Expected output dimension of layer max_pooling1d_1: 9.0\n",
            "Expected output dimension of layer conv1d_2: 8.0\n",
            "Model: \"functional_1\"\n",
            "_________________________________________________________________\n",
            "Layer (type)                 Output Shape              Param #   \n",
            "=================================================================\n",
            "input_1 (InputLayer)         [(None, 100, 4)]          0         \n",
            "_________________________________________________________________\n",
            "conv1d (Conv1D)              (None, 46, 8)             328       \n",
            "_________________________________________________________________\n",
            "max_pooling1d (MaxPooling1D) (None, 23, 8)             0         \n",
            "_________________________________________________________________\n",
            "batch_normalization (BatchNo (None, 23, 8)             32        \n",
            "_________________________________________________________________\n",
            "conv1d_1 (Conv1D)            (None, 10, 16)            656       \n",
            "_________________________________________________________________\n",
            "max_pooling1d_1 (MaxPooling1 (None, 9, 16)             0         \n",
            "_________________________________________________________________\n",
            "batch_normalization_1 (Batch (None, 9, 16)             64        \n",
            "_________________________________________________________________\n",
            "conv1d_2 (Conv1D)            (None, 8, 32)             1056      \n",
            "_________________________________________________________________\n",
            "batch_normalization_2 (Batch (None, 8, 32)             128       \n",
            "_________________________________________________________________\n",
            "global_average_pooling1d (Gl (None, 32)                0         \n",
            "_________________________________________________________________\n",
            "dense (Dense)                (None, 32)                1056      \n",
            "_________________________________________________________________\n",
            "batch_normalization_3 (Batch (None, 32)                128       \n",
            "_________________________________________________________________\n",
            "dropout (Dropout)            (None, 32)                0         \n",
            "_________________________________________________________________\n",
            "dense_1 (Dense)              (None, 5)                 165       \n",
            "=================================================================\n",
            "Total params: 3,613\n",
            "Trainable params: 3,437\n",
            "Non-trainable params: 176\n",
            "_________________________________________________________________\n",
            "None\n",
            "2020-12-09 19:48:41.486151: I tensorflow/stream_executor/cuda/cuda_gpu_executor.cc:982] successful NUMA node read from SysFS had negative value (-1), but there must be at least one NUMA node, so returning NUMA node zero\n",
            "2020-12-09 19:48:41.486767: I tensorflow/core/common_runtime/gpu/gpu_device.cc:1716] Found device 0 with properties: \n",
            "pciBusID: 0000:00:04.0 name: Tesla T4 computeCapability: 7.5\n",
            "coreClock: 1.59GHz coreCount: 40 deviceMemorySize: 14.73GiB deviceMemoryBandwidth: 298.08GiB/s\n",
            "2020-12-09 19:48:41.486816: I tensorflow/stream_executor/platform/default/dso_loader.cc:48] Successfully opened dynamic library libcudart.so.10.1\n",
            "2020-12-09 19:48:41.486868: I tensorflow/stream_executor/platform/default/dso_loader.cc:48] Successfully opened dynamic library libcublas.so.10\n",
            "2020-12-09 19:48:41.486889: I tensorflow/stream_executor/platform/default/dso_loader.cc:48] Successfully opened dynamic library libcufft.so.10\n",
            "2020-12-09 19:48:41.486911: I tensorflow/stream_executor/platform/default/dso_loader.cc:48] Successfully opened dynamic library libcurand.so.10\n",
            "2020-12-09 19:48:41.486930: I tensorflow/stream_executor/platform/default/dso_loader.cc:48] Successfully opened dynamic library libcusolver.so.10\n",
            "2020-12-09 19:48:41.486948: I tensorflow/stream_executor/platform/default/dso_loader.cc:48] Successfully opened dynamic library libcusparse.so.10\n",
            "2020-12-09 19:48:41.486968: I tensorflow/stream_executor/platform/default/dso_loader.cc:48] Successfully opened dynamic library libcudnn.so.7\n",
            "2020-12-09 19:48:41.487044: I tensorflow/stream_executor/cuda/cuda_gpu_executor.cc:982] successful NUMA node read from SysFS had negative value (-1), but there must be at least one NUMA node, so returning NUMA node zero\n",
            "2020-12-09 19:48:41.487672: I tensorflow/stream_executor/cuda/cuda_gpu_executor.cc:982] successful NUMA node read from SysFS had negative value (-1), but there must be at least one NUMA node, so returning NUMA node zero\n",
            "2020-12-09 19:48:41.488535: I tensorflow/core/common_runtime/gpu/gpu_device.cc:1858] Adding visible gpu devices: 0\n",
            "2020-12-09 19:48:41.488586: I tensorflow/core/common_runtime/gpu/gpu_device.cc:1257] Device interconnect StreamExecutor with strength 1 edge matrix:\n",
            "2020-12-09 19:48:41.488603: I tensorflow/core/common_runtime/gpu/gpu_device.cc:1263]      0 \n",
            "2020-12-09 19:48:41.488615: I tensorflow/core/common_runtime/gpu/gpu_device.cc:1276] 0:   N \n",
            "2020-12-09 19:48:41.488724: I tensorflow/stream_executor/cuda/cuda_gpu_executor.cc:982] successful NUMA node read from SysFS had negative value (-1), but there must be at least one NUMA node, so returning NUMA node zero\n",
            "2020-12-09 19:48:41.489542: I tensorflow/stream_executor/cuda/cuda_gpu_executor.cc:982] successful NUMA node read from SysFS had negative value (-1), but there must be at least one NUMA node, so returning NUMA node zero\n",
            "2020-12-09 19:48:41.490066: I tensorflow/core/common_runtime/gpu/gpu_device.cc:1402] Created TensorFlow device (/device:GPU:0 with 13213 MB memory) -> physical GPU (device: 0, name: Tesla T4, pci bus id: 0000:00:04.0, compute capability: 7.5)\n",
            "Found GPU at: /device:GPU:0\n",
            "------------ TRAINING ------------\n",
            "\n",
            "Features shape: (250, 100, 4)\n",
            "Labels shape: (250, 5)\n",
            "Initializing checkpoint from scratch.\n",
            "Epoch 0\n",
            "2020-12-09 19:48:42.883173: I tensorflow/stream_executor/platform/default/dso_loader.cc:48] Successfully opened dynamic library libcublas.so.10\n",
            "2020-12-09 19:48:43.210022: I tensorflow/stream_executor/platform/default/dso_loader.cc:48] Successfully opened dynamic library libcudnn.so.7\n",
            "Validation loss decreased. Saved checkpoint for step 1: models/bacon_test/tf_ckpts/ckpt-1\n",
            "Time:  52.55s, ---- Loss: 0.4152, Acc.: 0.6507, Val. Loss: 0.5830, Val. Acc.: 0.7165\n",
            "\n",
            "Epoch 1\n",
            "Validation loss decreased. Saved checkpoint for step 2: models/bacon_test/tf_ckpts/ckpt-2\n",
            "Time:  49.19s, ---- Loss: 0.3366, Acc.: 0.8061, Val. Loss: 0.4038, Val. Acc.: 0.8434\n",
            "\n",
            "Epoch 2\n",
            "Validation loss decreased. Saved checkpoint for step 3: models/bacon_test/tf_ckpts/ckpt-3\n",
            "Time:  49.07s, ---- Loss: 0.2899, Acc.: 0.8374, Val. Loss: 0.3856, Val. Acc.: 0.7965\n",
            "\n",
            "Epoch 3\n",
            "Validation loss decreased. Saved checkpoint for step 4: models/bacon_test/tf_ckpts/ckpt-4\n",
            "Time:  49.37s, ---- Loss: 0.2714, Acc.: 0.8536, Val. Loss: 0.3381, Val. Acc.: 0.8373\n",
            "\n",
            "Epoch 4\n",
            "Loss did not decrease. Count = 1\n",
            "Time:  49.58s, ---- Loss: 0.2602, Acc.: 0.8647, Val. Loss: 0.3412, Val. Acc.: 0.8240\n",
            "\n",
            "Epoch 5\n",
            "Validation loss decreased. Saved checkpoint for step 6: models/bacon_test/tf_ckpts/ckpt-5\n",
            "Time:  49.75s, ---- Loss: 0.2359, Acc.: 0.8729, Val. Loss: 0.3235, Val. Acc.: 0.8474\n",
            "\n",
            "Epoch 6\n",
            "Validation loss decreased. Saved checkpoint for step 7: models/bacon_test/tf_ckpts/ckpt-6\n",
            "Time:  49.18s, ---- Loss: 0.2499, Acc.: 0.8785, Val. Loss: 0.3156, Val. Acc.: 0.8494\n",
            "\n",
            "Epoch 7\n",
            "Loss did not decrease. Count = 1\n",
            "Time:  49.12s, ---- Loss: 0.2453, Acc.: 0.8844, Val. Loss: 0.3393, Val. Acc.: 0.8202\n",
            "\n",
            "Epoch 8\n",
            "Validation loss decreased. Saved checkpoint for step 9: models/bacon_test/tf_ckpts/ckpt-7\n",
            "Time:  49.58s, ---- Loss: 0.2600, Acc.: 0.8898, Val. Loss: 0.2861, Val. Acc.: 0.8763\n",
            "\n",
            "Epoch 9\n",
            "Validation loss decreased. Saved checkpoint for step 10: models/bacon_test/tf_ckpts/ckpt-8\n",
            "Time:  49.41s, ---- Loss: 0.2514, Acc.: 0.8937, Val. Loss: 0.2850, Val. Acc.: 0.8793\n",
            "\n",
            "Epoch 10\n",
            "Validation loss decreased. Saved checkpoint for step 11: models/bacon_test/tf_ckpts/ckpt-9\n",
            "Time:  49.20s, ---- Loss: 0.2321, Acc.: 0.8977, Val. Loss: 0.2640, Val. Acc.: 0.8921\n",
            "\n",
            "Epoch 11\n",
            "Validation loss decreased. Saved checkpoint for step 12: models/bacon_test/tf_ckpts/ckpt-10\n",
            "Time:  49.96s, ---- Loss: 0.2371, Acc.: 0.8997, Val. Loss: 0.2488, Val. Acc.: 0.8998\n",
            "\n",
            "Epoch 12\n",
            "Loss did not decrease. Count = 1\n",
            "Time:  49.29s, ---- Loss: 0.2519, Acc.: 0.9031, Val. Loss: 0.2523, Val. Acc.: 0.9017\n",
            "\n",
            "Epoch 13\n",
            "Loss did not decrease. Count = 2\n",
            "Time:  49.49s, ---- Loss: 0.2240, Acc.: 0.9041, Val. Loss: 0.2694, Val. Acc.: 0.8825\n",
            "\n",
            "Epoch 14\n",
            "Validation loss decreased. Saved checkpoint for step 15: models/bacon_test/tf_ckpts/ckpt-11\n",
            "Time:  49.69s, ---- Loss: 0.2264, Acc.: 0.9065, Val. Loss: 0.2355, Val. Acc.: 0.9112\n",
            "\n",
            "Epoch 15\n",
            "Loss did not decrease. Count = 1\n",
            "Time:  49.42s, ---- Loss: 0.2341, Acc.: 0.9084, Val. Loss: 0.2374, Val. Acc.: 0.9087\n",
            "\n",
            "Epoch 16\n",
            "Loss did not decrease. Count = 2\n",
            "Time:  49.43s, ---- Loss: 0.2507, Acc.: 0.9097, Val. Loss: 0.2463, Val. Acc.: 0.9060\n",
            "\n",
            "Epoch 17\n",
            "Loss did not decrease. Count = 3\n",
            "Time:  49.11s, ---- Loss: 0.2207, Acc.: 0.9109, Val. Loss: 0.2373, Val. Acc.: 0.9105\n",
            "\n",
            "Epoch 18\n",
            "Loss did not decrease. Count = 4\n",
            "Time:  49.59s, ---- Loss: 0.2325, Acc.: 0.9123, Val. Loss: 0.2419, Val. Acc.: 0.9076\n",
            "\n",
            "Epoch 19\n",
            "Loss did not decrease. Count = 5\n",
            "Time:  49.44s, ---- Loss: 0.2424, Acc.: 0.9135, Val. Loss: 0.2359, Val. Acc.: 0.9119\n",
            "\n",
            "Epoch 20\n",
            "Validation loss decreased. Saved checkpoint for step 21: models/bacon_test/tf_ckpts/ckpt-12\n",
            "Time:  49.16s, ---- Loss: 0.2284, Acc.: 0.9146, Val. Loss: 0.2337, Val. Acc.: 0.9122\n",
            "\n",
            "Epoch 21\n",
            "Validation loss decreased. Saved checkpoint for step 22: models/bacon_test/tf_ckpts/ckpt-13\n",
            "Time:  50.18s, ---- Loss: 0.2633, Acc.: 0.9142, Val. Loss: 0.2286, Val. Acc.: 0.9147\n",
            "\n",
            "Epoch 22\n",
            "Loss did not decrease. Count = 1\n",
            "Time:  49.37s, ---- Loss: 0.1941, Acc.: 0.9157, Val. Loss: 0.2308, Val. Acc.: 0.9139\n",
            "\n",
            "Epoch 23\n",
            "Loss did not decrease. Count = 2\n",
            "Time:  49.28s, ---- Loss: 0.2392, Acc.: 0.9167, Val. Loss: 0.2340, Val. Acc.: 0.9138\n",
            "\n",
            "Epoch 24\n",
            "Loss did not decrease. Count = 3\n",
            "Time:  49.57s, ---- Loss: 0.2168, Acc.: 0.9176, Val. Loss: 0.2386, Val. Acc.: 0.9114\n",
            "\n",
            "Epoch 25\n",
            "Loss did not decrease. Count = 4\n",
            "Time:  49.36s, ---- Loss: 0.2282, Acc.: 0.9176, Val. Loss: 0.2349, Val. Acc.: 0.9134\n",
            "\n",
            "Epoch 26\n",
            "Loss did not decrease. Count = 5\n",
            "Time:  49.51s, ---- Loss: 0.2184, Acc.: 0.9190, Val. Loss: 0.2333, Val. Acc.: 0.9138\n",
            "\n",
            "Epoch 27\n",
            "Loss did not decrease. Count = 6\n",
            "Time:  49.33s, ---- Loss: 0.2147, Acc.: 0.9185, Val. Loss: 0.2299, Val. Acc.: 0.9137\n",
            "\n",
            "Epoch 28\n",
            "Loss did not decrease. Count = 7\n",
            "Time:  49.24s, ---- Loss: 0.2484, Acc.: 0.9198, Val. Loss: 0.2329, Val. Acc.: 0.9139\n",
            "\n",
            "Epoch 29\n",
            "Loss did not decrease. Count = 8\n",
            "Time:  49.40s, ---- Loss: 0.2141, Acc.: 0.9190, Val. Loss: 0.2326, Val. Acc.: 0.9142\n",
            "\n",
            "Epoch 30\n",
            "Loss did not decrease. Count = 9\n",
            "Time:  49.58s, ---- Loss: 0.2432, Acc.: 0.9204, Val. Loss: 0.2351, Val. Acc.: 0.9125\n",
            "\n",
            "Epoch 31\n",
            "Loss did not decrease. Count = 10\n",
            "Time:  49.28s, ---- Loss: 0.2145, Acc.: 0.9222, Val. Loss: 0.2335, Val. Acc.: 0.9135\n",
            "\n",
            "Epoch 32\n",
            "Loss did not decrease. Count = 11\n",
            "Time:  49.34s, ---- Loss: 0.2141, Acc.: 0.9217, Val. Loss: 0.2295, Val. Acc.: 0.9149\n",
            "\n",
            "Epoch 33\n",
            "Loss did not decrease. Count = 12\n",
            "Time:  49.44s, ---- Loss: 0.2127, Acc.: 0.9213, Val. Loss: 0.2342, Val. Acc.: 0.9122\n",
            "\n",
            "Epoch 34\n",
            "Loss did not decrease. Count = 13\n",
            "Time:  49.49s, ---- Loss: 0.2322, Acc.: 0.9223, Val. Loss: 0.2338, Val. Acc.: 0.9127\n",
            "\n",
            "Epoch 35\n",
            "Loss did not decrease. Count = 14\n",
            "Time:  49.41s, ---- Loss: 0.2248, Acc.: 0.9222, Val. Loss: 0.2354, Val. Acc.: 0.9137\n",
            "\n",
            "Epoch 36\n",
            "Loss did not decrease. Count = 15\n",
            "Time:  49.40s, ---- Loss: 0.2064, Acc.: 0.9226, Val. Loss: 0.2386, Val. Acc.: 0.9120\n",
            "\n",
            "Epoch 37\n",
            "Loss did not decrease. Count = 16\n",
            "Time:  49.55s, ---- Loss: 0.2100, Acc.: 0.9231, Val. Loss: 0.2348, Val. Acc.: 0.9142\n",
            "\n",
            "Epoch 38\n",
            "Loss did not decrease. Count = 17\n",
            "Time:  49.22s, ---- Loss: 0.1872, Acc.: 0.9223, Val. Loss: 0.2355, Val. Acc.: 0.9134\n",
            "\n",
            "Epoch 39\n",
            "Loss did not decrease. Count = 18\n",
            "Time:  49.56s, ---- Loss: 0.2095, Acc.: 0.9230, Val. Loss: 0.2401, Val. Acc.: 0.9127\n",
            "\n",
            "Epoch 40\n",
            "Loss did not decrease. Count = 19\n",
            "Time:  49.48s, ---- Loss: 0.2001, Acc.: 0.9235, Val. Loss: 0.2365, Val. Acc.: 0.9126\n",
            "\n",
            "Epoch 41\n",
            "Loss did not decrease. Count = 20\n",
            "Time:  49.19s, ---- Loss: 0.1919, Acc.: 0.9247, Val. Loss: 0.2349, Val. Acc.: 0.9126\n",
            "\n",
            "Epoch 42\n",
            "Loss did not decrease. Count = 21\n",
            "Time:  49.19s, ---- Loss: 0.2285, Acc.: 0.9242, Val. Loss: 0.2341, Val. Acc.: 0.9155\n",
            "\n",
            "Epoch 43\n",
            "Loss did not decrease. Count = 22\n",
            "Time:  49.79s, ---- Loss: 0.1895, Acc.: 0.9249, Val. Loss: 0.2357, Val. Acc.: 0.9134\n",
            "\n",
            "Epoch 44\n",
            "Loss did not decrease. Count = 23\n",
            "Time:  49.20s, ---- Loss: 0.2104, Acc.: 0.9246, Val. Loss: 0.2380, Val. Acc.: 0.9137\n",
            "\n",
            "Epoch 45\n",
            "Loss did not decrease. Count = 24\n",
            "Time:  49.19s, ---- Loss: 0.1923, Acc.: 0.9258, Val. Loss: 0.2353, Val. Acc.: 0.9138\n",
            "\n",
            "Epoch 46\n",
            "Loss did not decrease. Count = 25\n",
            "Time:  49.18s, ---- Loss: 0.2035, Acc.: 0.9255, Val. Loss: 0.2355, Val. Acc.: 0.9130\n",
            "\n",
            "Epoch 47\n",
            "Loss did not decrease. Count = 26\n",
            "Time:  49.41s, ---- Loss: 0.2193, Acc.: 0.9249, Val. Loss: 0.2370, Val. Acc.: 0.9119\n",
            "\n",
            "Epoch 48\n",
            "Loss did not decrease. Count = 27\n",
            "Time:  49.28s, ---- Loss: 0.2042, Acc.: 0.9254, Val. Loss: 0.2403, Val. Acc.: 0.9117\n",
            "\n",
            "Epoch 49\n",
            "Loss did not decrease. Count = 28\n",
            "Time:  49.34s, ---- Loss: 0.1854, Acc.: 0.9252, Val. Loss: 0.2390, Val. Acc.: 0.9107\n",
            "\n",
            "Saving at models/bacon_test/hist.png\n",
            "Done in 2474.76s\n"
          ],
          "name": "stdout"
        }
      ]
    },
    {
      "cell_type": "code",
      "metadata": {
        "colab": {
          "base_uri": "https://localhost:8080/",
          "height": 125
        },
        "id": "_xgA23m4I-8J",
        "outputId": "3d76897f-1702-4eb2-a6ab-b9a91644dd95"
      },
      "source": [
        "import matplotlib.image as mpimg\n",
        "\n",
        "img = mpimg.imread('models/bacon_test/hist.png')\n",
        "plt.imshow(img)\n",
        "plt.show()"
      ],
      "execution_count": 106,
      "outputs": [
        {
          "output_type": "display_data",
          "data": {
            "image/png": "[encoded data removed]",
            "text/plain": [
              "<Figure size 432x288 with 1 Axes>"
            ]
          },
          "metadata": {
            "tags": [],
            "needs_background": "light"
          }
        }
      ]
    },
    {
      "cell_type": "markdown",
      "metadata": {
        "id": "rn6gdNQQBiEO"
      },
      "source": [
        "Improvements:\n",
        "\n",
        "* batch size\n",
        "* "
      ]
    }
  ]
}